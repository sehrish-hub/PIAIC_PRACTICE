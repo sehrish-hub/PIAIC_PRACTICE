{
  "cells": [
    {
      "cell_type": "markdown",
      "metadata": {
        "id": "IU_oS4hqVtMg"
      },
      "source": [
        "1 TO 3 CHAPTERS from github and covered from  python lists all topic"
      ]
    },
    {
      "cell_type": "code",
      "execution_count": null,
      "metadata": {
        "id": "LAovDDcwVtMi",
        "outputId": "44042255-cb23-4614-ad08-6f284eb64cfd"
      },
      "outputs": [
        {
          "name": "stdout",
          "output_type": "stream",
          "text": [
            "sehrish shafiq\n",
            "sehrish,shafiq\n"
          ]
        }
      ],
      "source": [
        "name = \"sehrish\"\n",
        "f_name = \"shafiq\"\n",
        "print(name,f_name)\n",
        "print(f\"{name},{f_name}\")"
      ]
    },
    {
      "cell_type": "code",
      "execution_count": null,
      "metadata": {
        "id": "hdlTMzPmVtMl",
        "outputId": "59ade342-51cf-45a5-a072-a8f03c401375"
      },
      "outputs": [
        {
          "name": "stdout",
          "output_type": "stream",
          "text": [
            "sehr\n"
          ]
        }
      ],
      "source": [
        "x = \"sehrish\"\n",
        "x = \"sehr\"\n",
        "print(x)"
      ]
    },
    {
      "cell_type": "code",
      "execution_count": null,
      "metadata": {
        "id": "yzFe06A3VtMl",
        "outputId": "ca401657-a4e1-4183-bbfa-c5ecf72d19bb"
      },
      "outputs": [
        {
          "name": "stdout",
          "output_type": "stream",
          "text": [
            "x\n"
          ]
        }
      ],
      "source": [
        "x = \"sehr\"\n",
        "print(\"x\")"
      ]
    },
    {
      "cell_type": "code",
      "execution_count": null,
      "metadata": {
        "id": "gp7DUaSiVtMl",
        "outputId": "756464a8-c5cc-428c-bea0-015868f56599"
      },
      "outputs": [
        {
          "name": "stdout",
          "output_type": "stream",
          "text": [
            "sehr\n",
            "sehrish\n"
          ]
        }
      ],
      "source": [
        "x = \"sehr\"\n",
        "y = \"sehrish\"\n",
        "print(x)\n",
        "print(y)\n"
      ]
    },
    {
      "cell_type": "code",
      "execution_count": null,
      "metadata": {
        "id": "ZExg2XYiVtMm",
        "outputId": "9b99bb1f-3e46-4023-e019-be5314b356b9"
      },
      "outputs": [
        {
          "name": "stdout",
          "output_type": "stream",
          "text": [
            "4 4\n"
          ]
        }
      ],
      "source": [
        "x =3\n",
        "x =4\n",
        "print(x,x)"
      ]
    },
    {
      "cell_type": "code",
      "execution_count": null,
      "metadata": {
        "id": "5ADGE8vRVtMm",
        "outputId": "c49a850d-05e8-410d-ba15-0b723bf0447e"
      },
      "outputs": [
        {
          "name": "stdout",
          "output_type": "stream",
          "text": [
            "4\n"
          ]
        }
      ],
      "source": [
        "x=3\n",
        "x=4\n",
        "print(x)"
      ]
    },
    {
      "cell_type": "code",
      "execution_count": null,
      "metadata": {
        "id": "tJT0y0HLVtMm",
        "outputId": "81c99f72-35ab-436a-96df-2632a4b5cfd8"
      },
      "outputs": [
        {
          "name": "stdout",
          "output_type": "stream",
          "text": [
            "sehrish 4 3.0\n"
          ]
        }
      ],
      "source": [
        "x = str(\"sehrish\")\n",
        "y = int(4)\n",
        "z = float(3)\n",
        "print(x,y,z)\n",
        "\n",
        "\n"
      ]
    },
    {
      "cell_type": "code",
      "execution_count": null,
      "metadata": {
        "id": "4Pdp1Yz4VtMn",
        "outputId": "0e8039d3-c8ca-4fec-80d9-87a946529604"
      },
      "outputs": [
        {
          "name": "stdout",
          "output_type": "stream",
          "text": [
            "sehrish 4 3.0\n"
          ]
        }
      ],
      "source": [
        "x = str(\"sehrish\")\n",
        "y = int(4)\n",
        "z = float(3)\n",
        "print(f\"{x} {y} {z}\")"
      ]
    },
    {
      "cell_type": "code",
      "execution_count": null,
      "metadata": {
        "id": "iZssUzxYVtMn",
        "outputId": "ce69ad0a-9212-4e01-ee3c-d3b9db28d05b"
      },
      "outputs": [
        {
          "ename": "SyntaxError",
          "evalue": "unexpected character after line continuation character (3138120627.py, line 5)",
          "output_type": "error",
          "traceback": [
            "\u001b[1;36m  Cell \u001b[1;32mIn[9], line 5\u001b[1;36m\u001b[0m\n\u001b[1;33m    print(type({x}\\n {y}\\n {z}))\u001b[0m\n\u001b[1;37m                   ^\u001b[0m\n\u001b[1;31mSyntaxError\u001b[0m\u001b[1;31m:\u001b[0m unexpected character after line continuation character\n"
          ]
        }
      ],
      "source": [
        "x = str(\"sehrish\")\n",
        "y = int(4)\n",
        "z = float(3)\n",
        "print(f\"{x}\\n {y}\\n {z}\")\n",
        "print(type({x}\\n {y}\\n {z}))\n"
      ]
    },
    {
      "cell_type": "code",
      "execution_count": null,
      "metadata": {
        "id": "IkSoV9UnVtMn",
        "outputId": "ddeab200-bdce-4ed7-8992-9b300ed42dc3"
      },
      "outputs": [
        {
          "name": "stdout",
          "output_type": "stream",
          "text": [
            "sehrish shafiq\n"
          ]
        }
      ],
      "source": [
        "first_name:str=\"sehrish\"\n",
        "last_name:str=\"shafiq\"\n",
        "full_name:str=f'{first_name} {last_name}'\n",
        "print(full_name)"
      ]
    },
    {
      "cell_type": "code",
      "execution_count": null,
      "metadata": {
        "id": "WbcomvkRVtMo"
      },
      "outputs": [],
      "source": [
        "first_name:str = \"ada\"\n",
        "last_name:str = \"lovelace\"\n",
        "full_name:str = f\"{first_name} {last_name}\"\n",
        "print(full_name)"
      ]
    },
    {
      "cell_type": "code",
      "execution_count": null,
      "metadata": {
        "id": "cPsP1sIHVtMo"
      },
      "outputs": [],
      "source": [
        "first_name:str = \"ada\"\n",
        "last_name:str = \"lovelace\"\n",
        "full_name:str = f\"{first_name} {last_name}\"\n",
        "print(f\"Hello, {full_name.title()}!\")"
      ]
    },
    {
      "cell_type": "code",
      "execution_count": null,
      "metadata": {
        "id": "lu-3SCVJVtMo",
        "outputId": "e3545d8c-99d0-420a-dae6-4efbd3adf2e9"
      },
      "outputs": [
        {
          "name": "stdout",
          "output_type": "stream",
          "text": [
            "Hello, Ada Lovelace!\n"
          ]
        }
      ],
      "source": [
        "first_name:str = \"ada\"\n",
        "last_name:str = \"lovelace\"\n",
        "full_name:str = f\"{first_name} {last_name}\"\n",
        "message:str = f\"Hello, {full_name.title()}!\"\n",
        "print(message)"
      ]
    },
    {
      "cell_type": "code",
      "execution_count": null,
      "metadata": {
        "id": "RgRV30QyVtMo",
        "outputId": "e0b820ab-35bc-4794-a3f6-306a20726e7a"
      },
      "outputs": [
        {
          "name": "stdout",
          "output_type": "stream",
          "text": [
            "Hello Python world!\n"
          ]
        }
      ],
      "source": [
        "message:str = \"Hello Python world!\"\n",
        "print(message)"
      ]
    },
    {
      "cell_type": "code",
      "execution_count": null,
      "metadata": {
        "id": "7fu6uWdUVtMp",
        "outputId": "33479304-1ed4-4abc-f558-2228d57bdf8b"
      },
      "outputs": [
        {
          "name": "stdout",
          "output_type": "stream",
          "text": [
            "hello!\n"
          ]
        }
      ],
      "source": [
        "message:str=\"hello!\"\n",
        "print(message)"
      ]
    },
    {
      "cell_type": "code",
      "execution_count": null,
      "metadata": {
        "id": "z5NLKE3fVtMp",
        "outputId": "e2dfff70-d445-4fc4-c97a-f699c6f7dfb5"
      },
      "outputs": [
        {
          "name": "stdout",
          "output_type": "stream",
          "text": [
            "hello!\n",
            "python!\n",
            "Hello Python world!\n",
            "Hello Python Crash Course world!\n"
          ]
        }
      ],
      "source": [
        "message:str=\"hello!\"\n",
        "print(message)\n",
        "\n",
        "message:str=\"python!\"\n",
        "print(message)\n",
        "message:str = \"Hello Python world!\"\n",
        "print(message)\n",
        "\n",
        "message:str = \"Hello Python Crash Course world!\"\n",
        "print(message)"
      ]
    },
    {
      "cell_type": "code",
      "execution_count": null,
      "metadata": {
        "id": "pdM5809xVtMp",
        "outputId": "ff742870-713e-48ff-810e-b4b842aa3ad2"
      },
      "outputs": [
        {
          "name": "stdout",
          "output_type": "stream",
          "text": [
            "Hello My Name Is Sehr\n",
            "Ada Lovelace\n"
          ]
        }
      ],
      "source": [
        "message:str=\"hello my name is sehr\"\n",
        "print(message.title())\n",
        "\n",
        "name:str = \"ada lovelace\"\n",
        "print(name.title())"
      ]
    },
    {
      "cell_type": "code",
      "execution_count": null,
      "metadata": {
        "id": "B_AChOEbVtMp",
        "outputId": "1900d16d-8eb3-443b-d339-7038459f08de"
      },
      "outputs": [
        {
          "name": "stdout",
          "output_type": "stream",
          "text": [
            "hello world\n",
            "Pakistan Is Our Country\n",
            "\n",
            "PAKISTAN IS OUR COUNTRY\n",
            "pakistan is our country\n",
            "Ada Lovelace\n",
            "ADA LOVELACE\n",
            "ada lovelace\n"
          ]
        }
      ],
      "source": [
        "name:str=\"Hello world\"\n",
        "print(name.lower())\n",
        "\n",
        "\n",
        "name:str=\"Pakistan Is Our Country\"\n",
        "print(name)\n",
        "print() # this creates a blank line\n",
        "print(name.upper())\n",
        "print(name.lower())\n",
        "\n",
        "name:str = \"Ada Lovelace\"\n",
        "print(name)\n",
        "print(name.upper())\n",
        "print(name.lower())"
      ]
    },
    {
      "cell_type": "markdown",
      "metadata": {
        "id": "SFAjq1V7VtMp"
      },
      "source": [
        "list:\n",
        "Lists are used to store multiple items in a single variable."
      ]
    },
    {
      "cell_type": "code",
      "execution_count": null,
      "metadata": {
        "id": "wkd4RGyHVtMq"
      },
      "outputs": [],
      "source": [
        "mylist = [\"apple\", \"banana\", \"cherry\"]"
      ]
    },
    {
      "cell_type": "code",
      "execution_count": null,
      "metadata": {
        "id": "Cw3mi3msVtMq",
        "outputId": "0d931899-8544-40e3-b3f7-f428713cd94b"
      },
      "outputs": [
        {
          "name": "stdout",
          "output_type": "stream",
          "text": [
            "['apple', 'mango', 'banana']\n"
          ]
        }
      ],
      "source": [
        "# create list\n",
        "mylist = [\"apple\",\"mango\",\"banana\"]\n",
        "print(mylist)"
      ]
    },
    {
      "cell_type": "markdown",
      "metadata": {
        "id": "2YdE6yJ0VtMq"
      },
      "source": [
        "List Items\n",
        "List items are ordered, changeable, and allow duplicate values.\n",
        "\n",
        "List items are indexed, the first item has index [0], the second item has index [1] etc."
      ]
    },
    {
      "cell_type": "markdown",
      "metadata": {
        "id": "XBdMXAY_VtMq"
      },
      "source": [
        "Ordered\n",
        "When we say that lists are ordered, it means that the items have a defined order, and that order will not change.\n",
        "\n",
        "If you add new items to a list, the new items will be placed at the end of the list."
      ]
    },
    {
      "cell_type": "markdown",
      "metadata": {
        "id": "O2OOey_pVtMq"
      },
      "source": [
        "Changeable\n",
        "The list is changeable, meaning that we can change, add, and remove items in a list after it has been created.\n"
      ]
    },
    {
      "cell_type": "markdown",
      "metadata": {
        "id": "8h2tjlG8VtMq"
      },
      "source": [
        "Allow Duplicates\n",
        "Since lists are indexed, lists can have items with the same value:"
      ]
    },
    {
      "cell_type": "code",
      "execution_count": null,
      "metadata": {
        "id": "n2_3O17eVtMr",
        "outputId": "23bb17ff-1f53-4eee-a54a-2d61aa064599"
      },
      "outputs": [
        {
          "name": "stdout",
          "output_type": "stream",
          "text": [
            "['apple', 'mango', 'banana', 'apple', 'banana']\n",
            "\n",
            "['apple', 'banana', 'cherry', 'apple', 'cherry']\n"
          ]
        }
      ],
      "source": [
        "list=[\"apple\",\"mango\",\"banana\",\"apple\",\"banana\"]\n",
        "print(list)\n",
        "print()\n",
        "thislist = [\"apple\", \"banana\", \"cherry\", \"apple\", \"cherry\"]\n",
        "print(thislist)"
      ]
    },
    {
      "cell_type": "markdown",
      "metadata": {
        "id": "WId7MuF4VtMr"
      },
      "source": [
        "List Length\n",
        "To determine how many items a list has, use the len() function:"
      ]
    },
    {
      "cell_type": "code",
      "execution_count": null,
      "metadata": {
        "id": "fNKUMR9pVtMr",
        "outputId": "63b8962e-c69a-404b-8205-9f22825fc402"
      },
      "outputs": [
        {
          "name": "stdout",
          "output_type": "stream",
          "text": [
            "['apple', 'mango', 'banana', 'cherry']\n",
            "4\n",
            "<class 'list'>\n"
          ]
        }
      ],
      "source": [
        "# Print the number of items in the list:\n",
        "thislist=[\"apple\",\"mango\",\"banana\",\"cherry\"]\n",
        "print(thislist)\n",
        "thislist=[\"apple\",\"mango\",\"banana\",\"cherry\"]\n",
        "print(len(thislist))\n",
        "print(type(thislist))"
      ]
    },
    {
      "cell_type": "markdown",
      "metadata": {
        "id": "guR0HOXZVtMr"
      },
      "source": [
        "List Items - Data Types\n",
        "List items can be of any data type:"
      ]
    },
    {
      "cell_type": "code",
      "execution_count": null,
      "metadata": {
        "id": "OqUS4-8AVtMr",
        "outputId": "5a2751b6-863b-4e1b-9667-e903cd61cb1b"
      },
      "outputs": [
        {
          "name": "stdout",
          "output_type": "stream",
          "text": [
            "['apple', 'mango', 'banana']\n",
            "3\n",
            "<class 'list'>\n",
            "\n",
            "[1, 2, 3, 5]\n",
            "4\n",
            "\n",
            "['true', 'false', 'false']\n",
            "3\n",
            "\n",
            "[True, False, False]\n",
            "3\n",
            "\n",
            "['apple', 'mango', 'banana', 'cherry', 'apple', 'mango', 'apple']\n",
            "7\n",
            "\n",
            "[1, 3, 4, 6, 1, 3]\n",
            "6\n",
            "\n"
          ]
        }
      ],
      "source": [
        "#String, int and boolean data types:\n",
        "list1=[\"apple\",\"mango\",\"banana\"]\n",
        "print(list1)\n",
        "print(len(list1))\n",
        "print(type(list1))\n",
        "print()\n",
        "\n",
        "list2=[1,2,3,5]\n",
        "print(list2)\n",
        "print(len(list2))\n",
        "print()\n",
        "\n",
        "list3=[\"true\",\"false\",\"false\"]\n",
        "print(list3)\n",
        "print(len(list3))\n",
        "print()\n",
        "\n",
        "list4=[True,False,False]\n",
        "print(list4)\n",
        "print(len(list4))\n",
        "print()\n",
        "\n",
        "list5=[\"apple\",\"mango\",\"banana\",\"cherry\",\"apple\",\"mango\",\"apple\"]\n",
        "print(list5)\n",
        "print(len(list5))\n",
        "print()\n",
        "\n",
        "list6=[1,3,4,6,1,3]\n",
        "print(list6)\n",
        "print(len(list6))\n",
        "print()"
      ]
    },
    {
      "cell_type": "markdown",
      "metadata": {
        "id": "i6tP269rVtMr"
      },
      "source": [
        "A list can contain different data types:\n",
        "A list with strings, integers and boolean values:"
      ]
    },
    {
      "cell_type": "code",
      "execution_count": null,
      "metadata": {
        "id": "zR71AIHRVtMs",
        "outputId": "545f893a-e467-40ce-d8d4-a7c4d1be3f7b"
      },
      "outputs": [
        {
          "name": "stdout",
          "output_type": "stream",
          "text": [
            "['sehr', 34, True, 40, 'male', 'male']\n"
          ]
        }
      ],
      "source": [
        "list=[\"sehr\",34,True,40,\"male\",\"male\"]\n",
        "print(list)"
      ]
    },
    {
      "cell_type": "markdown",
      "metadata": {
        "id": "WqjulVnoVtMs"
      },
      "source": [
        "type()\n",
        "From Python's perspective, lists are defined as objects with the data type 'list':\n",
        "<class 'list'>"
      ]
    },
    {
      "cell_type": "code",
      "execution_count": null,
      "metadata": {
        "id": "JRnVqmuwVtMs",
        "outputId": "df59e346-b100-42b7-fde2-447953425afc"
      },
      "outputs": [
        {
          "name": "stdout",
          "output_type": "stream",
          "text": [
            "<class 'list'>\n"
          ]
        }
      ],
      "source": [
        "#What is the data type of a list?\n",
        "mylist = [\"apple\", \"banana\", \"cherry\"]\n",
        "print(type(mylist))"
      ]
    },
    {
      "cell_type": "markdown",
      "metadata": {
        "id": "sg8pkRk6VtMs"
      },
      "source": [
        "The list() Constructor\n",
        "It is also possible to use the list() constructor when creating a new list."
      ]
    },
    {
      "cell_type": "code",
      "execution_count": null,
      "metadata": {
        "id": "HQTF0_xtVtMs",
        "outputId": "e77eb6f4-e113-4782-a71d-c2e677135a2a"
      },
      "outputs": [
        {
          "ename": "TypeError",
          "evalue": "'list' object is not callable",
          "output_type": "error",
          "traceback": [
            "\u001b[1;31m---------------------------------------------------------------------------\u001b[0m",
            "\u001b[1;31mTypeError\u001b[0m                                 Traceback (most recent call last)",
            "Cell \u001b[1;32mIn[135], line 3\u001b[0m\n\u001b[0;32m      1\u001b[0m \u001b[38;5;66;03m#Using the list() constructor to make a List:\u001b[39;00m\n\u001b[0;32m      2\u001b[0m \u001b[38;5;28;01mfrom\u001b[39;00m \u001b[38;5;21;01mtyping\u001b[39;00m \u001b[38;5;28;01mimport\u001b[39;00m List\n\u001b[1;32m----> 3\u001b[0m thislist \u001b[38;5;241m=\u001b[39m \u001b[38;5;28;43mlist\u001b[39;49m\u001b[43m(\u001b[49m\u001b[43m[\u001b[49m\u001b[38;5;124;43m\"\u001b[39;49m\u001b[38;5;124;43mapple\u001b[39;49m\u001b[38;5;124;43m\"\u001b[39;49m\u001b[43m,\u001b[49m\u001b[38;5;124;43m\"\u001b[39;49m\u001b[38;5;124;43mbanana\u001b[39;49m\u001b[38;5;124;43m\"\u001b[39;49m\u001b[43m,\u001b[49m\u001b[38;5;124;43m\"\u001b[39;49m\u001b[38;5;124;43morange\u001b[39;49m\u001b[38;5;124;43m\"\u001b[39;49m\u001b[43m]\u001b[49m\u001b[43m)\u001b[49m\n\u001b[0;32m      4\u001b[0m \u001b[38;5;28mprint\u001b[39m(thislist)\n\u001b[0;32m      5\u001b[0m \u001b[38;5;28;01mfrom\u001b[39;00m \u001b[38;5;21;01mtyping\u001b[39;00m \u001b[38;5;28;01mimport\u001b[39;00m List\n",
            "\u001b[1;31mTypeError\u001b[0m: 'list' object is not callable"
          ]
        }
      ],
      "source": [
        "#Using the list() constructor to make a List:\n",
        "from typing import List\n",
        "thislist = list([\"apple\",\"banana\",\"orange\"])\n",
        "print(thislist)\n",
        "from typing import List\n",
        "thislist = list((\"apple\", \"banana\", \"cherry\")) # note the double round-brackets\n",
        "print(thislist)\n"
      ]
    },
    {
      "cell_type": "code",
      "execution_count": null,
      "metadata": {
        "id": "3CLLsNDJVtMt",
        "outputId": "a673292c-7a82-47f4-d32e-1e5a1acda319"
      },
      "outputs": [
        {
          "name": "stdout",
          "output_type": "stream",
          "text": [
            "['apple', 'banana', 'orange']\n"
          ]
        }
      ],
      "source": [
        "my_list = [\"apple\", \"banana\", \"orange\"]\n",
        "print(my_list)"
      ]
    },
    {
      "cell_type": "code",
      "execution_count": null,
      "metadata": {
        "id": "qmslzrZuVtMt",
        "outputId": "a0ec4236-75e2-436c-ca55-bc9eaa19476d"
      },
      "outputs": [
        {
          "ename": "TypeError",
          "evalue": "'list' object is not callable",
          "output_type": "error",
          "traceback": [
            "\u001b[1;31m---------------------------------------------------------------------------\u001b[0m",
            "\u001b[1;31mTypeError\u001b[0m                                 Traceback (most recent call last)",
            "Cell \u001b[1;32mIn[137], line 1\u001b[0m\n\u001b[1;32m----> 1\u001b[0m my_list \u001b[38;5;241m=\u001b[39m \u001b[38;5;28;43mlist\u001b[39;49m\u001b[43m(\u001b[49m\u001b[43m[\u001b[49m\u001b[38;5;124;43m\"\u001b[39;49m\u001b[38;5;124;43mapple\u001b[39;49m\u001b[38;5;124;43m\"\u001b[39;49m\u001b[43m,\u001b[49m\u001b[43m \u001b[49m\u001b[38;5;124;43m\"\u001b[39;49m\u001b[38;5;124;43mbanana\u001b[39;49m\u001b[38;5;124;43m\"\u001b[39;49m\u001b[43m,\u001b[49m\u001b[43m \u001b[49m\u001b[38;5;124;43m\"\u001b[39;49m\u001b[38;5;124;43morange\u001b[39;49m\u001b[38;5;124;43m\"\u001b[39;49m\u001b[43m]\u001b[49m\u001b[43m)\u001b[49m \n\u001b[0;32m      2\u001b[0m \u001b[38;5;28mprint\u001b[39m(my_list)\n",
            "\u001b[1;31mTypeError\u001b[0m: 'list' object is not callable"
          ]
        }
      ],
      "source": [
        "my_list = list([\"apple\", \"banana\", \"orange\"])\n",
        "print(my_list)"
      ]
    },
    {
      "cell_type": "code",
      "execution_count": null,
      "metadata": {
        "id": "e-Cfo3jEVtMz",
        "outputId": "08a878e8-ce3f-41ef-c4c3-9785fc917c13"
      },
      "outputs": [
        {
          "ename": "TypeError",
          "evalue": "'list' object is not callable",
          "output_type": "error",
          "traceback": [
            "\u001b[1;31m---------------------------------------------------------------------------\u001b[0m",
            "\u001b[1;31mTypeError\u001b[0m                                 Traceback (most recent call last)",
            "Cell \u001b[1;32mIn[138], line 1\u001b[0m\n\u001b[1;32m----> 1\u001b[0m thislist \u001b[38;5;241m=\u001b[39m \u001b[38;5;28;43mlist\u001b[39;49m\u001b[43m(\u001b[49m\u001b[43m(\u001b[49m\u001b[38;5;124;43m\"\u001b[39;49m\u001b[38;5;124;43mapple\u001b[39;49m\u001b[38;5;124;43m\"\u001b[39;49m\u001b[43m,\u001b[49m\u001b[43m \u001b[49m\u001b[38;5;124;43m\"\u001b[39;49m\u001b[38;5;124;43mbanana\u001b[39;49m\u001b[38;5;124;43m\"\u001b[39;49m\u001b[43m,\u001b[49m\u001b[43m \u001b[49m\u001b[38;5;124;43m\"\u001b[39;49m\u001b[38;5;124;43mcherry\u001b[39;49m\u001b[38;5;124;43m\"\u001b[39;49m\u001b[43m)\u001b[49m\u001b[43m)\u001b[49m\n\u001b[0;32m      2\u001b[0m \u001b[38;5;28mprint\u001b[39m(thislist)\n",
            "\u001b[1;31mTypeError\u001b[0m: 'list' object is not callable"
          ]
        }
      ],
      "source": [
        "thislist = list((\"apple\", \"banana\", \"cherry\"))\n",
        "print(thislist)"
      ]
    },
    {
      "cell_type": "code",
      "execution_count": null,
      "metadata": {
        "id": "gZvEoO-YVtM0",
        "outputId": "383a83aa-96bf-40d7-f484-cdfb8398446d"
      },
      "outputs": [
        {
          "ename": "TypeError",
          "evalue": "'list' object is not callable",
          "output_type": "error",
          "traceback": [
            "\u001b[1;31m---------------------------------------------------------------------------\u001b[0m",
            "\u001b[1;31mTypeError\u001b[0m                                 Traceback (most recent call last)",
            "Cell \u001b[1;32mIn[113], line 1\u001b[0m\n\u001b[1;32m----> 1\u001b[0m thislist \u001b[38;5;241m=\u001b[39m \u001b[38;5;28;43mlist\u001b[39;49m\u001b[43m(\u001b[49m\u001b[43m(\u001b[49m\u001b[38;5;124;43m\"\u001b[39;49m\u001b[38;5;124;43mapple\u001b[39;49m\u001b[38;5;124;43m\"\u001b[39;49m\u001b[43m,\u001b[49m\u001b[43m \u001b[49m\u001b[38;5;124;43m\"\u001b[39;49m\u001b[38;5;124;43mbanana\u001b[39;49m\u001b[38;5;124;43m\"\u001b[39;49m\u001b[43m,\u001b[49m\u001b[43m \u001b[49m\u001b[38;5;124;43m\"\u001b[39;49m\u001b[38;5;124;43mcherry\u001b[39;49m\u001b[38;5;124;43m\"\u001b[39;49m\u001b[43m)\u001b[49m\u001b[43m)\u001b[49m\n\u001b[0;32m      2\u001b[0m \u001b[38;5;28mprint\u001b[39m(thislist)\n",
            "\u001b[1;31mTypeError\u001b[0m: 'list' object is not callable"
          ]
        }
      ],
      "source": [
        "thislist = list((\"apple\", \"banana\", \"cherry\"))\n",
        "print(thislist)\n"
      ]
    },
    {
      "cell_type": "code",
      "execution_count": null,
      "metadata": {
        "id": "2Eoul7piVtM0",
        "outputId": "037caee7-4b1a-4e0f-fb79-2d8724e39720"
      },
      "outputs": [
        {
          "ename": "TypeError",
          "evalue": "Type List cannot be instantiated; use list() instead",
          "output_type": "error",
          "traceback": [
            "\u001b[1;31m---------------------------------------------------------------------------\u001b[0m",
            "\u001b[1;31mTypeError\u001b[0m                                 Traceback (most recent call last)",
            "Cell \u001b[1;32mIn[164], line 1\u001b[0m\n\u001b[1;32m----> 1\u001b[0m mylist \u001b[38;5;241m=\u001b[39m \u001b[43mList\u001b[49m\u001b[43m(\u001b[49m\u001b[43m[\u001b[49m\u001b[38;5;124;43m\"\u001b[39;49m\u001b[38;5;124;43mapple\u001b[39;49m\u001b[38;5;124;43m\"\u001b[39;49m\u001b[43m,\u001b[49m\u001b[43m \u001b[49m\u001b[38;5;124;43m\"\u001b[39;49m\u001b[38;5;124;43mbanana\u001b[39;49m\u001b[38;5;124;43m\"\u001b[39;49m\u001b[43m,\u001b[49m\u001b[43m \u001b[49m\u001b[38;5;124;43m\"\u001b[39;49m\u001b[38;5;124;43mcherry\u001b[39;49m\u001b[38;5;124;43m\"\u001b[39;49m\u001b[43m]\u001b[49m\u001b[43m)\u001b[49m\n\u001b[0;32m      2\u001b[0m \u001b[38;5;28mprint\u001b[39m(mylist)\n",
            "File \u001b[1;32mC:\\Program Files\\WindowsApps\\PythonSoftwareFoundation.Python.3.12_3.12.1776.0_x64__qbz5n2kfra8p0\\Lib\\typing.py:1182\u001b[0m, in \u001b[0;36m_BaseGenericAlias.__call__\u001b[1;34m(self, *args, **kwargs)\u001b[0m\n\u001b[0;32m   1180\u001b[0m \u001b[38;5;28;01mdef\u001b[39;00m \u001b[38;5;21m__call__\u001b[39m(\u001b[38;5;28mself\u001b[39m, \u001b[38;5;241m*\u001b[39margs, \u001b[38;5;241m*\u001b[39m\u001b[38;5;241m*\u001b[39mkwargs):\n\u001b[0;32m   1181\u001b[0m     \u001b[38;5;28;01mif\u001b[39;00m \u001b[38;5;129;01mnot\u001b[39;00m \u001b[38;5;28mself\u001b[39m\u001b[38;5;241m.\u001b[39m_inst:\n\u001b[1;32m-> 1182\u001b[0m         \u001b[38;5;28;01mraise\u001b[39;00m \u001b[38;5;167;01mTypeError\u001b[39;00m(\u001b[38;5;124mf\u001b[39m\u001b[38;5;124m\"\u001b[39m\u001b[38;5;124mType \u001b[39m\u001b[38;5;132;01m{\u001b[39;00m\u001b[38;5;28mself\u001b[39m\u001b[38;5;241m.\u001b[39m_name\u001b[38;5;132;01m}\u001b[39;00m\u001b[38;5;124m cannot be instantiated; \u001b[39m\u001b[38;5;124m\"\u001b[39m\n\u001b[0;32m   1183\u001b[0m                         \u001b[38;5;124mf\u001b[39m\u001b[38;5;124m\"\u001b[39m\u001b[38;5;124muse \u001b[39m\u001b[38;5;132;01m{\u001b[39;00m\u001b[38;5;28mself\u001b[39m\u001b[38;5;241m.\u001b[39m__origin__\u001b[38;5;241m.\u001b[39m\u001b[38;5;18m__name__\u001b[39m\u001b[38;5;132;01m}\u001b[39;00m\u001b[38;5;124m() instead\u001b[39m\u001b[38;5;124m\"\u001b[39m)\n\u001b[0;32m   1184\u001b[0m     result \u001b[38;5;241m=\u001b[39m \u001b[38;5;28mself\u001b[39m\u001b[38;5;241m.\u001b[39m__origin__(\u001b[38;5;241m*\u001b[39margs, \u001b[38;5;241m*\u001b[39m\u001b[38;5;241m*\u001b[39mkwargs)\n\u001b[0;32m   1185\u001b[0m     \u001b[38;5;28;01mtry\u001b[39;00m:\n",
            "\u001b[1;31mTypeError\u001b[0m: Type List cannot be instantiated; use list() instead"
          ]
        }
      ],
      "source": [
        "mylist = List([\"apple\", \"banana\", \"cherry\"])\n",
        "print(mylist)\n"
      ]
    },
    {
      "cell_type": "markdown",
      "metadata": {
        "id": "7KPETUClVtM0"
      },
      "source": [
        "Python Collections (Arrays)\n",
        "There are four collection data types in the Python programming language:\n",
        "\n",
        "List is a collection which is ordered and changeable. Allows duplicate members.\n",
        "Tuple is a collection which is ordered and unchangeable. Allows duplicate members.\n",
        "Set is a collection which is unordered, unchangeable*, and unindexed. No duplicate members.\n",
        "Dictionary is a collection which is ordered** and changeable. No duplicate members."
      ]
    },
    {
      "cell_type": "markdown",
      "metadata": {
        "id": "-uxxfds1VtM0"
      },
      "source": [
        "*Set items are unchangeable, but you can remove and/or add items whenever you like.\n",
        "\n",
        "**As of Python version 3.7, dictionaries are ordered. In Python 3.6 and earlier, dictionaries are unordered.\n",
        "\n",
        "When choosing a collection type, it is useful to understand the properties of that type. Choosing the right type for a particular data set could mean retention of meaning, and, it could mean an increase in efficiency or security.\n",
        "\n"
      ]
    },
    {
      "cell_type": "code",
      "execution_count": null,
      "metadata": {
        "id": "7cPlHfpqVtM1",
        "outputId": "0708cef6-dd83-42d3-8642-fd5f8ae443fb"
      },
      "outputs": [
        {
          "name": "stdout",
          "output_type": "stream",
          "text": [
            "banana\n",
            "banana\n"
          ]
        }
      ],
      "source": [
        "#What will be the result of the following syntax:\n",
        "mylist = ['apple', 'banana', 'cherry']\n",
        "print(mylist[1])\n",
        "#What will be the result of the following syntax:\n",
        "mylist = ['apple', 'banana', 'banana', 'cherry']\n",
        "print(mylist[2])\n",
        "#True or False.\n",
        "#List items cannot be removed after the list has been created.\n",
        "# ans:false"
      ]
    },
    {
      "cell_type": "code",
      "execution_count": null,
      "metadata": {
        "id": "XObVUrHdVtM1",
        "outputId": "524fa1e8-6e7b-4819-a37b-8e8570157352"
      },
      "outputs": [
        {
          "name": "stdout",
          "output_type": "stream",
          "text": [
            "['trek', 'cannondale', 'redline', 'specialized']\n"
          ]
        }
      ],
      "source": [
        "bicycles: List[str] = ['trek', 'cannondale', 'redline', 'specialized']\n",
        "print(bicycles)"
      ]
    },
    {
      "cell_type": "code",
      "execution_count": null,
      "metadata": {
        "id": "rB7J3TeGVtM1",
        "outputId": "9242d50a-c113-4e1f-9c0a-367cd9724dca"
      },
      "outputs": [
        {
          "name": "stdout",
          "output_type": "stream",
          "text": [
            "['trek', 'cannondale', 'redline', 'specialized']\n"
          ]
        }
      ],
      "source": [
        "from typing import List\n",
        "bicycles: List[str] = ['trek', 'cannondale', 'redline', 'specialized']\n",
        "print(bicycles)\n"
      ]
    },
    {
      "cell_type": "code",
      "execution_count": null,
      "metadata": {
        "id": "uPdZnWpYVtM1",
        "outputId": "e539a402-0f92-4872-d55d-b4e7e7e62bd4"
      },
      "outputs": [
        {
          "name": "stdout",
          "output_type": "stream",
          "text": [
            "trek\n"
          ]
        }
      ],
      "source": [
        "from typing import List\n",
        "bicycles: List[str] = ['trek', 'cannondale', 'redline', 'specialized']\n",
        "print(bicycles[0])"
      ]
    },
    {
      "cell_type": "markdown",
      "metadata": {
        "id": "gWWlio7SVtM1"
      },
      "source": [
        "my_list: List[int] = [1, 2, 3]  # A list of integers\n",
        "\n",
        "typing Module: The typing module provides various type hints for use in your Python code. These hints do not enforce type checking at runtime but are used by static type checkers like MyPy to analyze your code for potential type errors.\n",
        "from ... import ...: This is a Python syntax used to import specific items (in this case, List) from a module (in this case, typing). This makes it easier to use List directly in your code without needing to write typing.List every time."
      ]
    },
    {
      "cell_type": "code",
      "execution_count": null,
      "metadata": {
        "id": "MmWz6VpEVtM2",
        "outputId": "f5ed4077-134e-42e9-a405-1c6d832e7cc7"
      },
      "outputs": [
        {
          "ename": "TypeError",
          "evalue": "'list' object is not callable",
          "output_type": "error",
          "traceback": [
            "\u001b[1;31m---------------------------------------------------------------------------\u001b[0m",
            "\u001b[1;31mTypeError\u001b[0m                                 Traceback (most recent call last)",
            "Cell \u001b[1;32mIn[139], line 2\u001b[0m\n\u001b[0;32m      1\u001b[0m \u001b[38;5;28;01mfrom\u001b[39;00m \u001b[38;5;21;01mtyping\u001b[39;00m \u001b[38;5;28;01mimport\u001b[39;00m List\n\u001b[1;32m----> 2\u001b[0m thislist \u001b[38;5;241m=\u001b[39m \u001b[38;5;28;43mlist\u001b[39;49m\u001b[43m(\u001b[49m\u001b[43m(\u001b[49m\u001b[38;5;124;43m\"\u001b[39;49m\u001b[38;5;124;43mapple\u001b[39;49m\u001b[38;5;124;43m\"\u001b[39;49m\u001b[43m,\u001b[49m\u001b[43m \u001b[49m\u001b[38;5;124;43m\"\u001b[39;49m\u001b[38;5;124;43mbanana\u001b[39;49m\u001b[38;5;124;43m\"\u001b[39;49m\u001b[43m,\u001b[49m\u001b[43m \u001b[49m\u001b[38;5;124;43m\"\u001b[39;49m\u001b[38;5;124;43mcherry\u001b[39;49m\u001b[38;5;124;43m\"\u001b[39;49m\u001b[43m)\u001b[49m\u001b[43m)\u001b[49m \u001b[38;5;66;03m# note the double round-brackets\u001b[39;00m\n\u001b[0;32m      3\u001b[0m \u001b[38;5;28mprint\u001b[39m(thislist)\n",
            "\u001b[1;31mTypeError\u001b[0m: 'list' object is not callable"
          ]
        }
      ],
      "source": [
        "from typing import List\n",
        "thislist = list((\"apple\", \"banana\", \"cherry\")) # note the double round-brackets\n",
        "print(thislist)\n"
      ]
    },
    {
      "cell_type": "code",
      "execution_count": null,
      "metadata": {
        "id": "SdVjCx5bVtM2",
        "outputId": "af5f65cd-a3f1-4acc-b67a-4cea0eb30f6d"
      },
      "outputs": [
        {
          "ename": "TypeError",
          "evalue": "'list' object is not callable",
          "output_type": "error",
          "traceback": [
            "\u001b[1;31m---------------------------------------------------------------------------\u001b[0m",
            "\u001b[1;31mTypeError\u001b[0m                                 Traceback (most recent call last)",
            "Cell \u001b[1;32mIn[143], line 1\u001b[0m\n\u001b[1;32m----> 1\u001b[0m my_list \u001b[38;5;241m=\u001b[39m \u001b[38;5;28;43mlist\u001b[39;49m\u001b[43m(\u001b[49m\u001b[43m(\u001b[49m\u001b[38;5;124;43m\"\u001b[39;49m\u001b[38;5;124;43mapple\u001b[39;49m\u001b[38;5;124;43m\"\u001b[39;49m\u001b[43m,\u001b[49m\u001b[43m \u001b[49m\u001b[38;5;124;43m\"\u001b[39;49m\u001b[38;5;124;43mbanana\u001b[39;49m\u001b[38;5;124;43m\"\u001b[39;49m\u001b[43m,\u001b[49m\u001b[43m \u001b[49m\u001b[38;5;124;43m\"\u001b[39;49m\u001b[38;5;124;43mcherry\u001b[39;49m\u001b[38;5;124;43m\"\u001b[39;49m\u001b[43m)\u001b[49m\u001b[43m)\u001b[49m \n\u001b[0;32m      2\u001b[0m \u001b[38;5;28mprint\u001b[39m(my_list)\n",
            "\u001b[1;31mTypeError\u001b[0m: 'list' object is not callable"
          ]
        }
      ],
      "source": [
        "my_list = list((\"apple\", \"banana\", \"cherry\"))\n",
        "print(my_list)"
      ]
    },
    {
      "cell_type": "code",
      "execution_count": null,
      "metadata": {
        "id": "TEQwBpMEVtM2",
        "outputId": "302c5e16-0966-4881-a0f2-af1ae2553369"
      },
      "outputs": [
        {
          "name": "stdout",
          "output_type": "stream",
          "text": [
            "['apple', 'banana', 'cherry']\n"
          ]
        }
      ],
      "source": [
        "thislist = [\"apple\", \"banana\", \"cherry\"]\n",
        "print(thislist)"
      ]
    },
    {
      "cell_type": "code",
      "execution_count": null,
      "metadata": {
        "id": "RVOWX1hhVtM2",
        "outputId": "6c06d3ba-8f40-4f1e-e836-11315ccb3e69"
      },
      "outputs": [
        {
          "name": "stdout",
          "output_type": "stream",
          "text": [
            "['trek', 'cannondale', 'redline', 'specialized']\n"
          ]
        }
      ],
      "source": [
        "bicycles:List[str] = ['trek', 'cannondale', 'redline', 'specialized']\n",
        "print(bicycles)\n"
      ]
    },
    {
      "cell_type": "code",
      "execution_count": null,
      "metadata": {
        "id": "-r72GmhHVtM2",
        "outputId": "7d26b5c3-1bd6-4bbb-8dc8-066761259482"
      },
      "outputs": [
        {
          "name": "stdout",
          "output_type": "stream",
          "text": [
            "apple\n",
            "trek\n",
            "Trek\n",
            "cannondale\n",
            "specialized\n",
            "cannondale\n",
            "hello,Banana\n",
            "My first bicycle was a Trek.\n",
            "<class 'list'>\n"
          ]
        }
      ],
      "source": [
        "bicycles:List[str] = ['track','apple','banana']\n",
        "print(bicycles[1])\n",
        "bicycles:List[str] = ['trek', 'cannondale', 'redline', 'specialized']\n",
        "print(bicycles[0])\n",
        "\n",
        "bicycles:List[str] = ['trek', 'cannondale', 'redline', 'specialized']\n",
        "print(bicycles[0].title())\n",
        "\n",
        "bicycles: List[str] = ['trek', 'cannondale', 'redline', 'specialized']\n",
        "print(bicycles[1])\n",
        "print(bicycles[3])\n",
        "\n",
        "bicycles: List[str] = ['trek', 'cannondale', 'redline', 'specialized']\n",
        "print(bicycles[-3])\n",
        "\n",
        "my_list:List[str]=[\"apple\",\"mango\",\"banana\",\"orange\"]\n",
        "message=f\"hello,{my_list[-2].title()}\"\n",
        "print(message)\n",
        "\n",
        "bicycles:List[str] = ['trek', 'cannondale', 'redline', 'specialized']\n",
        "message:str = f\"My first bicycle was a {bicycles[0].title()}.\"\n",
        "\n",
        "print(message)\n",
        "print(type(bicycles))"
      ]
    },
    {
      "cell_type": "markdown",
      "metadata": {
        "id": "PsEfhuVnVtM3"
      },
      "source": [
        "Access Items\n",
        "List items are indexed and you can access them by referring to the index number:"
      ]
    },
    {
      "cell_type": "code",
      "execution_count": null,
      "metadata": {
        "id": "4agIgOtUVtM3",
        "outputId": "2e2ac9bb-c77f-4382-8e26-0cc48e06603f"
      },
      "outputs": [
        {
          "name": "stdout",
          "output_type": "stream",
          "text": [
            "mango\n",
            "banana\n"
          ]
        }
      ],
      "source": [
        "#Print the second item of the list:\n",
        "thislist = [\"apple\",\"mango\",\"banana\",\"orange\"]\n",
        "print(thislist[1])\n",
        "thislist = [\"apple\", \"banana\", \"cherry\"]\n",
        "print(thislist[1])"
      ]
    },
    {
      "cell_type": "markdown",
      "metadata": {
        "id": "rukVOw2qVtM3"
      },
      "source": [
        "Negative Indexing\n",
        "Negative indexing means start from the end\n",
        "\n",
        "-1 refers to the last item, -2 refers to the second last item etc."
      ]
    },
    {
      "cell_type": "code",
      "execution_count": null,
      "metadata": {
        "id": "CM0dmN4hVtM3",
        "outputId": "d5dac5c0-7283-4e78-f864-c880f6e88353"
      },
      "outputs": [
        {
          "name": "stdout",
          "output_type": "stream",
          "text": [
            "cherry\n"
          ]
        }
      ],
      "source": [
        "thislist = [\"apple\", \"banana\", \"cherry\"]\n",
        "print(thislist[-1])"
      ]
    },
    {
      "cell_type": "markdown",
      "metadata": {
        "id": "cIOVo6aVVtM4"
      },
      "source": [
        "Range of Indexes\n",
        "You can specify a range of indexes by specifying where to start and where to end the range.\n",
        "\n",
        "When specifying a range, the return value will be a new list with the specified items."
      ]
    },
    {
      "cell_type": "code",
      "execution_count": null,
      "metadata": {
        "id": "OSverHEuVtM4",
        "outputId": "806a9c48-f406-48b9-97b4-0979cff63311"
      },
      "outputs": [
        {
          "name": "stdout",
          "output_type": "stream",
          "text": [
            "['cherry', 'orange', 'kiwi']\n"
          ]
        }
      ],
      "source": [
        "#Return the third, fourth, and fifth item:\n",
        "thislist = [\"apple\", \"banana\", \"cherry\", \"orange\", \"kiwi\", \"melon\", \"mango\"]\n",
        "print(thislist[2:5])\n",
        "\n",
        "#This will return the items from position 2 to 5.\n",
        "\n",
        "#Remember that the first item is position 0,\n",
        "#and note that the item in position 5 is NOT included\n",
        "#Note: The search will start at index 2 (included) and end at index 5 (not included)."
      ]
    },
    {
      "cell_type": "markdown",
      "metadata": {
        "id": "yasxMehZVtM4"
      },
      "source": [
        "By leaving out the start value, the range will start at the first item:\n",
        "This example returns the items from the beginning to, but NOT including, \"kiwi\":"
      ]
    },
    {
      "cell_type": "code",
      "execution_count": null,
      "metadata": {
        "id": "NADHRSAbVtM4",
        "outputId": "d254b3b7-7bc8-43ab-ddbe-96ccb29ce5f4"
      },
      "outputs": [
        {
          "name": "stdout",
          "output_type": "stream",
          "text": [
            "['apple', 'banana', 'cherry', 'orange']\n"
          ]
        }
      ],
      "source": [
        "thislist = [\"apple\", \"banana\", \"cherry\", \"orange\", \"kiwi\", \"melon\", \"mango\"]\n",
        "print(thislist[:4])\n",
        "\n",
        "#This will return the items from index 0 to index 4.\n",
        "\n",
        "#Remember that index 0 is the first item, and index 4 is the fifth item\n",
        "#Remember that the item in index 4 is NOT included\n"
      ]
    },
    {
      "cell_type": "markdown",
      "metadata": {
        "id": "9M1ZTQ40VtM4"
      },
      "source": [
        "By leaving out the end value, the range will go on to the end of the list:\n",
        "This example returns the items from \"cherry\" to the end:"
      ]
    },
    {
      "cell_type": "code",
      "execution_count": null,
      "metadata": {
        "id": "t9ob5upoVtM4",
        "outputId": "c6dd664a-6940-4fdf-dea0-32a679cbc928"
      },
      "outputs": [
        {
          "name": "stdout",
          "output_type": "stream",
          "text": [
            "['cherry', 'orange', 'kiwi', 'melon', 'mango']\n"
          ]
        }
      ],
      "source": [
        "thislist = [\"apple\", \"banana\", \"cherry\", \"orange\", \"kiwi\", \"melon\", \"mango\"]\n",
        "print(thislist[2:])\n",
        "\n",
        "#This will return the items from index 2 to the end.\n",
        "\n",
        "#Remember that index 0 is the first item, and index 2 is the third"
      ]
    },
    {
      "cell_type": "markdown",
      "metadata": {
        "id": "oEU05RRQVtM5"
      },
      "source": [
        "Range of Negative Indexes\n",
        "Specify negative indexes if you want to start the search from the end of the list:"
      ]
    },
    {
      "cell_type": "code",
      "execution_count": null,
      "metadata": {
        "id": "NNYr4euKVtM5",
        "outputId": "0bfbe906-b3ec-4259-dfda-0c899c8a76ed"
      },
      "outputs": [
        {
          "name": "stdout",
          "output_type": "stream",
          "text": [
            "['orange', 'kiwi', 'melon']\n"
          ]
        }
      ],
      "source": [
        "#This example returns the items from \"orange\" (-4) to, but NOT including \"mango\" (-1):\n",
        "thislist = [\"apple\", \"banana\", \"cherry\", \"orange\", \"kiwi\", \"melon\", \"mango\"]\n",
        "print(thislist[-4:-1])\n",
        "\n",
        "#Negative indexing means starting from the end of the list.\n",
        "\n",
        "#This example returns the items from index -4 (included) to index -1 (excluded)\n",
        "\n",
        "#Remember that the last item has the index -1,\n"
      ]
    },
    {
      "cell_type": "markdown",
      "metadata": {
        "id": "0JXSpYPeVtM5"
      },
      "source": [
        "Check if Item Exists\n",
        "To determine if a specified item is present in a list use the in keyword:"
      ]
    },
    {
      "cell_type": "code",
      "execution_count": null,
      "metadata": {
        "id": "HDr4C9qCVtM5",
        "outputId": "8e423642-472f-4d32-ce6a-215a387ef9bc"
      },
      "outputs": [
        {
          "name": "stdout",
          "output_type": "stream",
          "text": [
            "Yes, 'apple' is in the fruits list\n"
          ]
        }
      ],
      "source": [
        "#Check if \"apple\" is present in the list:\n",
        "thislist = [\"apple\", \"banana\", \"cherry\"]\n",
        "if \"apple\" in thislist:\n",
        "  print(\"Yes, 'apple' is in the fruits list\")"
      ]
    },
    {
      "cell_type": "markdown",
      "metadata": {
        "id": "jNq-I62qVtM5"
      },
      "source": [
        "Python - Change List Items\n",
        "Change Item Value\n",
        "To change the value of a specific item, refer to the index number:"
      ]
    },
    {
      "cell_type": "code",
      "execution_count": null,
      "metadata": {
        "id": "q5Tl8jmEVtM5",
        "outputId": "097d9936-68bc-411f-acc7-382ac8bb0975"
      },
      "outputs": [
        {
          "name": "stdout",
          "output_type": "stream",
          "text": [
            "['apple', 'cherry', 'banana']\n",
            "['apple', 'blackcurrant', 'cherry']\n"
          ]
        }
      ],
      "source": [
        "#Change the second item:\n",
        "thislist=[\"apple\",\"mango\",\"banana\"]\n",
        "thislist[1]=\"cherry\"\n",
        "print(thislist)\n",
        "thislist = [\"apple\", \"banana\", \"cherry\"]\n",
        "thislist[1] = \"blackcurrant\"\n",
        "\n",
        "print(thislist)\n"
      ]
    },
    {
      "cell_type": "markdown",
      "metadata": {
        "id": "wGrHVjvhVtM5"
      },
      "source": [
        "Change a Range of Item Values\n",
        "To change the value of items within a specific range, define a list with the new values, and refer to the range of index numbers where you want to insert the new values:"
      ]
    },
    {
      "cell_type": "code",
      "execution_count": null,
      "metadata": {
        "id": "s8-1CNSoVtM6",
        "outputId": "815e54c2-bc6e-43fc-b27d-a3a370ea2792"
      },
      "outputs": [
        {
          "name": "stdout",
          "output_type": "stream",
          "text": [
            "['apple', 'blackcurrant', 'watermelon', 'orange', 'kiwi', 'mango']\n"
          ]
        }
      ],
      "source": [
        "#Change the values \"banana\" and \"cherry\" with the values \"blackcurrant\" and \"watermelon\":\n",
        "thislist = [\"apple\", \"banana\", \"cherry\", \"orange\", \"kiwi\", \"mango\"]\n",
        "\n",
        "thislist[1:3] = [\"blackcurrant\", \"watermelon\"]\n",
        "\n",
        "print(thislist)\n"
      ]
    },
    {
      "cell_type": "markdown",
      "metadata": {
        "id": "Psx1yZorVtM6"
      },
      "source": [
        "If you insert more items than you replace, the new items will be inserted where you specified, and the remaining items will move accordingly:"
      ]
    },
    {
      "cell_type": "code",
      "execution_count": null,
      "metadata": {
        "id": "a7GTqc6KVtM6",
        "outputId": "133d0e96-56fa-45c4-e93e-e6d67b48cc1d"
      },
      "outputs": [
        {
          "name": "stdout",
          "output_type": "stream",
          "text": [
            "['apple', 'blackcurrant', 'watermelon', 'cherry']\n"
          ]
        }
      ],
      "source": [
        "#Change the second value by replacing it with two new values:\n",
        "thislist = [\"apple\", \"banana\", \"cherry\"]\n",
        "\n",
        "thislist[1:2] = [\"blackcurrant\", \"watermelon\"]\n",
        "\n",
        "print(thislist)"
      ]
    },
    {
      "cell_type": "markdown",
      "metadata": {
        "id": "lANe0mkkVtM6"
      },
      "source": [
        "Note: The length of the list will change when the number of items inserted does not match the number of items replaced.\n",
        "If you insert less items than you replace, the new items will be inserted where you specified, and the remaining items will move accordingly:"
      ]
    },
    {
      "cell_type": "code",
      "execution_count": null,
      "metadata": {
        "id": "aolIPpJjVtM6",
        "outputId": "f91a5fb9-5196-4912-b9d4-7b679e2f8998"
      },
      "outputs": [
        {
          "name": "stdout",
          "output_type": "stream",
          "text": [
            "['apple', 'watermelon']\n"
          ]
        }
      ],
      "source": [
        "#Change the second and third value by replacing it with one value:\n",
        "thislist = [\"apple\", \"banana\", \"cherry\"]\n",
        "\n",
        "thislist[1:3] = [\"watermelon\"]\n",
        "\n",
        "print(thislist)"
      ]
    },
    {
      "cell_type": "markdown",
      "metadata": {
        "id": "GV9uulsBVtM6"
      },
      "source": [
        "Insert Items\n",
        "To insert a new list item, without replacing any of the existing values, we can use the insert() method.\n",
        "\n",
        "The insert() method inserts an item at the specified index:"
      ]
    },
    {
      "cell_type": "code",
      "execution_count": null,
      "metadata": {
        "id": "uVq3dajcVtM7",
        "outputId": "ce013f6f-2a31-4600-abe5-4c920cb16562"
      },
      "outputs": [
        {
          "name": "stdout",
          "output_type": "stream",
          "text": [
            "['apple', 'banana', 'watermelon', 'cherry']\n"
          ]
        }
      ],
      "source": [
        "#Insert \"watermelon\" as the third item:\n",
        "thislist = [\"apple\", \"banana\", \"cherry\"]\n",
        "\n",
        "thislist.insert(2, \"watermelon\")\n",
        "\n",
        "print(thislist)\n",
        "#Note: As a result of the example above, the list will now contain 4 items."
      ]
    },
    {
      "cell_type": "code",
      "execution_count": null,
      "metadata": {
        "id": "eHwmixd9VtM7",
        "outputId": "ff423b2f-383f-463e-c656-9204b31819cb"
      },
      "outputs": [
        {
          "name": "stdout",
          "output_type": "stream",
          "text": [
            "banana\n"
          ]
        }
      ],
      "source": [
        "mylist = ['apple', 'banana', 'cherry']\n",
        "mylist[0] = 'kiwi'\n",
        "print(mylist[1])"
      ]
    },
    {
      "cell_type": "code",
      "execution_count": null,
      "metadata": {
        "id": "sb3u42R-VtM7",
        "outputId": "4904dff3-132f-43ef-9e41-9b446366f2b6"
      },
      "outputs": [
        {
          "name": "stdout",
          "output_type": "stream",
          "text": [
            "mango\n"
          ]
        }
      ],
      "source": [
        "mylist = ['apple', 'banana', 'cherry']\n",
        "mylist[1:2] = ['kiwi', 'mango']\n",
        "print(mylist[2])"
      ]
    },
    {
      "cell_type": "markdown",
      "metadata": {
        "id": "8zVNKq6LVtM7"
      },
      "source": [
        "Python - Add List Items\n",
        "Append Items\n",
        "To add an item to the end of the list, use the append() method:"
      ]
    },
    {
      "cell_type": "code",
      "execution_count": null,
      "metadata": {
        "id": "1mmF2I-NVtM7",
        "outputId": "e460442d-dd56-4441-c3f6-e22f1ef9f6ca"
      },
      "outputs": [
        {
          "name": "stdout",
          "output_type": "stream",
          "text": [
            "['apple', 'banana', 'cherry', 'orange']\n"
          ]
        }
      ],
      "source": [
        "#Using the append() method to append an item:\n",
        "thislist = [\"apple\", \"banana\", \"cherry\"]\n",
        "\n",
        "thislist.append(\"orange\")\n",
        "\n",
        "print(thislist)"
      ]
    },
    {
      "cell_type": "markdown",
      "metadata": {
        "id": "37NJofEKVtM7"
      },
      "source": [
        "Insert Items\n",
        "To insert a list item at a specified index, use the insert() method.\n",
        "\n",
        "The insert() method inserts an item at the specified index:"
      ]
    },
    {
      "cell_type": "code",
      "execution_count": null,
      "metadata": {
        "id": "qkbWbUWoVtM8",
        "outputId": "49ed6eef-ee95-4aae-d6dc-904e1c81994a"
      },
      "outputs": [
        {
          "name": "stdout",
          "output_type": "stream",
          "text": [
            "['apple', 'orange', 'banana', 'cherry']\n"
          ]
        }
      ],
      "source": [
        "#Insert an item as the second position:\n",
        "thislist = [\"apple\", \"banana\", \"cherry\"]\n",
        "thislist.insert(1, \"orange\")\n",
        "print(thislist)\n"
      ]
    },
    {
      "cell_type": "markdown",
      "metadata": {
        "id": "exbCr4CXVtM8"
      },
      "source": [
        "Note: As a result of the examples above, the lists will now contain 4 items."
      ]
    },
    {
      "cell_type": "markdown",
      "metadata": {
        "id": "kGF0ipkVVtM8"
      },
      "source": [
        "Extend List\n",
        "To append elements from another list to the current list, use the extend() method."
      ]
    },
    {
      "cell_type": "code",
      "execution_count": null,
      "metadata": {
        "id": "LAJ2mO5FVtM8",
        "outputId": "ca2cf75b-61c4-4620-e8b5-0638c69c3102"
      },
      "outputs": [
        {
          "name": "stdout",
          "output_type": "stream",
          "text": [
            "['apple', 'banana', 'cherry', 'mango', 'pineapple', 'papaya']\n"
          ]
        }
      ],
      "source": [
        "#Add the elements of tropical to thislist:\n",
        "thislist = [\"apple\", \"banana\", \"cherry\"]\n",
        "tropical = [\"mango\", \"pineapple\", \"papaya\"]\n",
        "\n",
        "thislist.extend(tropical)\n",
        "\n",
        "print(thislist)"
      ]
    },
    {
      "cell_type": "markdown",
      "metadata": {
        "id": "juTHJ0yTVtM8"
      },
      "source": [
        "The elements will be added to the end of the list."
      ]
    },
    {
      "cell_type": "markdown",
      "metadata": {
        "id": "VxjlEX3CVtM8"
      },
      "source": [
        "Add Any Iterable\n",
        "The extend() method does not have to append lists, you can add any iterable object (tuples, sets, dictionaries etc.)."
      ]
    },
    {
      "cell_type": "code",
      "execution_count": null,
      "metadata": {
        "id": "bAR2WI2JVtM9",
        "outputId": "57bb4392-b6b0-49e0-99f9-677fbc491eb3"
      },
      "outputs": [
        {
          "name": "stdout",
          "output_type": "stream",
          "text": [
            "['apple', 'banana', 'cherry', 'kiwi', 'orange']\n"
          ]
        }
      ],
      "source": [
        "#Add elements of a tuple to a list:\n",
        "thislist = [\"apple\", \"banana\", \"cherry\"]\n",
        "thistuple = (\"kiwi\", \"orange\")\n",
        "\n",
        "thislist.extend(thistuple)\n",
        "\n",
        "print(thislist)"
      ]
    },
    {
      "cell_type": "code",
      "execution_count": null,
      "metadata": {
        "id": "5y7ypiCJVtM9",
        "outputId": "fed8b7ba-8d9c-497b-ee09-e3567358d45a"
      },
      "outputs": [
        {
          "name": "stdout",
          "output_type": "stream",
          "text": [
            "apple\n"
          ]
        }
      ],
      "source": [
        "mylist = ['apple', 'banana', 'cherry']\n",
        "mylist.insert(0, 'orange')\n",
        "print(mylist[1])"
      ]
    },
    {
      "cell_type": "code",
      "execution_count": null,
      "metadata": {
        "id": "iTjrGQqaVtM9"
      },
      "outputs": [],
      "source": [
        "#Use the append method to add \"orange\" to the fruits list.\n",
        "fruits = [\"apple\", \"banana\", \"cherry\"]\n",
        "fruits.append(\"orange\")\n"
      ]
    },
    {
      "cell_type": "code",
      "execution_count": null,
      "metadata": {
        "id": "zZfTB0DKVtM9"
      },
      "outputs": [],
      "source": [
        "#Use the insert method to add \"lemon\" as the second item in the fruits list.\n",
        "fruits = [\"apple\", \"banana\", \"cherry\"]\n",
        "fruits.insert(1,\n",
        " \"lemon\")"
      ]
    },
    {
      "cell_type": "markdown",
      "metadata": {
        "id": "bC68qcFHVtM9"
      },
      "source": [
        "Python - Remove List Items\n",
        "Remove Specified Item\n",
        "The remove() method removes the specified item."
      ]
    },
    {
      "cell_type": "code",
      "execution_count": null,
      "metadata": {
        "id": "VY96NBC7VtM9",
        "outputId": "3331cf57-2064-4a93-bc77-1993a1f2f549"
      },
      "outputs": [
        {
          "name": "stdout",
          "output_type": "stream",
          "text": [
            "['apple', 'cherry']\n"
          ]
        }
      ],
      "source": [
        "thislist = [\"apple\", \"banana\", \"cherry\"]\n",
        "thislist.remove(\"banana\")\n",
        "print(thislist)"
      ]
    },
    {
      "cell_type": "markdown",
      "metadata": {
        "id": "cDI3TEp6VtM-"
      },
      "source": [
        "If there are more than one item with the specified value, the remove() method removes the first occurrence:"
      ]
    },
    {
      "cell_type": "code",
      "execution_count": null,
      "metadata": {
        "id": "jwhyUrogVtM-",
        "outputId": "f569f619-4772-4f8f-9db8-30e7802caf9d"
      },
      "outputs": [
        {
          "name": "stdout",
          "output_type": "stream",
          "text": [
            "['apple', 'cherry', 'banana', 'kiwi']\n"
          ]
        }
      ],
      "source": [
        "#Remove the first occurrence of \"banana\":\n",
        "thislist = [\"apple\", \"banana\", \"cherry\", \"banana\", \"kiwi\"]\n",
        "thislist.remove(\"banana\")\n",
        "print(thislist)"
      ]
    },
    {
      "cell_type": "markdown",
      "metadata": {
        "id": "bCFnMbLNVtM-"
      },
      "source": [
        "Remove Specified Index\n",
        "The pop() method removes the specified index."
      ]
    },
    {
      "cell_type": "code",
      "execution_count": null,
      "metadata": {
        "id": "peG7yGMtVtM-",
        "outputId": "f9b971ba-b1d8-4621-d9fd-0be059993941"
      },
      "outputs": [
        {
          "name": "stdout",
          "output_type": "stream",
          "text": [
            "['apple', 'cherry']\n"
          ]
        }
      ],
      "source": [
        "#Remove the second item:\n",
        "thislist = [\"apple\", \"banana\", \"cherry\"]\n",
        "thislist.pop(1)\n",
        "print(thislist)"
      ]
    },
    {
      "cell_type": "markdown",
      "metadata": {
        "id": "mRbtbW4LVtM-"
      },
      "source": [
        "If you do not specify the index, the pop() method removes the last item."
      ]
    },
    {
      "cell_type": "code",
      "execution_count": null,
      "metadata": {
        "id": "6szTdkuvVtM-",
        "outputId": "f876be33-c941-4223-e2fe-1832ed9b1af5"
      },
      "outputs": [
        {
          "name": "stdout",
          "output_type": "stream",
          "text": [
            "['apple', 'banana']\n"
          ]
        }
      ],
      "source": [
        "#Remove the last item:\n",
        "thislist = [\"apple\", \"banana\", \"cherry\"]\n",
        "thislist.pop()\n",
        "print(thislist)"
      ]
    },
    {
      "cell_type": "markdown",
      "metadata": {
        "id": "6n58wILyVtM-"
      },
      "source": [
        "The del keyword also removes the specified index:"
      ]
    },
    {
      "cell_type": "code",
      "execution_count": null,
      "metadata": {
        "id": "uDff2e7HVtM_",
        "outputId": "28f3e105-108e-4508-cf73-e35f4207dccd"
      },
      "outputs": [
        {
          "name": "stdout",
          "output_type": "stream",
          "text": [
            "['banana', 'cherry']\n"
          ]
        }
      ],
      "source": [
        "#Remove the first item:\n",
        "thislist = [\"apple\", \"banana\", \"cherry\"]\n",
        "del thislist[0]\n",
        "print(thislist)"
      ]
    },
    {
      "cell_type": "markdown",
      "metadata": {
        "id": "NUkyeHDDVtM_"
      },
      "source": [
        "The del keyword can also delete the list completely."
      ]
    },
    {
      "cell_type": "code",
      "execution_count": null,
      "metadata": {
        "id": "y0xyughzVtM_",
        "outputId": "65b99ae1-22b5-44be-d13c-b510388f9131"
      },
      "outputs": [
        {
          "ename": "NameError",
          "evalue": "name 'thislist' is not defined",
          "output_type": "error",
          "traceback": [
            "\u001b[1;31m---------------------------------------------------------------------------\u001b[0m",
            "\u001b[1;31mNameError\u001b[0m                                 Traceback (most recent call last)",
            "Cell \u001b[1;32mIn[216], line 4\u001b[0m\n\u001b[0;32m      2\u001b[0m thislist \u001b[38;5;241m=\u001b[39m [\u001b[38;5;124m\"\u001b[39m\u001b[38;5;124mapple\u001b[39m\u001b[38;5;124m\"\u001b[39m, \u001b[38;5;124m\"\u001b[39m\u001b[38;5;124mbanana\u001b[39m\u001b[38;5;124m\"\u001b[39m, \u001b[38;5;124m\"\u001b[39m\u001b[38;5;124mcherry\u001b[39m\u001b[38;5;124m\"\u001b[39m]\n\u001b[0;32m      3\u001b[0m \u001b[38;5;28;01mdel\u001b[39;00m thislist\n\u001b[1;32m----> 4\u001b[0m \u001b[38;5;28mprint\u001b[39m(\u001b[43mthislist\u001b[49m) \u001b[38;5;66;03m#this will cause an error because you have succsesfully deleted \"thislist\".\u001b[39;00m\n",
            "\u001b[1;31mNameError\u001b[0m: name 'thislist' is not defined"
          ]
        }
      ],
      "source": [
        "#Delete the entire list:\n",
        "thislist = [\"apple\", \"banana\", \"cherry\"]\n",
        "del thislist\n",
        "print(thislist) #this will cause an error because you have succsesfully deleted \"thislist\"."
      ]
    },
    {
      "cell_type": "markdown",
      "metadata": {
        "id": "_-W0iJH3VtM_"
      },
      "source": [
        "Clear the List\n",
        "The clear() method empties the list.\n",
        "\n",
        "The list still remains, but it has no content."
      ]
    },
    {
      "cell_type": "code",
      "execution_count": null,
      "metadata": {
        "id": "xfGW0-4XVtM_",
        "outputId": "7e59858e-74dd-4b52-85d2-9b3e0188357c"
      },
      "outputs": [
        {
          "name": "stdout",
          "output_type": "stream",
          "text": [
            "[]\n"
          ]
        }
      ],
      "source": [
        "#Clear the list content:\n",
        "thislist = [\"apple\", \"banana\", \"cherry\"]\n",
        "thislist.clear()\n",
        "print(thislist)"
      ]
    },
    {
      "cell_type": "code",
      "execution_count": null,
      "metadata": {
        "id": "ezRXm0i_VtM_"
      },
      "outputs": [],
      "source": [
        "#Use the remove method to remove \"banana\" from the fruits list.\n",
        "fruits = [\"apple\", \"banana\", \"cherry\"]\n",
        "fruits.remove(\"banana\")\n"
      ]
    },
    {
      "cell_type": "code",
      "execution_count": null,
      "metadata": {
        "id": "fTKi6AkSVtNA",
        "outputId": "67da27f3-1f55-425f-f711-798016ed62a3"
      },
      "outputs": [
        {
          "name": "stdout",
          "output_type": "stream",
          "text": [
            "['apple', 'cherry']\n"
          ]
        }
      ],
      "source": [
        "mylist = ['apple', 'banana', 'cherry']\n",
        "mylist.pop(1)\n",
        "print(mylist)"
      ]
    },
    {
      "cell_type": "markdown",
      "metadata": {
        "id": "MxhYBSFEVtNA"
      },
      "source": [
        "What is a List method for removing list items?\n",
        "pop()"
      ]
    },
    {
      "cell_type": "markdown",
      "metadata": {
        "id": "YEZSKsedVtNA"
      },
      "source": [
        "Python - Loop Lists\n",
        "Loop Through a List\n",
        "You can loop through the list items by using a for loop:\n"
      ]
    },
    {
      "cell_type": "code",
      "execution_count": null,
      "metadata": {
        "id": "owY4_OgKVtNA",
        "outputId": "f2ad3cc8-6047-4ea3-a6d8-3f49a35702b8"
      },
      "outputs": [
        {
          "name": "stdout",
          "output_type": "stream",
          "text": [
            "apple\n",
            "banana\n",
            "cherry\n"
          ]
        }
      ],
      "source": [
        "#Print all items in the list, one by one:\n",
        "thislist = [\"apple\", \"banana\", \"cherry\"]\n",
        "for x in thislist:\n",
        "  print(x)"
      ]
    },
    {
      "cell_type": "markdown",
      "metadata": {
        "id": "N9MYmSIEVtNA"
      },
      "source": [
        "Loop Through the Index Numbers\n",
        "You can also loop through the list items by referring to their index number.\n",
        "\n",
        "Use the range() and len() functions to create a suitable iterable."
      ]
    },
    {
      "cell_type": "code",
      "execution_count": null,
      "metadata": {
        "id": "IUDKN-FRVtNA",
        "outputId": "b9746ed0-57da-473b-dbb4-dd69ac7f78c0"
      },
      "outputs": [
        {
          "name": "stdout",
          "output_type": "stream",
          "text": [
            "apple\n",
            "banana\n",
            "cherry\n"
          ]
        }
      ],
      "source": [
        "#Print all items by referring to their index number:\n",
        "thislist = [\"apple\", \"banana\", \"cherry\"]\n",
        "for i in range(len(thislist)):\n",
        "  print(thislist[i])\n"
      ]
    },
    {
      "cell_type": "markdown",
      "metadata": {
        "id": "RuIvNLofVtNA"
      },
      "source": [
        "The iterable created in the example above is [0, 1, 2]."
      ]
    },
    {
      "cell_type": "markdown",
      "metadata": {
        "id": "NyODvBwtVtNB"
      },
      "source": [
        "Using a While Loop\n",
        "You can loop through the list items by using a while loop.\n",
        "\n",
        "Use the len() function to determine the length of the list, then start at 0 and loop your way through the list items by referring to their indexes.\n",
        "\n",
        "Remember to increase the index by 1 after each iteration."
      ]
    },
    {
      "cell_type": "code",
      "execution_count": null,
      "metadata": {
        "id": "PUh0cL5GVtNB",
        "outputId": "ff644c92-b293-4f94-b3ab-aed3f58af54c"
      },
      "outputs": [
        {
          "name": "stdout",
          "output_type": "stream",
          "text": [
            "apple\n",
            "banana\n",
            "cherry\n"
          ]
        }
      ],
      "source": [
        "#Print all items, using a while loop to go through all the index numbers\n",
        "thislist = [\"apple\", \"banana\", \"cherry\"]\n",
        "i = 0\n",
        "while i < len(thislist):\n",
        "  print(thislist[i])\n",
        "  i = i + 1\n"
      ]
    },
    {
      "cell_type": "markdown",
      "metadata": {
        "id": "xhIw3MU6VtNB"
      },
      "source": [
        "Looping Using List Comprehension\n",
        "List Comprehension offers the shortest syntax for looping through lists:"
      ]
    },
    {
      "cell_type": "code",
      "execution_count": null,
      "metadata": {
        "id": "K6xWOxr0VtNB",
        "outputId": "874ff46c-f63a-4ea9-942f-1c13f1f532d5"
      },
      "outputs": [
        {
          "name": "stdout",
          "output_type": "stream",
          "text": [
            "apple\n",
            "banana\n",
            "cherry\n"
          ]
        },
        {
          "data": {
            "text/plain": [
              "[None, None, None]"
            ]
          },
          "execution_count": 223,
          "metadata": {},
          "output_type": "execute_result"
        }
      ],
      "source": [
        "#A short hand for loop that will print all items in a list:\n",
        "thislist = [\"apple\", \"banana\", \"cherry\"]\n",
        "[print(x) for x in thislist]"
      ]
    },
    {
      "cell_type": "markdown",
      "metadata": {
        "id": "JxXfRSC5VtNB"
      },
      "source": [
        "What is a correct syntax for looping through the items of a list?\n",
        "for x in ['apple', 'banana', 'cherry']:\n",
        "  print(x)"
      ]
    },
    {
      "cell_type": "markdown",
      "metadata": {
        "id": "kAUiY52pVtNB"
      },
      "source": [
        "Insert the missing part of the while loop below to loop through the items of a list.\n",
        "\n",
        "mylist = ['apple', 'banana', 'cherry']\n",
        "i = 0\n",
        "while\n",
        " i <\n",
        "len\n",
        "(mylist):\n",
        "  print(mylist[i])\n",
        "  i = i + 1"
      ]
    },
    {
      "cell_type": "markdown",
      "metadata": {
        "id": "MU7cUZ5HVtNC"
      },
      "source": [
        "What is a correct syntax for looping through the items of a list?\n",
        "[print(x) for x in ['apple', 'banana', 'cherry']]"
      ]
    },
    {
      "cell_type": "markdown",
      "metadata": {
        "id": "VI1v9IVFVtNC"
      },
      "source": [
        "Python - List Comprehension\n",
        "\n",
        "\n",
        "\n"
      ]
    },
    {
      "cell_type": "markdown",
      "metadata": {
        "id": "Dpxg_4G5VtNC"
      },
      "source": [
        "List Comprehension\n",
        "List comprehension offers a shorter syntax when you want to create a new list based on the values of an existing list.\n",
        "\n",
        "Example:\n",
        "\n",
        "Based on a list of fruits, you want a new list, containing only the fruits with the letter \"a\" in the name.\n",
        "\n",
        "Without list comprehension you will have to write a for statement with a conditional test inside:"
      ]
    },
    {
      "cell_type": "code",
      "execution_count": null,
      "metadata": {
        "id": "MlihwII3VtNC"
      },
      "outputs": [],
      "source": [
        "fruits = [\"apple\", \"banana\", \"cherry\", \"kiwi\", \"mango\"]\n",
        "newlist = []\n",
        "\n",
        "for x in fruits:\n",
        "  if \"a\" in x:\n",
        "    newlist.append(x)\n",
        "\n",
        "print(newlist)"
      ]
    },
    {
      "cell_type": "markdown",
      "metadata": {
        "id": "1qV59iPVVtNC"
      },
      "source": [
        "With list comprehension you can do all that with only one line of code:"
      ]
    },
    {
      "cell_type": "code",
      "execution_count": null,
      "metadata": {
        "id": "uBP0gmryVtND"
      },
      "outputs": [],
      "source": [
        "fruits = [\"apple\", \"banana\", \"cherry\", \"kiwi\", \"mango\"]\n",
        "newlist = [x for x in fruits if \"a\" in x]\n",
        "\n",
        "print(newlist)\n"
      ]
    },
    {
      "cell_type": "markdown",
      "metadata": {
        "id": "KpvLpavSVtND"
      },
      "source": [
        "The Syntax\n",
        "newlist = [expression for item in iterable if condition == True]\n",
        "The return value is a new list, leaving the old list unchanged.\n",
        "\n",
        "Condition\n",
        "The condition is like a filter that only accepts the items that valuate to True."
      ]
    },
    {
      "cell_type": "code",
      "execution_count": null,
      "metadata": {
        "id": "kb0aFHokVtND"
      },
      "outputs": [],
      "source": [
        "#Only accept items that are not \"apple\":\n",
        "fruits = [\"apple\", \"banana\", \"cherry\", \"kiwi\", \"mango\"]\n",
        "\n",
        "newlist = [x for x in fruits if x != \"apple\"]\n",
        "\n",
        "print(newlist)"
      ]
    },
    {
      "cell_type": "markdown",
      "metadata": {
        "id": "z9h-GN2SVtND"
      },
      "source": [
        "The condition if x != \"apple\"  will return True for all elements other than \"apple\", making the new list contain all fruits except \"apple\".\n",
        "\n",
        "The condition is optional and can be omitted:"
      ]
    },
    {
      "cell_type": "code",
      "execution_count": null,
      "metadata": {
        "id": "BUaq93EbVtND"
      },
      "outputs": [],
      "source": [
        "#With no if statement:\n",
        "fruits = [\"apple\", \"banana\", \"cherry\", \"kiwi\", \"mango\"]\n",
        "\n",
        "newlist = [x for x in fruits]\n",
        "\n",
        "print(newlist)"
      ]
    },
    {
      "cell_type": "markdown",
      "metadata": {
        "id": "uJi3HbW3VtND"
      },
      "source": [
        "Iterable\n",
        "The iterable can be any iterable object, like a list, tuple, set etc."
      ]
    },
    {
      "cell_type": "code",
      "execution_count": null,
      "metadata": {
        "id": "CPodxh80VtNE"
      },
      "outputs": [],
      "source": [
        "#You can use the range() function to create an iterable:\n",
        "newlist = [x for x in range(10)]\n",
        "\n",
        "print(newlist)"
      ]
    },
    {
      "cell_type": "markdown",
      "metadata": {
        "id": "bYFtDTxNVtNE"
      },
      "source": [
        "Same example, but with a condition:"
      ]
    },
    {
      "cell_type": "code",
      "execution_count": null,
      "metadata": {
        "id": "R3jTVHAfVtNE"
      },
      "outputs": [],
      "source": [
        "#Accept only numbers lower than 5\n",
        "newlist = [x for x in range(10) if x < 5]\n",
        "\n",
        "print(newlist)"
      ]
    },
    {
      "cell_type": "markdown",
      "metadata": {
        "id": "9lGpq4S6VtNE"
      },
      "source": [
        "Expression\n",
        "The expression is the current item in the iteration, but it is also the outcome, which you can manipulate before it ends up like a list item in the new list:"
      ]
    },
    {
      "cell_type": "code",
      "execution_count": null,
      "metadata": {
        "id": "shNwsXQtVtNE"
      },
      "outputs": [],
      "source": [
        "#Set the values in the new list to upper case:\n",
        "fruits = [\"apple\", \"banana\", \"cherry\", \"kiwi\", \"mango\"]\n",
        "\n",
        "newlist = [x.upper() for x in fruits]\n",
        "\n",
        "print(newlist)"
      ]
    },
    {
      "cell_type": "markdown",
      "metadata": {
        "id": "L3YfEkLCVtNE"
      },
      "source": [
        "You can set the outcome to whatever you like:"
      ]
    },
    {
      "cell_type": "code",
      "execution_count": null,
      "metadata": {
        "id": "pRxZh1M9VtNE"
      },
      "outputs": [],
      "source": [
        "#Set all values in the new list to 'hello':\n",
        "fruits = [\"apple\", \"banana\", \"cherry\", \"kiwi\", \"mango\"]\n",
        "\n",
        "newlist = ['hello' for x in fruits]\n",
        "\n",
        "print(newlist)"
      ]
    },
    {
      "cell_type": "markdown",
      "metadata": {
        "id": "f4UfaXuZVtNE"
      },
      "source": [
        "The expression can also contain conditions, not like a filter, but as a way to manipulate the outcome:"
      ]
    },
    {
      "cell_type": "code",
      "execution_count": null,
      "metadata": {
        "id": "IwlXQTDeVtNF"
      },
      "outputs": [],
      "source": [
        "#Return \"orange\" instead of \"banana\":\n",
        "fruits = [\"apple\", \"banana\", \"cherry\", \"kiwi\", \"mango\"]\n",
        "\n",
        "newlist = [x if x != \"banana\" else \"orange\" for x in fruits]\n",
        "\n",
        "print(newlist)\n"
      ]
    },
    {
      "cell_type": "markdown",
      "metadata": {
        "id": "6t4c9Q9aVtNF"
      },
      "source": [
        "The expression in the example above says:\n",
        "\n",
        "\"Return the item if it is not banana, if it is banana return orange\"."
      ]
    },
    {
      "cell_type": "markdown",
      "metadata": {
        "id": "Z0iUZx-MVtNF"
      },
      "source": []
    },
    {
      "cell_type": "markdown",
      "metadata": {
        "id": "UfbSNolOVtNF"
      },
      "source": [
        "Python - Sort Lists\n",
        "Sort List Alphanumerically\n",
        "List objects have a sort() method that will sort the list alphanumerically, ascending, by default:"
      ]
    },
    {
      "cell_type": "code",
      "execution_count": null,
      "metadata": {
        "id": "HtBDsMAdVtNF",
        "outputId": "889a22cf-2cf9-4eac-d65d-470ca6cc5802"
      },
      "outputs": [
        {
          "name": "stdout",
          "output_type": "stream",
          "text": [
            "['banana', 'kiwi', 'mango', 'orange', 'pineapple']\n"
          ]
        }
      ],
      "source": [
        "# Sort the list alphabetically:\n",
        "thislist = [\"orange\", \"mango\", \"kiwi\", \"pineapple\", \"banana\"]\n",
        "\n",
        "thislist.sort()\n",
        "\n",
        "print(thislist)"
      ]
    },
    {
      "cell_type": "code",
      "execution_count": null,
      "metadata": {
        "id": "tICEGEreVtNF",
        "outputId": "eadecd1a-dffb-4544-8764-73d70aa5b865"
      },
      "outputs": [
        {
          "name": "stdout",
          "output_type": "stream",
          "text": [
            "[23, 50, 65, 82, 100]\n"
          ]
        }
      ],
      "source": [
        "#Sort the list numerically:\n",
        "thislist = [100, 50, 65, 82, 23]\n",
        "\n",
        "thislist.sort()\n",
        "\n",
        "print(thislist)"
      ]
    },
    {
      "cell_type": "code",
      "execution_count": null,
      "metadata": {
        "id": "3fOLmlqBVtNF",
        "outputId": "d56a2d84-9d38-44ce-abe9-288534616dd6"
      },
      "outputs": [
        {
          "name": "stdout",
          "output_type": "stream",
          "text": [
            "['audi', 'bmw', 'subaru', 'toyota']\n"
          ]
        }
      ],
      "source": [
        "cars:List[str] = ['bmw', 'audi', 'toyota', 'subaru']\n",
        "cars.sort()\n",
        "print(cars)"
      ]
    },
    {
      "cell_type": "markdown",
      "metadata": {
        "id": "H77jjk-2VtNG"
      },
      "source": [
        "Sort Descending\n",
        "To sort descending, use the keyword argument reverse = True:"
      ]
    },
    {
      "cell_type": "code",
      "execution_count": null,
      "metadata": {
        "id": "CAQghSIZVtNG",
        "outputId": "8f3076ea-8df1-444e-f8c4-177465f909d9"
      },
      "outputs": [
        {
          "name": "stdout",
          "output_type": "stream",
          "text": [
            "['pineapple', 'orange', 'mango', 'kiwi', 'banana']\n"
          ]
        }
      ],
      "source": [
        "#Sort the list descending:\n",
        "thislist = [\"orange\", \"mango\", \"kiwi\", \"pineapple\", \"banana\"]\n",
        "\n",
        "thislist.sort(reverse = True)\n",
        "\n",
        "print(thislist)"
      ]
    },
    {
      "cell_type": "code",
      "execution_count": null,
      "metadata": {
        "id": "i8CAThG_VtNG",
        "outputId": "ba199d60-0365-45ef-9a8a-8d7b27a10c41"
      },
      "outputs": [
        {
          "name": "stdout",
          "output_type": "stream",
          "text": [
            "[100, 82, 65, 50, 23]\n"
          ]
        }
      ],
      "source": [
        "#Sort the list descending:\n",
        "thislist = [100, 50, 65, 82, 23]\n",
        "\n",
        "thislist.sort(reverse = True)\n",
        "\n",
        "print(thislist)"
      ]
    },
    {
      "cell_type": "code",
      "execution_count": null,
      "metadata": {
        "id": "geVH37l-VtNG",
        "outputId": "99941be9-634e-40c1-a0df-2a52dc812954"
      },
      "outputs": [
        {
          "name": "stdout",
          "output_type": "stream",
          "text": [
            "['toyota', 'subaru', 'bmw', 'audi']\n"
          ]
        }
      ],
      "source": [
        "cars:List[str] = ['bmw', 'audi', 'toyota', 'subaru']\n",
        "cars.sort(reverse=True)\n",
        "print(cars)"
      ]
    },
    {
      "cell_type": "code",
      "execution_count": null,
      "metadata": {
        "id": "etSwkHXiVtNG",
        "outputId": "8e67aad1-67ab-40c4-92df-fd433f8fb75e"
      },
      "outputs": [
        {
          "name": "stdout",
          "output_type": "stream",
          "text": [
            "Here is the original list:\n",
            "['bmw', 'audi', 'toyota', 'subaru']\n",
            "\n",
            "Here is the sorted list:\n",
            "['audi', 'bmw', 'subaru', 'toyota']\n",
            "\n",
            "Here is the original list again:\n",
            "['bmw', 'audi', 'toyota', 'subaru']\n"
          ]
        }
      ],
      "source": [
        "cars:List[str] = ['bmw', 'audi', 'toyota', 'subaru']\n",
        "\n",
        "print(\"Here is the original list:\")\n",
        "print(cars)\n",
        "\n",
        "print(\"\\nHere is the sorted list:\")\n",
        "print(sorted(cars))\n",
        "\n",
        "print(\"\\nHere is the original list again:\")\n",
        "print(cars)"
      ]
    },
    {
      "cell_type": "code",
      "execution_count": null,
      "metadata": {
        "id": "QnKjwAqPVtNG",
        "outputId": "96e4cc81-d27b-4015-dd42-749338a68d58"
      },
      "outputs": [
        {
          "name": "stdout",
          "output_type": "stream",
          "text": [
            "['bmw', 'audi', 'toyota', 'subaru']\n",
            "['subaru', 'toyota', 'audi', 'bmw']\n"
          ]
        }
      ],
      "source": [
        "cars: List[str] = ['bmw', 'audi', 'toyota', 'subaru']\n",
        "print(cars)\n",
        "\n",
        "cars.reverse()\n",
        "print(cars)"
      ]
    },
    {
      "cell_type": "code",
      "execution_count": null,
      "metadata": {
        "id": "A45zbpL-VtNH",
        "outputId": "a6191434-49eb-450c-999c-9bd1514525b8"
      },
      "outputs": [
        {
          "name": "stdout",
          "output_type": "stream",
          "text": [
            "['honda', 'yamaha', 'suzuki']\n",
            "['ducati', 'yamaha', 'suzuki']\n"
          ]
        }
      ],
      "source": [
        "motorcycles:List[str] = ['honda', 'yamaha', 'suzuki']\n",
        "print(motorcycles)\n",
        "\n",
        "motorcycles[0] = 'ducati'\n",
        "print(motorcycles)"
      ]
    },
    {
      "cell_type": "code",
      "execution_count": null,
      "metadata": {
        "id": "JAv3ANAYVtNH",
        "outputId": "979c9d05-6dca-47c4-beed-a311c05d04b8"
      },
      "outputs": [
        {
          "name": "stdout",
          "output_type": "stream",
          "text": [
            "['honda', 'yamaha', 'suzuki', 'ducati']\n",
            "['honda', 'yamaha', 'suzuki']\n",
            "\n",
            "A Ducati is too expensive for me.\n"
          ]
        }
      ],
      "source": [
        "motorcycles :List[str] = ['honda', 'yamaha', 'suzuki', 'ducati']\n",
        "print(motorcycles)\n",
        "\n",
        "too_expensive: str = 'ducati'\n",
        "motorcycles.remove(too_expensive)\n",
        "print(motorcycles)\n",
        "print(f\"\\nA {too_expensive.title()} is too expensive for me.\")"
      ]
    },
    {
      "cell_type": "code",
      "execution_count": null,
      "metadata": {
        "id": "eLZwMvq6VtNH",
        "outputId": "0b82983c-e370-4fc2-d891-e1371609193c"
      },
      "outputs": [
        {
          "ename": "TypeError",
          "evalue": "list indices must be integers or slices, not type",
          "output_type": "error",
          "traceback": [
            "\u001b[1;31m---------------------------------------------------------------------------\u001b[0m",
            "\u001b[1;31mTypeError\u001b[0m                                 Traceback (most recent call last)",
            "Cell \u001b[1;32mIn[241], line 1\u001b[0m\n\u001b[1;32m----> 1\u001b[0m motorcycles :\u001b[38;5;28;43mlist\u001b[39;49m\u001b[43m[\u001b[49m\u001b[38;5;28;43mstr\u001b[39;49m\u001b[43m]\u001b[49m \u001b[38;5;241m=\u001b[39m [\u001b[38;5;124m'\u001b[39m\u001b[38;5;124mhonda\u001b[39m\u001b[38;5;124m'\u001b[39m, \u001b[38;5;124m'\u001b[39m\u001b[38;5;124myamaha\u001b[39m\u001b[38;5;124m'\u001b[39m, \u001b[38;5;124m'\u001b[39m\u001b[38;5;124msuzuki\u001b[39m\u001b[38;5;124m'\u001b[39m]\n\u001b[0;32m      2\u001b[0m \u001b[38;5;28mprint\u001b[39m(motorcycles[\u001b[38;5;241m3\u001b[39m])\n",
            "\u001b[1;31mTypeError\u001b[0m: list indices must be integers or slices, not type"
          ]
        }
      ],
      "source": [
        "motorcycles :list[str] = ['honda', 'yamaha', 'suzuki']\n",
        "print(motorcycles[3])"
      ]
    },
    {
      "cell_type": "code",
      "execution_count": null,
      "metadata": {
        "id": "d7_2K0YrVtNH",
        "outputId": "362c7b4c-5251-407a-fc3a-f9329bb54a64"
      },
      "outputs": [
        {
          "name": "stdout",
          "output_type": "stream",
          "text": [
            "['honda', 'yamaha', 'suzuki']\n",
            "['honda', 'yamaha', 'suzuki', 'ducati']\n"
          ]
        }
      ],
      "source": [
        "motorcycles:List[str] = ['honda', 'yamaha', 'suzuki']\n",
        "print(motorcycles)\n",
        "\n",
        "motorcycles.append('ducati')\n",
        "print(motorcycles)"
      ]
    },
    {
      "cell_type": "code",
      "execution_count": null,
      "metadata": {
        "id": "-UoGjoEeVtNH",
        "outputId": "840cb3d6-02a9-452e-c0e1-54c391c45bfb"
      },
      "outputs": [
        {
          "name": "stdout",
          "output_type": "stream",
          "text": [
            "['honda', 'yamaha', 'suzuki']\n"
          ]
        }
      ],
      "source": [
        "motorcycles:List[str] = []\n",
        "\n",
        "motorcycles.append('honda')\n",
        "motorcycles.append('yamaha')\n",
        "motorcycles.append('suzuki')\n",
        "\n",
        "print(motorcycles)"
      ]
    },
    {
      "cell_type": "code",
      "execution_count": null,
      "metadata": {
        "id": "gcWfeAUiVtNH",
        "outputId": "38a69920-b8b2-4bb9-c8c9-774f70788576"
      },
      "outputs": [
        {
          "name": "stdout",
          "output_type": "stream",
          "text": [
            "['ducati', 'honda', 'yamaha', 'suzuki']\n"
          ]
        }
      ],
      "source": [
        "motorcycles: List[str] = ['honda', 'yamaha', 'suzuki']\n",
        "\n",
        "motorcycles.insert(0, 'ducati')\n",
        "print(motorcycles)"
      ]
    },
    {
      "cell_type": "code",
      "execution_count": null,
      "metadata": {
        "id": "CTn-c3kyVtNI",
        "outputId": "1ceaf83d-5937-4465-f00a-3d8f409e6c10"
      },
      "outputs": [
        {
          "name": "stdout",
          "output_type": "stream",
          "text": [
            "['honda', 'yamaha', 'suzuki']\n",
            "['yamaha', 'suzuki']\n"
          ]
        }
      ],
      "source": [
        "motorcycles:List[str] = ['honda', 'yamaha', 'suzuki']\n",
        "print(motorcycles)\n",
        "\n",
        "del motorcycles[0]\n",
        "print(motorcycles)"
      ]
    },
    {
      "cell_type": "code",
      "execution_count": null,
      "metadata": {
        "id": "yeAwchABVtNI",
        "outputId": "609fb2ea-529d-4df8-f598-ba2fce5122bb"
      },
      "outputs": [
        {
          "name": "stdout",
          "output_type": "stream",
          "text": [
            "['honda', 'yamaha', 'suzuki']\n",
            "['honda', 'suzuki']\n"
          ]
        }
      ],
      "source": [
        "motorcycles:List[str] = ['honda', 'yamaha', 'suzuki']\n",
        "print(motorcycles)\n",
        "\n",
        "del motorcycles[1]\n",
        "print(motorcycles)"
      ]
    },
    {
      "cell_type": "code",
      "execution_count": null,
      "metadata": {
        "id": "J36lxlHaVtNI",
        "outputId": "97c66280-8eb3-45b6-de40-207fb7c905be"
      },
      "outputs": [
        {
          "name": "stdout",
          "output_type": "stream",
          "text": [
            "['honda', 'yamaha', 'suzuki']\n",
            "['honda', 'yamaha']\n",
            "suzuki\n"
          ]
        }
      ],
      "source": [
        "motorcycles:List[str] = ['honda', 'yamaha', 'suzuki']\n",
        "print(motorcycles)\n",
        "\n",
        "popped_motorcycle:str = motorcycles.pop()\n",
        "print(motorcycles)\n",
        "print(popped_motorcycle)"
      ]
    },
    {
      "cell_type": "code",
      "execution_count": null,
      "metadata": {
        "id": "n6yboSBtVtNI",
        "outputId": "53d89ec8-243d-4791-988e-6b5e585086fc"
      },
      "outputs": [
        {
          "name": "stdout",
          "output_type": "stream",
          "text": [
            "The last motorcycle I owned was a Suzuki.\n"
          ]
        }
      ],
      "source": [
        "motorcycles:List[str] = ['honda', 'yamaha', 'suzuki']\n",
        "\n",
        "last_owned:str = motorcycles.pop()\n",
        "print(f\"The last motorcycle I owned was a {last_owned.title()}.\")"
      ]
    },
    {
      "cell_type": "code",
      "execution_count": null,
      "metadata": {
        "id": "3rrSSBySVtNI",
        "outputId": "eab3f1b4-ca2b-4b34-b24f-daafc29756f7"
      },
      "outputs": [
        {
          "name": "stdout",
          "output_type": "stream",
          "text": [
            "The first motorcycle I owned was a Honda.\n"
          ]
        }
      ],
      "source": [
        "motorcycles:List[str] = ['honda', 'yamaha', 'suzuki']\n",
        "\n",
        "first_owned:str = motorcycles.pop(0)\n",
        "print(f\"The first motorcycle I owned was a {first_owned.title()}.\")"
      ]
    },
    {
      "cell_type": "code",
      "execution_count": null,
      "metadata": {
        "id": "NdFiQ7lRVtNI",
        "outputId": "c7550745-1df5-4b08-9d85-28e8ab7d3406"
      },
      "outputs": [
        {
          "name": "stdout",
          "output_type": "stream",
          "text": [
            "['honda', 'yamaha', 'suzuki', 'ducati']\n",
            "['honda', 'yamaha', 'suzuki']\n"
          ]
        }
      ],
      "source": [
        "motorcycles:List[str] = ['honda', 'yamaha', 'suzuki', 'ducati']\n",
        "print(motorcycles)\n",
        "\n",
        "motorcycles.remove('ducati')\n",
        "print(motorcycles)"
      ]
    },
    {
      "cell_type": "code",
      "execution_count": null,
      "metadata": {
        "id": "ZkTRdyRRVtNJ",
        "outputId": "4d4f68fd-14e8-4dcd-a80e-6d2c7340fc8d"
      },
      "outputs": [
        {
          "name": "stdout",
          "output_type": "stream",
          "text": [
            "My first bicycle was a Trek.\n"
          ]
        }
      ],
      "source": [
        "bicycles:List[str] = ['trek', 'cannondale', 'redline', 'specialized']\n",
        "message = f\"My first bicycle was a {bicycles[0].title()}.\"\n",
        "\n",
        "print(message)"
      ]
    },
    {
      "cell_type": "code",
      "execution_count": null,
      "metadata": {
        "id": "LbSUHhdbVtNJ",
        "outputId": "be0f69f0-7663-4ddb-e16e-909fc9f02254"
      },
      "outputs": [
        {
          "name": "stdout",
          "output_type": "stream",
          "text": [
            "['bmw', 'audi', 'toyota', 'subaru']\n",
            "['subaru', 'toyota', 'audi', 'bmw']\n"
          ]
        }
      ],
      "source": [
        "cars:List[str] = ['bmw', 'audi', 'toyota', 'subaru']\n",
        "print(cars)\n",
        "\n",
        "cars.reverse()\n",
        "print(cars)"
      ]
    },
    {
      "cell_type": "code",
      "execution_count": null,
      "metadata": {
        "id": "8YyI2u9aVtNJ",
        "outputId": "228206dd-e164-4cf0-8b29-23b35fa25d8a"
      },
      "outputs": [
        {
          "name": "stdout",
          "output_type": "stream",
          "text": [
            "['honda', 'yamaha', 'suzuki', 'ducati']\n",
            "['honda', 'yamaha', 'suzuki']\n",
            "\n",
            "A Ducati is too expensive for me.\n"
          ]
        }
      ],
      "source": [
        "motorcycles:List[str] = ['honda', 'yamaha', 'suzuki', 'ducati']\n",
        "print(motorcycles)\n",
        "\n",
        "too_expensive = 'ducati'\n",
        "motorcycles.remove(too_expensive)\n",
        "print(motorcycles)\n",
        "print(f\"\\nA {too_expensive.title()} is too expensive for me.\")"
      ]
    },
    {
      "cell_type": "markdown",
      "metadata": {
        "id": "vWdrzX7GVtNJ"
      },
      "source": [
        "Customize Sort Function\n",
        "You can also customize your own function by using the keyword argument key = function.\n",
        "\n",
        "The function will return a number that will be used to sort the list (the lowest number first):"
      ]
    },
    {
      "cell_type": "code",
      "execution_count": null,
      "metadata": {
        "id": "8wrqpJn-VtNK",
        "outputId": "a1e64cbd-a198-427a-b8f6-9e19e26ded8d"
      },
      "outputs": [
        {
          "name": "stdout",
          "output_type": "stream",
          "text": [
            "[50, 65, 23, 82, 100]\n"
          ]
        }
      ],
      "source": [
        "#Sort the list based on how close the number is to 50:\n",
        "def myfunc(n):\n",
        "  return abs(n - 50)\n",
        "\n",
        "thislist = [100, 50, 65, 82, 23]\n",
        "\n",
        "thislist.sort(key = myfunc)\n",
        "\n",
        "print(thislist)"
      ]
    },
    {
      "cell_type": "markdown",
      "metadata": {
        "id": "GjLZNMUmVtNK"
      },
      "source": [
        "Case Insensitive Sort\n",
        "By default the sort() method is case sensitive, resulting in all capital letters being sorted before lower case letters:\n"
      ]
    },
    {
      "cell_type": "code",
      "execution_count": null,
      "metadata": {
        "id": "R-zXzMEOVtNK"
      },
      "outputs": [],
      "source": [
        "#Case sensitive sorting can give an unexpected result:\n",
        "thislist = [\"banana\", \"Orange\", \"Kiwi\", \"cherry\"]\n",
        "\n",
        "thislist.sort()\n",
        "\n",
        "print(thislist)\n"
      ]
    },
    {
      "cell_type": "markdown",
      "metadata": {
        "id": "l3RqJKXtVtNK"
      },
      "source": [
        "Luckily we can use built-in functions as key functions when sorting a list.\n",
        "\n",
        "So if you want a case-insensitive sort function, use str.lower as a key function:"
      ]
    },
    {
      "cell_type": "code",
      "execution_count": null,
      "metadata": {
        "id": "mW3X-ygCVtNK",
        "outputId": "f0f00ffb-4755-4291-ae34-bd6b91391be8"
      },
      "outputs": [
        {
          "name": "stdout",
          "output_type": "stream",
          "text": [
            "['banana', 'cherry', 'Kiwi', 'Orange']\n"
          ]
        }
      ],
      "source": [
        "#Perform a case-insensitive sort of the list:\n",
        "thislist = [\"banana\", \"Orange\", \"Kiwi\", \"cherry\"]\n",
        "\n",
        "thislist.sort(key = str.lower)\n",
        "\n",
        "print(thislist)"
      ]
    },
    {
      "cell_type": "markdown",
      "metadata": {
        "id": "hDZdIWORVtNK"
      },
      "source": [
        "Reverse Order\n",
        "What if you want to reverse the order of a list, regardless of the alphabet?\n",
        "\n",
        "The reverse() method reverses the current sorting order of the elements."
      ]
    },
    {
      "cell_type": "code",
      "execution_count": null,
      "metadata": {
        "id": "UmZeicLOVtNK",
        "outputId": "ac1cfc3e-5bbd-4f8f-ad9d-945003e393b3"
      },
      "outputs": [
        {
          "name": "stdout",
          "output_type": "stream",
          "text": [
            "['cherry', 'Kiwi', 'Orange', 'banana']\n"
          ]
        }
      ],
      "source": [
        "#Reverse the order of the list items:\n",
        "thislist = [\"banana\", \"Orange\", \"Kiwi\", \"cherry\"]\n",
        "\n",
        "thislist.reverse()\n",
        "\n",
        "print(thislist)\n"
      ]
    },
    {
      "cell_type": "markdown",
      "metadata": {
        "id": "BoyNu8ftVtNL"
      },
      "source": [
        "What is a correct syntax for sorting a list?\n",
        "mylist.sort()\n",
        "What is a correct syntax for reversing the current order of a list?\n",
        "mylist.reverse()\n",
        "What is a correct syntax for sorting a list descending?\n",
        "mylist.sort(reverse = True)\n"
      ]
    },
    {
      "cell_type": "markdown",
      "metadata": {
        "id": "U80wtUPeVtNL"
      },
      "source": [
        "Python - Copy Lists\n",
        "Copy a List\n",
        "You cannot copy a list simply by typing list2 = list1, because: list2 will only be a reference to list1, and changes made in list1 will automatically also be made in list2."
      ]
    },
    {
      "cell_type": "markdown",
      "metadata": {
        "id": "p_6l8FrkVtNL"
      },
      "source": [
        "Use the copy() method\n",
        "You can use the built-in List method copy() to copy a list."
      ]
    },
    {
      "cell_type": "code",
      "execution_count": null,
      "metadata": {
        "id": "0XmDxtGcVtNL",
        "outputId": "1e64f416-a0e1-472b-8310-cd3047836a7c"
      },
      "outputs": [
        {
          "name": "stdout",
          "output_type": "stream",
          "text": [
            "['apple', 'banana', 'cherry']\n"
          ]
        }
      ],
      "source": [
        "#Make a copy of a list with the copy() method:\n",
        "\n",
        "thislist = [\"apple\", \"banana\", \"cherry\"]\n",
        "mylist = thislist.copy()\n",
        "print(mylist)"
      ]
    },
    {
      "cell_type": "markdown",
      "metadata": {
        "id": "QGdNpY0SVtNL"
      },
      "source": [
        "Use the list() method\n",
        "Another way to make a copy is to use the built-in method list()."
      ]
    },
    {
      "cell_type": "code",
      "execution_count": null,
      "metadata": {
        "id": "lov1FyLIVtNL",
        "outputId": "8764bbcf-9b5c-4b66-8ed3-41cd35d2b1a2"
      },
      "outputs": [
        {
          "ename": "TypeError",
          "evalue": "'list' object is not callable",
          "output_type": "error",
          "traceback": [
            "\u001b[1;31m---------------------------------------------------------------------------\u001b[0m",
            "\u001b[1;31mTypeError\u001b[0m                                 Traceback (most recent call last)",
            "Cell \u001b[1;32mIn[263], line 3\u001b[0m\n\u001b[0;32m      1\u001b[0m \u001b[38;5;66;03m#Make a copy of a list with the list() method:\u001b[39;00m\n\u001b[0;32m      2\u001b[0m thislist \u001b[38;5;241m=\u001b[39m [\u001b[38;5;124m\"\u001b[39m\u001b[38;5;124mapple\u001b[39m\u001b[38;5;124m\"\u001b[39m, \u001b[38;5;124m\"\u001b[39m\u001b[38;5;124mbanana\u001b[39m\u001b[38;5;124m\"\u001b[39m, \u001b[38;5;124m\"\u001b[39m\u001b[38;5;124mcherry\u001b[39m\u001b[38;5;124m\"\u001b[39m]\n\u001b[1;32m----> 3\u001b[0m mylist \u001b[38;5;241m=\u001b[39m \u001b[38;5;28;43mlist\u001b[39;49m\u001b[43m(\u001b[49m\u001b[43mthislist\u001b[49m\u001b[43m)\u001b[49m\n\u001b[0;32m      4\u001b[0m \u001b[38;5;28mprint\u001b[39m(mylist)\n",
            "\u001b[1;31mTypeError\u001b[0m: 'list' object is not callable"
          ]
        }
      ],
      "source": [
        "#Make a copy of a list with the list() method:\n",
        "thislist = [\"apple\", \"banana\", \"cherry\"]\n",
        "mylist = list(thislist)\n",
        "print(mylist)"
      ]
    },
    {
      "cell_type": "markdown",
      "metadata": {
        "id": "fm0YHnwWVtNL"
      },
      "source": [
        "Use the slice Operator\n",
        "You can also make a copy of a list by using the : (slice) operator."
      ]
    },
    {
      "cell_type": "code",
      "execution_count": null,
      "metadata": {
        "id": "-1XuqQAFVtNM",
        "outputId": "f4bfebae-540b-471f-e1ca-ea6ad78d2ab5"
      },
      "outputs": [
        {
          "name": "stdout",
          "output_type": "stream",
          "text": [
            "['apple', 'banana', 'cherry']\n"
          ]
        }
      ],
      "source": [
        "#Make a copy of a list with the : operator:\n",
        "thislist = [\"apple\", \"banana\", \"cherry\"]\n",
        "mylist = thislist[:]\n",
        "print(mylist)\n"
      ]
    },
    {
      "cell_type": "markdown",
      "metadata": {
        "id": "lEwqJuN4VtNM"
      },
      "source": [
        "What is a correct syntax for making a copy of a list?\n",
        "list2 = list1.copy()\n",
        "What is a correct syntax for making a copy of a list?\n",
        "list2 = list(list1)\n",
        "What is a correct syntax for making a copy of a list?\n",
        "list2 = list1[:]"
      ]
    },
    {
      "cell_type": "markdown",
      "metadata": {
        "id": "gyIQafDqVtNM"
      },
      "source": [
        "Python - Join Lists\n",
        "Join Two Lists\n",
        "There are several ways to join, or concatenate, two or more lists in Python.\n",
        "\n",
        "One of the easiest ways are by using the + operator."
      ]
    },
    {
      "cell_type": "code",
      "execution_count": null,
      "metadata": {
        "id": "GSj-HUa6VtNM",
        "outputId": "bb558d50-79b7-4061-8fd4-00247fe716dd"
      },
      "outputs": [
        {
          "name": "stdout",
          "output_type": "stream",
          "text": [
            "['a', 'b', 'c', 1, 2, 3]\n"
          ]
        }
      ],
      "source": [
        "#Join two list:\n",
        "list1 = [\"a\", \"b\", \"c\"]\n",
        "list2 = [1, 2, 3]\n",
        "\n",
        "list3 = list1 + list2\n",
        "print(list3)\n"
      ]
    },
    {
      "cell_type": "markdown",
      "metadata": {
        "id": "H6oR9ZqbVtNM"
      },
      "source": [
        "Another way to join two lists is by appending all the items from list2 into list1, one by one:"
      ]
    },
    {
      "cell_type": "code",
      "execution_count": null,
      "metadata": {
        "id": "WZPiAxp4VtNM",
        "outputId": "c2d12e10-621c-464c-c817-aba21687ae32"
      },
      "outputs": [
        {
          "name": "stdout",
          "output_type": "stream",
          "text": [
            "['a', 'b', 'c', 1, 2, 3]\n"
          ]
        }
      ],
      "source": [
        "#Append list2 into list1:\n",
        "list1 = [\"a\", \"b\" , \"c\"]\n",
        "list2 = [1, 2, 3]\n",
        "\n",
        "for x in list2:\n",
        "  list1.append(x)\n",
        "\n",
        "print(list1)\n"
      ]
    },
    {
      "cell_type": "markdown",
      "metadata": {
        "id": "7sopwF_fVtNM"
      },
      "source": [
        "Or you can use the extend() method, where the purpose is to add elements from one list to another list:\n",
        "\n"
      ]
    },
    {
      "cell_type": "code",
      "execution_count": null,
      "metadata": {
        "id": "1tXrNWCZVtNM",
        "outputId": "38ff786e-20db-42f2-804b-2d0ed0c9f89d"
      },
      "outputs": [
        {
          "name": "stdout",
          "output_type": "stream",
          "text": [
            "['a', 'b', 'c', 1, 2, 3]\n"
          ]
        }
      ],
      "source": [
        "#Use the extend() method to add list2 at the end of list1:\\\n",
        "list1 = [\"a\", \"b\" , \"c\"]\n",
        "list2 = [1, 2, 3]\n",
        "\n",
        "list1.extend(list2)\n",
        "print(list1)"
      ]
    },
    {
      "cell_type": "markdown",
      "metadata": {
        "id": "zjFe-CwcVtNN"
      },
      "source": [
        "What is a correct syntax for joining list1 and list2 into list3?\n",
        "list3 = list1 + list2\n",
        "What is a correct syntax for adding elements from list2 into list1?\n",
        "list1.extend(list2)\n"
      ]
    },
    {
      "cell_type": "code",
      "execution_count": null,
      "metadata": {
        "id": "sVEhJD5QVtNN",
        "outputId": "5b38d2ae-2bb0-4d72-99c0-bd849aed1f7d"
      },
      "outputs": [
        {
          "name": "stdout",
          "output_type": "stream",
          "text": [
            "['a', 'b', 'c', 1]\n",
            "['a', 'b', 'c', 1, 2]\n",
            "['a', 'b', 'c', 1, 2, 3]\n"
          ]
        }
      ],
      "source": [
        "list1 = ['a', 'b' , 'c']\n",
        "list2 = [1, 2, 3]\n",
        "for x in list2:\n",
        " list1.append(x)\n",
        " print(list1)\n",
        "  #What will be the value of list1?\n",
        "  #['a', 'b', 'c', 1, 2, 3]"
      ]
    },
    {
      "cell_type": "markdown",
      "metadata": {
        "id": "Kq-ySMUHVtNN"
      },
      "source": [
        "Python - List Methods\n",
        "List Methods\n",
        "Python has a set of built-in methods that you can use on lists.\n",
        "\n",
        "Method\tDescription\n",
        "append()\tAdds an element at the end of the list\n",
        "clear()\tRemoves all the elements from the list\n",
        "copy()\tReturns a copy of the list\n",
        "count()\tReturns the number of elements with the specified value\n",
        "extend()\tAdd the elements of a list (or any iterable), to the end of the current list\n",
        "index()\tReturns the index of the first element with the specified value\n",
        "insert()\tAdds an element at the specified position\n",
        "pop()\tRemoves the element at the specified position\n",
        "remove()\tRemoves the item with the specified value\n",
        "reverse()\tReverses the order of the list\n",
        "sort()\tSorts the list"
      ]
    },
    {
      "cell_type": "code",
      "execution_count": null,
      "metadata": {
        "id": "RavFzY26VtNN",
        "outputId": "4fba69b5-027a-42d5-e5e0-a47e46321f07"
      },
      "outputs": [
        {
          "name": "stdout",
          "output_type": "stream",
          "text": [
            "['apple', 'mango', 'banana', 'orange']\n",
            "['apple', 'mango', 'banana', ['tea', 'coffee', 'juice']]\n",
            "['apple', 'banana', 'cherry', ['Ford', 'BMW', 'Volvo']]\n"
          ]
        }
      ],
      "source": [
        "#Python List append() Method\n",
        "#Add an element to the fruits list:\n",
        "fruits=['apple','mango','banana']\n",
        "fruits.append('orange')\n",
        "print(fruits)\n",
        "\n",
        "#Add a list to a list:\n",
        "a=[\"apple\",\"mango\",\"banana\"]\n",
        "b=[\"tea\",\"coffee\",\"juice\"]\n",
        "a.append(b)\n",
        "print(a)\n",
        "\n",
        "a = [\"apple\", \"banana\", \"cherry\"]\n",
        "\n",
        "b = [\"Ford\", \"BMW\", \"Volvo\"]\n",
        "\n",
        "a.append(b)\n",
        "\n",
        "print(a)\n"
      ]
    },
    {
      "cell_type": "markdown",
      "metadata": {
        "id": "fzAkjJdjVtNN"
      },
      "source": [
        "Definition and Usage\n",
        "The append() method appends an element to the end of the list.\n",
        "\n",
        "Syntax\n",
        "list.append(elmnt)\n",
        "Parameter Values\n",
        "Parameter\tDescription\n",
        "elmnt\tRequired. An element of any type (string, number, object etc.)"
      ]
    },
    {
      "cell_type": "markdown",
      "metadata": {
        "id": "qIhKxqCQVtNN"
      },
      "source": [
        "Python List clear() Method\n",
        "Definition and Usage\n",
        "The clear() method removes all the elements from a list.\n",
        "\n",
        "Syntax\n",
        "list.clear()\n",
        "Parameter Values\n",
        "No parameters"
      ]
    },
    {
      "cell_type": "code",
      "execution_count": null,
      "metadata": {
        "id": "ZG5N4wsfVtNO",
        "outputId": "614acece-6021-48e5-9a2a-a79d2047f7a4"
      },
      "outputs": [
        {
          "name": "stdout",
          "output_type": "stream",
          "text": [
            "[]\n"
          ]
        }
      ],
      "source": [
        "#Remove all elements from the fruits list:\n",
        "fruits=[\"apple\",\"mango\",\"banana\"]\n",
        "fruits.clear()\n",
        "print(fruits)"
      ]
    },
    {
      "cell_type": "markdown",
      "metadata": {
        "id": "Ab9lJCc2VtNO"
      },
      "source": [
        "Python List copy() Method\n",
        "Definition and Usage\n",
        "The copy() method returns a copy of the specified list.\n",
        "\n",
        "Syntax\n",
        "list.copy()\n",
        "Parameter Values\n",
        "No parameters"
      ]
    },
    {
      "cell_type": "code",
      "execution_count": null,
      "metadata": {
        "id": "OM-oB1vhVtNO",
        "outputId": "df3288eb-0b32-4feb-b393-d911d964f2f9"
      },
      "outputs": [
        {
          "name": "stdout",
          "output_type": "stream",
          "text": [
            "['apple', 'mango', 'banana']\n"
          ]
        }
      ],
      "source": [
        "#Copy the fruits list:\n",
        "fruits=[\"apple\",\"mango\",\"banana\"]\n",
        "x= fruits.copy()\n",
        "print(x)"
      ]
    },
    {
      "cell_type": "markdown",
      "metadata": {
        "id": "a6jHGnAaVtNO"
      },
      "source": [
        "Python List count() Method\n",
        "\n",
        "Definition and Usage\n",
        "The count() method returns the number of elements with the specified value.\n",
        "\n",
        "Syntax\n",
        "list.count(value)\n",
        "Parameter Values\n",
        "Parameter\tDescription\n",
        "value\tRequired. Any type (string, number, list, tuple, etc.). The value to search for."
      ]
    },
    {
      "cell_type": "code",
      "execution_count": null,
      "metadata": {
        "id": "WZciVaBbVtNO",
        "outputId": "9ab682e6-a6c3-4e3a-dbb8-26efbbee7880"
      },
      "outputs": [
        {
          "name": "stdout",
          "output_type": "stream",
          "text": [
            "1\n",
            "3\n"
          ]
        }
      ],
      "source": [
        "#Return the number of times the value \"cherry\" appears in the fruits list:\n",
        "fruits=[\"apple\",\"cherry\",\"banana\"]\n",
        "x=fruits.count(\"cherry\")\n",
        "print(x)\n",
        "#Return the number of times the value 9 appears int the list:\n",
        "points=[1,6,9,6,8,2,8,8]\n",
        "x=points.count(8)\n",
        "print(x)"
      ]
    },
    {
      "cell_type": "markdown",
      "metadata": {
        "id": "Hm0a5krIVtNP"
      },
      "source": [
        "Python List extend() Method\n",
        "Definition and Usage\n",
        "The extend() method adds the specified list elements (or any iterable) to the end of the current list.\n",
        "\n",
        "Syntax\n",
        "list.extend(iterable)\n",
        "Parameter Values\n",
        "Parameter\tDescription\n",
        "iterable\tRequired. Any iterable (list, set, tuple, etc.)\n"
      ]
    },
    {
      "cell_type": "code",
      "execution_count": null,
      "metadata": {
        "id": "IHyDBJmyVtNP",
        "outputId": "6f745d71-028a-4bcb-c86a-00b1d32f2037"
      },
      "outputs": [
        {
          "name": "stdout",
          "output_type": "stream",
          "text": [
            "['apple', 'banana', 'grapes', 'car', 'volvo', 'bike']\n",
            "['apple', 'mango', 'banana', 'grapes', 1, 5, 6, 8, 6]\n"
          ]
        }
      ],
      "source": [
        "#Add the elements of cars to the fruits list:\n",
        "fruits=[\"apple\",\"banana\",\"grapes\"]\n",
        "cars=[\"car\",\"volvo\",\"bike\"]\n",
        "fruits.extend(cars)\n",
        "print(fruits)\n",
        "#Add a tuple to the fruits list:\n",
        "fruits=[\"apple\",\"mango\",\"banana\",\"grapes\"]\n",
        "points=(1,5,6,8,6)\n",
        "fruits.extend(points)\n",
        "print(fruits)"
      ]
    },
    {
      "cell_type": "markdown",
      "metadata": {
        "id": "hWsp2EL7VtNP"
      },
      "source": [
        "Python List index() Method\n",
        "Definition and Usage\n",
        "The index() method returns the position at the first occurrence of the specified value.\n",
        "\n",
        "Syntax\n",
        "list.index(elmnt)\n",
        "Parameter Values\n",
        "Parameter\tDescription\n",
        "elmnt\tRequired. Any type (string, number, list, etc.). The element to search for"
      ]
    },
    {
      "cell_type": "code",
      "execution_count": null,
      "metadata": {
        "id": "-4er-HjoVtNP",
        "outputId": "91be097a-006f-4ede-befb-948ba8262062"
      },
      "outputs": [
        {
          "name": "stdout",
          "output_type": "stream",
          "text": [
            "2\n",
            "2\n",
            "3\n"
          ]
        }
      ],
      "source": [
        "#What is the position of the value \"cherry\":\n",
        "fruits=[\"apple\",\"mango\",\"banana\"]\n",
        "x=fruits.index(\"banana\")\n",
        "print(x)\n",
        "#What is the position of the value 32:\n",
        "points=[1,7,65,9,65,82]\n",
        "x=points.index(65)\n",
        "print(x)\n",
        "\n",
        "fruits = [4, 55, 64, 32, 16, 32]\n",
        "\n",
        "x = fruits.index(32)\n",
        "\n",
        "print(x)\n",
        "\n",
        "#Note: The index() method only returns the first occurrence of the value."
      ]
    },
    {
      "cell_type": "markdown",
      "metadata": {
        "id": "RN_2JrZoVtNP"
      },
      "source": [
        "Python List insert() Method\n",
        "Definition and Usage\n",
        "The insert() method inserts the specified value at the specified position.\n",
        "\n",
        "Syntax\n",
        "list.insert(pos, elmnt)\n",
        "Parameter Values\n",
        "Parameter\tDescription\n",
        "pos\tRequired. A number specifying in which position to insert the value\n",
        "elmnt\tRequired. An element of any type (string, number, object etc.)"
      ]
    },
    {
      "cell_type": "code",
      "execution_count": null,
      "metadata": {
        "id": "qUt3RxGKVtNP",
        "outputId": "489b5881-8cc2-412b-ab09-ab4bc65186e7"
      },
      "outputs": [
        {
          "name": "stdout",
          "output_type": "stream",
          "text": [
            "['apple', 'banana', 'orange', 'grapes', 'orange']\n",
            "['apple', 'orange', 'banana', 'cherry']\n"
          ]
        }
      ],
      "source": [
        "#Insert the value \"orange\" as the second element of the fruit list:\n",
        "fruits=[\"apple\",\"banana\",\"grapes\",\"orange\"]\n",
        "fruits.insert(2,\"orange\")\n",
        "print(fruits)\n",
        "fruits = ['apple', 'banana', 'cherry']\n",
        "\n",
        "fruits.insert(1, \"orange\")\n",
        "\n",
        "print(fruits)\n"
      ]
    },
    {
      "cell_type": "markdown",
      "metadata": {
        "id": "BmjS92VXVtNP"
      },
      "source": [
        "Python List pop() Method\n",
        "Definition and Usage\n",
        "The pop() method removes the element at the specified position.\n",
        "\n",
        "Syntax\n",
        "list.pop(pos)\n",
        "Parameter Values\n",
        "Parameter\tDescription\n",
        "pos\tOptional. A number specifying the position of the element you want to remove, default value is -1, which returns the last item\n"
      ]
    },
    {
      "cell_type": "code",
      "execution_count": null,
      "metadata": {
        "id": "hWkR60mvVtNP",
        "outputId": "89f2d3d5-ae14-41f5-b4ad-6ad88a1e6e5a"
      },
      "outputs": [
        {
          "name": "stdout",
          "output_type": "stream",
          "text": [
            "['apple', 'banana']\n",
            "['apple', 'cherry']\n",
            "banana\n",
            "banana\n"
          ]
        }
      ],
      "source": [
        "#Remove the second element of the fruit list:\n",
        "fruits=[\"apple\",\"mango\",\"banana\"]\n",
        "fruits.pop(1)\n",
        "print(fruits)\n",
        "\n",
        "fruits = ['apple', 'banana', 'cherry']\n",
        "\n",
        "fruits.pop(1)\n",
        "\n",
        "print(fruits)\n",
        "#Return the removed element:\n",
        "fruits=[\"apple\",\"mango\",\"banana\",\"orange\"]\n",
        "x=fruits.pop(2)\n",
        "print(x)\n",
        "fruits = ['apple', 'banana', 'cherry']\n",
        "\n",
        "x = fruits.pop(1)\n",
        "\n",
        "print(x)\n",
        "#Note: The pop() method returns removed value."
      ]
    },
    {
      "cell_type": "markdown",
      "metadata": {
        "id": "gnMfX3ihVtNQ"
      },
      "source": [
        "Python List remove() Method\n",
        "Definition and Usage\n",
        "The remove() method removes the first occurrence of the element with the specified value.\n",
        "\n",
        "Syntax\n",
        "list.remove(elmnt)\n",
        "Parameter Values\n",
        "Parameter\tDescription\n",
        "elmnt\tRequired. Any type (string, number, list etc.) The element you want to remove"
      ]
    },
    {
      "cell_type": "code",
      "execution_count": null,
      "metadata": {
        "id": "tyGz_wFLVtNQ",
        "outputId": "5e72c9f7-bed3-42ae-88ea-763448f20563"
      },
      "outputs": [
        {
          "name": "stdout",
          "output_type": "stream",
          "text": [
            "['apple', 'orange']\n",
            "['apple', 'cherry']\n"
          ]
        }
      ],
      "source": [
        "#Remove the \"banana\" element of the fruit list:\n",
        "fruits=[\"apple\",\"banana\",\"orange\"]\n",
        "fruits.remove(\"banana\")\n",
        "print(fruits)\n",
        "fruits = ['apple', 'banana', 'cherry']\n",
        "\n",
        "fruits.remove(\"banana\")\n",
        "\n",
        "print(fruits)"
      ]
    },
    {
      "cell_type": "markdown",
      "metadata": {
        "id": "aG_K9B0FVtNQ"
      },
      "source": [
        "Python List reverse() Method\n",
        "Definition and Usage\n",
        "The reverse() method reverses the sorting order of the elements.\n",
        "\n",
        "Syntax\n",
        "list.reverse()\n",
        "Parameter Values\n",
        "No parameters"
      ]
    },
    {
      "cell_type": "code",
      "execution_count": null,
      "metadata": {
        "id": "nVXCuGbqVtNQ",
        "outputId": "b452f478-514a-454c-e0cf-f918c82404e4"
      },
      "outputs": [
        {
          "name": "stdout",
          "output_type": "stream",
          "text": [
            "['orange', 'banana', 'apple']\n",
            "['cherry', 'banana', 'apple']\n"
          ]
        }
      ],
      "source": [
        "#Reverse the order of the fruit list:\n",
        "fruits=[\"apple\",\"banana\",\"orange\"]\n",
        "fruits.reverse()\n",
        "print(fruits)\n",
        "fruits = ['apple', 'banana', 'cherry']\n",
        "\n",
        "fruits.reverse()\n",
        "\n",
        "print(fruits)\n"
      ]
    },
    {
      "cell_type": "markdown",
      "metadata": {
        "id": "nl8dloHxVtNQ"
      },
      "source": [
        "Python List sort() Method\n",
        "Definition and Usage\n",
        "The sort() method sorts the list ascending by default.\n",
        "\n",
        "You can also make a function to decide the sorting criteria(s).\n",
        "\n",
        "Syntax\n",
        "list.sort(reverse=True|False, key=myFunc)\n",
        "Parameter Values\n",
        "Parameter\tDescription\n",
        "reverse\tOptional. reverse=True will sort the list descending. Default is reverse=False\n",
        "key\tOptional. A function to specify the sorting criteria(s)"
      ]
    },
    {
      "cell_type": "code",
      "execution_count": null,
      "metadata": {
        "id": "3mgRe2c_VtNQ",
        "outputId": "526afa80-09ec-4572-e4fb-4a8f3b2e914f"
      },
      "outputs": [
        {
          "name": "stdout",
          "output_type": "stream",
          "text": [
            "['bws', 'cars', 'volvo']\n",
            "['BMW', 'Ford', 'Volvo']\n",
            "['Volvo', 'Ford', 'BMW']\n"
          ]
        }
      ],
      "source": [
        "#Sort the list alphabetically:\n",
        "cars=[\"cars\",\"bws\",\"volvo\"]\n",
        "cars.sort()\n",
        "print(cars)\n",
        "cars = ['Ford', 'BMW', 'Volvo']\n",
        "\n",
        "cars.sort()\n",
        "\n",
        "print(cars)\n",
        "#Sort the list descending:\n",
        "cars = ['Ford', 'BMW', 'Volvo']\n",
        "\n",
        "cars.sort(reverse=True)\n",
        "\n",
        "print(cars)\n",
        "#Sort the list by the length of the values:\n",
        "# A function that returns the length of the value:\n",
        "def myFunc(e):\n",
        "  return len(e)\n",
        "\n",
        "cars = ['Ford', 'Mitsubishi', 'BMW', 'VW']\n",
        "\n",
        "cars.sort(key=myFunc)\n",
        "\n",
        "print(cars)\n",
        "#Sort a list of dictionaries based on the \"year\" value of the dictionaries:\n",
        "def myFunc(e):\n",
        "  return e['year']\n",
        "\n",
        "cars = [\n",
        "  {'car': 'Ford', 'year': 2005},\n",
        "  {'car': 'Mitsubishi', 'year': 2000},\n",
        "  {'car': 'BMW', 'year': 2019},\n",
        "  {'car': 'VW', 'year': 2011}\n",
        "]\n",
        "\n",
        "cars.sort(key=myFunc)\n",
        "\n",
        "print(cars)\n",
        "#Sort the list by the length of the values and reversed:\n",
        "# A function that returns the length of the value:\n",
        "def myFunc(e):\n",
        "  return len(e)\n",
        "\n",
        "cars = ['Ford', 'Mitsubishi', 'BMW', 'VW']\n",
        "\n",
        "cars.sort(reverse=True, key=myFunc)\n",
        "\n",
        "print(cars)\n"
      ]
    },
    {
      "cell_type": "code",
      "execution_count": null,
      "metadata": {
        "id": "Q38_TuE8VtNR",
        "outputId": "8d87d7c1-4556-463f-dbaf-bae15bc71411"
      },
      "outputs": [
        {
          "name": "stdout",
          "output_type": "stream",
          "text": [
            "Chatbot: Sorry, I don't understand that. Try asking something else!\n",
            "Chatbot: Sorry, I don't understand that. Try asking something else!\n",
            "Chatbot: Sorry, I don't understand that. Try asking something else!\n",
            "Chatbot: Sorry, I don't understand that. Try asking something else!\n",
            "Chatbot: Sorry, I don't understand that. Try asking something else!\n",
            "Chatbot: Sorry, I don't understand that. Try asking something else!\n"
          ]
        }
      ],
      "source": [
        "# Simple chatbot using conditional statements\n",
        "def chatbot(user_question):\n",
        "    # Converting user input to lowercase for consistency\n",
        "    user_question = user_question.lower()\n",
        "    def user_question():\n",
        "     print(\"what is your name\")\n",
        "     print(\"how are you\")\n",
        "     print(\"what can you do\")\n",
        "     print(\"where are you from\")\n",
        "     print(\"who created you\")\n",
        "\n",
        "    # Responding to specific questions\n",
        "    if user_question == \"what is your name?\":\n",
        "        return \"Chatbot: My name is Chatbot\"\n",
        "    elif user_question == \"how are you?\":\n",
        "        return \"Chatbot: I'm just a bunch of code, but I'm doing great\"\n",
        "    elif user_question == \"what can you do?\":\n",
        "        return \"Chatbot: I can chat with you and respond to simple questions.\"\n",
        "    elif user_question == \"where are you from?\":\n",
        "        return \"chatbot: I exist in the virtual world of code.\"\n",
        "    elif user_question == \"who created you?\":\n",
        "        return \"Chatbot: I was created by a programmer!\"\n",
        "    else:\n",
        "        return \"Chatbot: Sorry, I don't understand that. Try asking something else!\"\n",
        "\n",
        "\n",
        "# Example interactions with the chatbot\n",
        "response_1 = chatbot(\"What is your name?\")\n",
        "response_2 = chatbot(\"How are you?\")\n",
        "response_3 = chatbot(\"What can you do?\")\n",
        "response_4 = chatbot(\"where are you from?\")\n",
        "response_5 = chatbot(\"where are you from?\")\n",
        "response_6 = chatbot(\"Tell me a joke\")\n",
        "\n",
        "\n",
        "\n",
        "# Printing responses\n",
        "print(response_1)\n",
        "print(response_2)\n",
        "print(response_3)\n",
        "print(response_4)\n",
        "print(response_5)\n",
        "print(response_6)\n",
        "#response_1, response_2, response_3, response_4, response_5, response_6\n"
      ]
    },
    {
      "cell_type": "code",
      "execution_count": null,
      "metadata": {
        "id": "rY_VoMnPVtNR"
      },
      "outputs": [],
      "source": [
        "def chatbot(user_question):\n",
        "    if user_question == \"what is your name?\":\n",
        "        return \"Chatbot: My name is Chatbot\"\n",
        "    elif user_question == \"how are you?\":\n",
        "        return \"Chatbot: I'm just a bunch of code, but I'm doing great\"\n",
        "    elif user_question == \"what can you do?\":\n",
        "        return \"Chatbot: I can chat with you and respond to simple questions.\"\n",
        "    elif user_question == \"where are you from?\":\n",
        "        return \"chatbot: I exist in the virtual world of code.\"\n",
        "    elif user_question == \"who created you?\":\n",
        "        return \"Chatbot: I was created by a programmer!\"\n",
        "    else:\n",
        "        return \"Chatbot: Sorry, I don't understand that. Try asking something else!\"\n",
        ""
      ]
    },
    {
      "cell_type": "code",
      "execution_count": null,
      "metadata": {
        "id": "NuZCzmO7VtNR"
      },
      "outputs": [],
      "source": [
        "def addition(num1,num2):# a\n",
        "  return num1 + num2\n",
        "\n",
        "def subtraction(num1,num2):# b\n",
        "  return num1 - num2\n",
        "\n",
        "def multiplication(num1,num2):#c\n",
        "  return num1 * num2\n",
        "\n",
        "def division(num1,num2):#d\n",
        "  if num2==0:\n",
        "    return \"error: division by zero is not allowed.\"\n",
        "  #else\n",
        "  return num1/num2\n",
        "\n",
        "def power(num1,num2): #e\n",
        "  return num1 ** num2\n",
        "\n",
        "def square(num1,num2):#f\n",
        "  return num1 ** num2\n",
        "\n",
        "def cube(num1,num2):# g\n",
        "  return num1 ** num2\n",
        "\n",
        "def square_root(num1,num2):# h\n",
        "  return num1 ** (1/num2)\n",
        "\n",
        "def cube_root(num1,num2):#i\n",
        "  return num1 ** (1/num2)\n",
        "\n",
        "def factorial(num1,num2):#j\n",
        "  return math.factorial(num1)\n",
        "\n",
        "def logarithm(num1,num2): #k\n",
        "  return math.log(num1,num2)\n",
        "\n",
        "def modulus(num1,num2):#l\n",
        "  return num1 % num2\n",
        "\n",
        "def calculator():\n",
        "  print(\"this is my calculator\")\n",
        "  print(\"select operation\")\n",
        "  print(\"a. addition\")\n",
        "  print(\"b.subtraction\")\n",
        "  print(\"c.multiplication\")\n",
        "  print(\"d.division\")\n",
        "  print(\"e.power\")\n",
        "  print(\"f.square\")\n",
        "  print(\"g.cube\")\n",
        "  print(\"h.square_root\")\n",
        "  print(\"i.cube_root\")\n",
        "  print(\"j.factorial\")\n",
        "  print(\"k.logarithm\")\n",
        "  print(\"l.modulus\")\n",
        "  # print(\"m.exit\")\n",
        "  try:\n",
        "    select = input(\"enter (a/b/c/d/e/f/g/h/i/j/k/l/m):\")\n",
        "    if select in [\"a\",\"b\",\"c\",\"d\",\"e\",\"f\",\"g\",\"h\",\"i\",\"j\",\"k\",\"l\",\"m\"]:\n",
        "      num1 = float(input(\"enter the first number:\"))\n",
        "      num2 = float(input(\"enter the second number:\"))\n",
        "\n",
        "      if select == \"a\":\n",
        "        print(f\":{addition(num1,num2)}\")\n",
        "      elif select == \"b\":\n",
        "        print(f\":{subtraction(num1,num2)}\")\n",
        "      elif select == \"c\":\n",
        "        print(f\":{multiplication(num1,num2)}\")\n",
        "      elif select == \"d\":\n",
        "        print(f\":{division(num1,num2)}\")#\n",
        "      elif select == \"e\":\n",
        "        print(f\":{power(num1,num2)}\")\n",
        "      elif select == \"f\":\n",
        "        print(f\":{square(num1,num2)}\")\n",
        "      elif select == \"g\":\n",
        "        print(f\":{cube(num1,num2)}\")#\n",
        "      elif select == \"h\":\n",
        "        print(f\":{square_root(num1,num2)}\")\n",
        "      elif select == \"i\":\n",
        "        print(f\":{cube_root(num1,num2)}\")#\n",
        "      elif select == \"j\":\n",
        "        print(f\":{factorial(num1,num2)}\")\n",
        "      elif select == \"k\":\n",
        "        print(f\":{logarithm(num1,num2)}\")\n",
        "      elif select == \"l\":\n",
        "        print(f\":{modulus(num1,num2)}\")\n",
        "    else:\n",
        "      print(\"invalid input. exit\")\n",
        "  except : #Fixed indentation of except block to align with try\n",
        "    print(\"Invalid input. Please enter correct values.\")\n",
        "  # Run the calculator\n",
        "calculator()"
      ]
    },
    {
      "cell_type": "code",
      "source": [
        "!curl -o helper_functions.py https://raw.githubusercontent.com/panaversity/learn-cloud-native-modern-ai-python/main/04_natural_language_programming/02_ai_python_for_beginners/course1_basics/Lesson_9/helper_functions.py"
      ],
      "metadata": {
        "colab": {
          "base_uri": "https://localhost:8080/"
        },
        "id": "hWEF_aadWIdJ",
        "outputId": "3f443c17-12f0-48cb-f220-4ea47be91876"
      },
      "execution_count": 1,
      "outputs": [
        {
          "output_type": "stream",
          "name": "stdout",
          "text": [
            "  % Total    % Received % Xferd  Average Speed   Time    Time     Time  Current\n",
            "                                 Dload  Upload   Total   Spent    Left  Speed\n",
            "100  3944  100  3944    0     0  21133      0 --:--:-- --:--:-- --:--:-- 21204\n"
          ]
        }
      ]
    },
    {
      "cell_type": "code",
      "source": [
        "from helper_functions import print_llm_response, get_llm_response"
      ],
      "metadata": {
        "id": "DrBUjFlYWYE9"
      },
      "execution_count": 2,
      "outputs": []
    },
    {
      "cell_type": "code",
      "source": [
        "name:str=\"tommy\"\n",
        "print(name)\n",
        "all_students:list=[\"junaid\", \"sehr\"]\n",
        "print(all_students)\n"
      ],
      "metadata": {
        "colab": {
          "base_uri": "https://localhost:8080/"
        },
        "id": "hyLzJyp_XotF",
        "outputId": "2b11f72b-f8c1-4880-bd59-f87bd4d37c63"
      },
      "execution_count": 12,
      "outputs": [
        {
          "output_type": "stream",
          "name": "stdout",
          "text": [
            "tommy\n",
            "['junaid', 'sehr']\n"
          ]
        }
      ]
    },
    {
      "cell_type": "code",
      "source": [
        "all_students: list =[\"junaid\", \"sehr\"]\n",
        "print(all_students)\n",
        "print(len(all_students))\n",
        "print(type(all_students))\n",
        "\n",
        "\n"
      ],
      "metadata": {
        "colab": {
          "base_uri": "https://localhost:8080/"
        },
        "id": "q4SnMa5RZFNh",
        "outputId": "a58f1f9b-8e99-43f7-cb64-46bbbd3fab09"
      },
      "execution_count": 9,
      "outputs": [
        {
          "output_type": "stream",
          "name": "stdout",
          "text": [
            "['junaid', 'sehr']\n",
            "2\n",
            "<class 'list'>\n"
          ]
        }
      ]
    },
    {
      "cell_type": "code",
      "source": [
        "name:str = \"junaid\"\n",
        "prompt = f\"\"\"\n",
        "Write a four line birthday poem for my friend {name}.\n",
        "The poem should be inspired by the first letter of my friend's name.\n",
        "\"\"\"\n",
        "print_llm_response(prompt)"
      ],
      "metadata": {
        "colab": {
          "base_uri": "https://localhost:8080/",
          "height": 104
        },
        "id": "8uyYWf_e0s12",
        "outputId": "64c0f14e-6aca-4e8f-8107-0d1b1ea75cd8"
      },
      "execution_count": 13,
      "outputs": [
        {
          "output_type": "stream",
          "name": "stdout",
          "text": [
            "Junaid, a jewel, bright and bold,\n",
            "Your laughter fills our stories old.\n",
            "Joy you bring, a constant friend,\n",
            "May your happiness never end. \n",
            "\n"
          ]
        }
      ]
    },
    {
      "source": [
        "from helper_functions import print_llm_response, get_llm_response # Import the functions here\n",
        "\n",
        "name:str = \"junaid\"\n",
        "prompt = f\"\"\"\n",
        "Write a four line birthday poem for my friend {name}.\n",
        "The poem should be inspired by the first letter of my friend's name.\n",
        "\"\"\"\n",
        "print_llm_response(prompt)"
      ],
      "cell_type": "code",
      "metadata": {
        "colab": {
          "base_uri": "https://localhost:8080/",
          "height": 104
        },
        "id": "uA2bxprc1KAB",
        "outputId": "679a565d-d782-4d86-80e5-9e94ca985585"
      },
      "execution_count": 14,
      "outputs": [
        {
          "output_type": "stream",
          "name": "stdout",
          "text": [
            "**J**oyful laughter fills the air,\n",
            "**U**pon this special day, we share,\n",
            "**N**urturing friendship, strong and true,\n",
            "**A**ll best wishes, Junaid, for you! \n",
            "\n"
          ]
        }
      ]
    },
    {
      "cell_type": "code",
      "source": [
        "#creating list\n",
        "#indexing  =    0         1         2\n",
        "fruits_list= [\"apple\", \"banana\", \"cherry\"]\n",
        "print(fruits_list)\n",
        "type(fruits_list)\n"
      ],
      "metadata": {
        "colab": {
          "base_uri": "https://localhost:8080/"
        },
        "id": "qU5h9xhb1sI_",
        "outputId": "b6879388-bd4d-43bc-bc2f-b6f5acab0c83"
      },
      "execution_count": 22,
      "outputs": [
        {
          "output_type": "stream",
          "name": "stdout",
          "text": [
            "['apple', 'banana', 'cherry']\n"
          ]
        },
        {
          "output_type": "execute_result",
          "data": {
            "text/plain": [
              "list"
            ]
          },
          "metadata": {},
          "execution_count": 22
        }
      ]
    },
    {
      "cell_type": "code",
      "source": [
        "len(fruits_list)\n",
        "\n",
        "prompt = f\"\"\"\n",
        "Write a set of four line birthday poems for my friends {fruits_list}.\n",
        "The poems should be insipred by the first letter of each friend's name.\n",
        "\"\"\"\n",
        "print(prompt)"
      ],
      "metadata": {
        "colab": {
          "base_uri": "https://localhost:8080/"
        },
        "id": "BoH5ojrU2r3E",
        "outputId": "0044c7b5-d378-4c84-e941-35df9e282b08"
      },
      "execution_count": 24,
      "outputs": [
        {
          "output_type": "stream",
          "name": "stdout",
          "text": [
            "\n",
            "Write a set of four line birthday poems for my friends ['apple', 'banana', 'cherry']. \n",
            "The poems should be insipred by the first letter of each friend's name.\n",
            "\n"
          ]
        }
      ]
    },
    {
      "cell_type": "code",
      "source": [
        "type(prompt)"
      ],
      "metadata": {
        "colab": {
          "base_uri": "https://localhost:8080/"
        },
        "id": "u4UPcxSu2yey",
        "outputId": "9be25084-df47-4a43-82e6-c391e9cb5f71"
      },
      "execution_count": 25,
      "outputs": [
        {
          "output_type": "execute_result",
          "data": {
            "text/plain": [
              "str"
            ]
          },
          "metadata": {},
          "execution_count": 25
        }
      ]
    },
    {
      "cell_type": "code",
      "source": [
        "print_llm_response(prompt)"
      ],
      "metadata": {
        "colab": {
          "base_uri": "https://localhost:8080/",
          "height": 416
        },
        "id": "QmRRxzs63yao",
        "outputId": "17ea5787-9835-4f17-da22-e644d6275655"
      },
      "execution_count": 26,
      "outputs": [
        {
          "output_type": "stream",
          "name": "stdout",
          "text": [
            "## Birthday Poems for your friends:\n",
            "\n",
            "**For Apple:**\n",
            "\n",
            "A shining star, a brilliant light,\n",
            "You bring joy and laughter, day and night.\n",
            "Wishing you a birthday filled with cheer,\n",
            "Happy birthday, dear Apple, my friend so dear!\n",
            "\n",
            "**For Banana:**\n",
            "\n",
            "Bright and cheerful, a sunny soul,\n",
            "Your laughter makes my heart whole.\n",
            "May your birthday be filled with glee,\n",
            "Happy birthday, Banana, to you from me!\n",
            "\n",
            "**For Cherry:**\n",
            "\n",
            "Charming and sweet, a delightful treat,\n",
            "Your kindness makes life so complete.\n",
            "May your birthday be a joyous day,\n",
            "Happy birthday, Cherry, in every way! \n",
            "\n"
          ]
        }
      ]
    },
    {
      "cell_type": "code",
      "source": [
        "first_fruit = fruits_list[0]\n",
        "print(first_fruit)"
      ],
      "metadata": {
        "colab": {
          "base_uri": "https://localhost:8080/"
        },
        "id": "DJQIcl4J39yC",
        "outputId": "053bdb05-afcf-4c17-f957-ad8180018243"
      },
      "execution_count": 27,
      "outputs": [
        {
          "output_type": "stream",
          "name": "stdout",
          "text": [
            "apple\n"
          ]
        }
      ]
    },
    {
      "cell_type": "code",
      "source": [
        "print(fruits_list[1])\n",
        "print(fruits_list[2])"
      ],
      "metadata": {
        "colab": {
          "base_uri": "https://localhost:8080/"
        },
        "id": "IBrIM0xJ42Iz",
        "outputId": "ff04fd37-4ceb-4bba-a1e3-b0da58c1101d"
      },
      "execution_count": 29,
      "outputs": [
        {
          "output_type": "stream",
          "name": "stdout",
          "text": [
            "banana\n",
            "cherry\n"
          ]
        }
      ]
    },
    {
      "cell_type": "code",
      "source": [
        "#adding another element to the list\n",
        "print(fruits_list)"
      ],
      "metadata": {
        "colab": {
          "base_uri": "https://localhost:8080/"
        },
        "id": "LZGrm3Dm51Ud",
        "outputId": "15fed281-dad1-434a-98af-a61356b161c9"
      },
      "execution_count": 56,
      "outputs": [
        {
          "output_type": "stream",
          "name": "stdout",
          "text": [
            "['apple', 'cherry', 'orange', 'junaid']\n"
          ]
        }
      ]
    },
    {
      "cell_type": "code",
      "source": [
        "#add single element to the list\n",
        "fruits_list.append(\"orange\")"
      ],
      "metadata": {
        "id": "OTw6gre05feK"
      },
      "execution_count": 57,
      "outputs": []
    },
    {
      "cell_type": "code",
      "source": [
        "print(fruits_list)"
      ],
      "metadata": {
        "colab": {
          "base_uri": "https://localhost:8080/"
        },
        "id": "Iug6uHiV6Jbo",
        "outputId": "4ff5b954-1924-4cdf-c45d-9b8eec8d60a9"
      },
      "execution_count": 58,
      "outputs": [
        {
          "output_type": "stream",
          "name": "stdout",
          "text": [
            "['apple', 'cherry', 'orange', 'junaid', 'orange']\n"
          ]
        }
      ]
    },
    {
      "cell_type": "code",
      "source": [
        "fruits_list.append(\"junaid\")\n",
        "print(fruits_list)"
      ],
      "metadata": {
        "colab": {
          "base_uri": "https://localhost:8080/"
        },
        "id": "wY5SUt3h6XU2",
        "outputId": "1a8ac29a-887e-4ca2-e58c-458947ed1865"
      },
      "execution_count": 59,
      "outputs": [
        {
          "output_type": "stream",
          "name": "stdout",
          "text": [
            "['apple', 'cherry', 'orange', 'junaid', 'orange', 'junaid']\n"
          ]
        }
      ]
    },
    {
      "cell_type": "code",
      "source": [
        "# modify the code below to add another friends:\n",
        "fruits_list.append(90)\n",
        "print(fruits_list)"
      ],
      "metadata": {
        "colab": {
          "base_uri": "https://localhost:8080/"
        },
        "id": "c0TqikSi67a4",
        "outputId": "b25b2028-f5a6-4d56-f97a-e563fc17e58f"
      },
      "execution_count": 60,
      "outputs": [
        {
          "output_type": "stream",
          "name": "stdout",
          "text": [
            "['apple', 'cherry', 'orange', 'junaid', 'orange', 'junaid', 90]\n"
          ]
        }
      ]
    },
    {
      "cell_type": "code",
      "source": [
        "print(fruits_list[4])\n",
        "print(type(fruits_list[4]))"
      ],
      "metadata": {
        "colab": {
          "base_uri": "https://localhost:8080/"
        },
        "id": "eK9nXFBc8tC8",
        "outputId": "1e8a7d8e-3434-4c83-e9af-54250c0a9087"
      },
      "execution_count": 46,
      "outputs": [
        {
          "output_type": "stream",
          "name": "stdout",
          "text": [
            "junaid\n",
            "<class 'str'>\n"
          ]
        }
      ]
    },
    {
      "cell_type": "code",
      "source": [
        "#deleting elements\n",
        "#using remove\n",
        "print(fruits_list)\n",
        "fruits_list.remove(90)\n",
        "print(fruits_list)"
      ],
      "metadata": {
        "colab": {
          "base_uri": "https://localhost:8080/"
        },
        "id": "0Ya_YI0d9qwu",
        "outputId": "9206ee7a-1b8e-487d-e387-8f0ed6f47112"
      },
      "execution_count": 61,
      "outputs": [
        {
          "output_type": "stream",
          "name": "stdout",
          "text": [
            "['apple', 'cherry', 'orange', 'junaid', 'orange', 'junaid', 90]\n",
            "['apple', 'cherry', 'orange', 'junaid', 'orange', 'junaid']\n"
          ]
        }
      ]
    },
    {
      "source": [
        "fruits_list = [] # Assume fruits_list is empty initially\n",
        "fruits_list.append(90)  # Add 90 to the list\n",
        "print(fruits_list)\n",
        "fruits_list.remove(90)  # Now you can remove it safely\n",
        "print(fruits_list)"
      ],
      "cell_type": "code",
      "metadata": {
        "colab": {
          "base_uri": "https://localhost:8080/"
        },
        "id": "82njZNPU-xyL",
        "outputId": "7c70d217-3be5-4c3f-c831-701deec16283"
      },
      "execution_count": 62,
      "outputs": [
        {
          "output_type": "stream",
          "name": "stdout",
          "text": [
            "[90]\n",
            "[]\n"
          ]
        }
      ]
    },
    {
      "source": [
        "# Use a conditional to check for the element before removal.\n",
        "print(fruits_list)\n",
        "if 90 in fruits_list:\n",
        "    fruits_list.remove(90)\n",
        "    print(\"Removed 90 from fruits_list\")\n",
        "else:\n",
        "    print(\"90 not found in fruits_list\")\n",
        "print(fruits_list)"
      ],
      "cell_type": "code",
      "metadata": {
        "colab": {
          "base_uri": "https://localhost:8080/"
        },
        "id": "vsCScmZv-z8p",
        "outputId": "f8afece3-281d-4eea-e4cc-707b4e0a65a1"
      },
      "execution_count": 63,
      "outputs": [
        {
          "output_type": "stream",
          "name": "stdout",
          "text": [
            "[]\n",
            "90 not found in fruits_list\n",
            "[]\n"
          ]
        }
      ]
    },
    {
      "cell_type": "code",
      "source": [
        "#list with other data types\n",
        "list_ages:list=[34,21,30,20]\n",
        "print(list_ages)\n",
        "print(type(list_ages))\n",
        "print(list_ages[0])\n",
        "print(type(list_ages[0]))\n",
        "print(list_ages[1])\n",
        "print(type(list_ages[1]))\n",
        "print(list_ages[2])\n",
        "print(type(list_ages[2]))\n",
        "print(list_ages[3])\n",
        "print(type(list_ages[3]))\n",
        "print(list_ages)\n",
        "print(len(list_ages))\n"
      ],
      "metadata": {
        "colab": {
          "base_uri": "https://localhost:8080/"
        },
        "id": "nZCTDzHe_VN1",
        "outputId": "86c29f7b-db40-4dc7-c61e-b0bcce81fa99"
      },
      "execution_count": 68,
      "outputs": [
        {
          "output_type": "stream",
          "name": "stdout",
          "text": [
            "[34, 21, 30, 20]\n",
            "<class 'list'>\n",
            "34\n",
            "<class 'int'>\n",
            "21\n",
            "<class 'int'>\n",
            "30\n",
            "<class 'int'>\n",
            "20\n",
            "<class 'int'>\n",
            "[34, 21, 30, 20]\n",
            "4\n"
          ]
        }
      ]
    },
    {
      "cell_type": "code",
      "source": [
        "to_do_list=[]\n",
        "print(to_do_list)\n",
        "to_do_list.append(\"buy milk\")\n",
        "print(to_do_list)\n",
        "task=\"buy eggs\"\n",
        "to_do_list.append(task)\n",
        "print(to_do_list)"
      ],
      "metadata": {
        "colab": {
          "base_uri": "https://localhost:8080/"
        },
        "id": "RLQqj7ClBJFD",
        "outputId": "ee29060e-b3cc-46ec-bab1-388f4d3230ae"
      },
      "execution_count": 69,
      "outputs": [
        {
          "output_type": "stream",
          "name": "stdout",
          "text": [
            "[]\n",
            "['buy milk']\n",
            "['buy milk', 'buy eggs']\n"
          ]
        }
      ]
    },
    {
      "cell_type": "code",
      "source": [
        "task=[]\n",
        "def add_to_do_list(task):\n",
        "    to_do_list.append(task)\n",
        "    return to_do_list\n",
        "def remove_from_do_list(task):\n",
        "    to_do_list.remove(task)\n",
        "    return to_do_list\n",
        "def view_to_do_list():\n",
        "    return to_do_list\n",
        "def clear_to_do_list():\n",
        "    to_do_list.clear()\n",
        "    return to_do_list\n",
        "    def main_menu():\n",
        "      print(\"1. Add to-do item\")\n",
        "      print(\"2. Remove to-do item\")\n",
        "      print(\"3. View to-do list\")\n",
        "      print(\"4. Clear to-do list\")\n",
        "      print(\"5. Quit\")\n",
        "if __name__ == \"__main__\":\n",
        "    while True:\n",
        "        main_menu()\n",
        "        choice = input(\"Enter your choice (1-5): \")\n",
        "        if choice == \"1\":\n",
        "            task = input(\"Enter the task to add: \")\n",
        "            add_to_do_list(task)\n",
        "        elif choice == \"2\":\n",
        "            task = input(\"Enter the task to remove: \")\n",
        "            remove_from_do_list(task)\n",
        "                           elif choice == \"3\":\n",
        "            view_to_do_list()\n",
        "        elif choice == \"4\":\n",
        "                                    clear_to_do_list()\n",
        "        elif choice == \"5\":\n",
        "            break\n",
        "            else:\n",
        "            print(\"Invalid choice. Please select a valid option.\")\n",
        "            print(\"Goodbye\")\n"
      ],
      "metadata": {
        "colab": {
          "base_uri": "https://localhost:8080/",
          "height": 106
        },
        "id": "hXHZ1uG0CUhZ",
        "outputId": "7de0d1bf-9f39-4140-ed07-0430f89be3e3"
      },
      "execution_count": 74,
      "outputs": [
        {
          "output_type": "error",
          "ename": "IndentationError",
          "evalue": "unexpected indent (<ipython-input-74-91266305f529>, line 29)",
          "traceback": [
            "\u001b[0;36m  File \u001b[0;32m\"<ipython-input-74-91266305f529>\"\u001b[0;36m, line \u001b[0;32m29\u001b[0m\n\u001b[0;31m    elif choice == \"3\":\u001b[0m\n\u001b[0m    ^\u001b[0m\n\u001b[0;31mIndentationError\u001b[0m\u001b[0;31m:\u001b[0m unexpected indent\n"
          ]
        }
      ]
    },
    {
      "source": [
        "task=[]\n",
        "def add_to_do_list(task):\n",
        "    to_do_list.append(task)\n",
        "    return to_do_list\n",
        "def remove_from_do_list(task):\n",
        "    to_do_list.remove(task)\n",
        "    return to_do_list\n",
        "def view_to_do_list():\n",
        "    return to_do_list\n",
        "def clear_to_do_list():\n",
        "    to_do_list.clear()\n",
        "    return to_do_list\n",
        "def main_menu(): # Fixed indentation of main_menu definition\n",
        "    print(\"1. Add to-do item\")\n",
        "    print(\"2. Remove to-do item\")\n",
        "    print(\"3. View to-do list\")\n",
        "    print(\"4. Clear to-do list\")\n",
        "    print(\"5. Quit\")\n",
        "# The main part of the program\n",
        "if __name__ == \"__main__\":\n",
        "    to_do_list = []  # Initialize to_do_list here\n",
        "    while True:\n",
        "        main_menu()\n",
        "        choice = input(\"Enter your choice (1-5): \")\n",
        "        if choice == \"1\":\n",
        "            task = input(\"Enter the task to add: \")\n",
        "            add_to_do_list(task)\n",
        "        elif choice == \"2\":\n",
        "            task = input(\"Enter the task to remove: \")\n",
        "            remove_from_do_list(task)\n",
        "        elif choice == \"3\": # Fixed indentation\n",
        "            view_to_do_list()\n",
        "        elif choice == \"4\": # Fixed indentation\n",
        "            clear_to_do_list()\n",
        "        elif choice == \"5\":\n",
        "            break\n",
        "        else: # Fixed indentation and added else block\n",
        "            print(\"Invalid choice. Please select a valid option.\")\n",
        "    print(\"Goodbye\") # Moved this outside the loop to print once at the end"
      ],
      "cell_type": "code",
      "metadata": {
        "colab": {
          "base_uri": "https://localhost:8080/"
        },
        "id": "moyeAZrOEmh4",
        "outputId": "fb190309-9533-4832-e89d-f6b1d642ede3"
      },
      "execution_count": 75,
      "outputs": [
        {
          "output_type": "stream",
          "name": "stdout",
          "text": [
            "1. Add to-do item\n",
            "2. Remove to-do item\n",
            "3. View to-do list\n",
            "4. Clear to-do list\n",
            "5. Quit\n",
            "Enter your choice (1-5): 1\n",
            "Enter the task to add: write program\n",
            "1. Add to-do item\n",
            "2. Remove to-do item\n",
            "3. View to-do list\n",
            "4. Clear to-do list\n",
            "5. Quit\n",
            "Enter your choice (1-5): 3\n",
            "1. Add to-do item\n",
            "2. Remove to-do item\n",
            "3. View to-do list\n",
            "4. Clear to-do list\n",
            "5. Quit\n",
            "Enter your choice (1-5): 1\n",
            "Enter the task to add: addition\n",
            "1. Add to-do item\n",
            "2. Remove to-do item\n",
            "3. View to-do list\n",
            "4. Clear to-do list\n",
            "5. Quit\n",
            "Enter your choice (1-5): 3\n",
            "1. Add to-do item\n",
            "2. Remove to-do item\n",
            "3. View to-do list\n",
            "4. Clear to-do list\n",
            "5. Quit\n",
            "Enter your choice (1-5): 3\n",
            "1. Add to-do item\n",
            "2. Remove to-do item\n",
            "3. View to-do list\n",
            "4. Clear to-do list\n",
            "5. Quit\n",
            "Enter your choice (1-5): quite\n",
            "Invalid choice. Please select a valid option.\n",
            "1. Add to-do item\n",
            "2. Remove to-do item\n",
            "3. View to-do list\n",
            "4. Clear to-do list\n",
            "5. Quit\n",
            "Enter your choice (1-5): 5\n",
            "Goodbye\n"
          ]
        }
      ]
    },
    {
      "cell_type": "code",
      "source": [
        "#list of tasks in priority order. Multi-line lists are allowed in python!\n",
        "list_of_tasks: list = [\n",
        "    \"Compose a brief email to my boss explaining that I will be late for tomorrow's meeting.\",\n",
        "    \"Write a birthday poem for Otto, celebrating his 28th birthday.\",\n",
        "    \"Write a 300-word review of the movie 'The Arrival'.\"\n",
        "]\n"
      ],
      "metadata": {
        "id": "gUF8adfsFQko"
      },
      "execution_count": 79,
      "outputs": []
    },
    {
      "cell_type": "code",
      "source": [
        "#get task from list\n",
        "task=list_of_tasks[0]\n",
        "print_llm_response(task)"
      ],
      "metadata": {
        "colab": {
          "base_uri": "https://localhost:8080/",
          "height": 225
        },
        "id": "OLD1jmq-Fvrt",
        "outputId": "31ed9b89-f17a-42a6-e2ee-42d27347cc3e"
      },
      "execution_count": 80,
      "outputs": [
        {
          "output_type": "stream",
          "name": "stdout",
          "text": [
            "Subject: Running Late for Tomorrow's Meeting\n",
            "\n",
            "Hi [Boss's name],\n",
            "\n",
            "I wanted to let you know that I will be running a bit late for tomorrow's meeting at [Time] due to [Brief reason for lateness]. \n",
            "\n",
            "I apologize for any inconvenience this may cause and will be there as soon as possible.\n",
            "\n",
            "Best,\n",
            "\n",
            "[Your name] \n",
            "\n"
          ]
        }
      ]
    },
    {
      "cell_type": "code",
      "source": [
        "task=list_of_tasks[1]\n",
        "print_llm_response(task)"
      ],
      "metadata": {
        "colab": {
          "base_uri": "https://localhost:8080/",
          "height": 364
        },
        "id": "yjIjBZsjHIDH",
        "outputId": "731784d6-711e-4382-da65-53a283fc254a"
      },
      "execution_count": 81,
      "outputs": [
        {
          "output_type": "stream",
          "name": "stdout",
          "text": [
            "To Otto, dear friend, on this special day,\n",
            "Twenty-eight years old, you're on your way!\n",
            "From childhood dreams to dreams come true,\n",
            "We celebrate you, it's all for you!\n",
            "\n",
            "With laughter bright and spirit bold,\n",
            "You light the world, a story to be told.\n",
            "Your kindness shines, a beacon so clear,\n",
            "Bringing joy to all, dispelling all fear.\n",
            "\n",
            "May this year bring you laughter and cheer,\n",
            "With loved ones near, banishing all fear.\n",
            "May your ambitions take flight and soar,\n",
            "Achieving goals, reaching for more.\n",
            "\n",
            "So raise a glass, let's toast with glee,\n",
            "To Otto, dear friend, happy birthday to thee! \n",
            "May your journey be filled with joy and grace,\n",
            "As you embrace life, at your own pace. \n",
            "\n"
          ]
        }
      ]
    },
    {
      "cell_type": "code",
      "source": [
        "task=list_of_tasks[2]\n",
        "print_llm_response(task)"
      ],
      "metadata": {
        "colab": {
          "base_uri": "https://localhost:8080/",
          "height": 245
        },
        "id": "1m2oiRrhHP75",
        "outputId": "e9367a8f-79e6-44be-bd4a-62600fab6895"
      },
      "execution_count": 82,
      "outputs": [
        {
          "output_type": "stream",
          "name": "stdout",
          "text": [
            "## The Arrival: A Quiet Symphony of Humanity and the Unknown\n",
            "\n",
            "\"The Arrival\" is a film that demands silence, not in its dialogue, which is sparse, but in its ability to evoke deep thought and introspection.  It's a meditation on communication, grief, and the human condition, framed by the arrival of mysterious alien vessels.\n",
            "\n",
            "Amy Adams delivers a nuanced and emotionally resonant performance as Louise Banks, a linguist tasked with deciphering the alien language. The film masterfully uses visuals and sound design to illustrate the challenges of bridging the gap between species, with the alien language taking on a mesmerizing and haunting beauty.\n",
            "\n",
            "The film's pacing is deliberate, allowing the tension to build slowly and the philosophical themes to sink in. It avoids the typical sci-fi tropes of explosions and battles, instead focusing on the intimate struggles of the characters as they grapple with the enormity of the situation.\n",
            "\n",
            "\"The Arrival\" is a film that rewards patience and thoughtful engagement. The ending, while open to interpretation, offers a poignant commentary on the power of empathy and understanding in a world increasingly divided.  It's a film that stays with you long after the credits roll, prompting reflection on the nature of time, memory, and our connection to the unknown.\n",
            "\n",
            "While some viewers may find the film's pacing slow or its conclusion ambiguous, \"The Arrival\" is a triumph of intelligent filmmaking, offering a thought-provoking and deeply moving experience.  It's a film that resonates with the anxieties of our time, while reminding us of the inherent beauty and resilience of the human spirit. \n",
            "\n"
          ]
        }
      ]
    },
    {
      "cell_type": "code",
      "source": [
        "\n",
        "# Create a list with the titles\n",
        "# of five of your favorite movies\n",
        "\n",
        "### WRITE CODE HERE ###\n",
        "list_of_movies=[\"a\",\"b\",\"d\",\"d\",\"g\"]\n",
        "### --------------- ###\n",
        "\n",
        "\n",
        "movie_list = list_of_movies\n",
        "print(movie_list)\n",
        "### --------------- ###"
      ],
      "metadata": {
        "colab": {
          "base_uri": "https://localhost:8080/"
        },
        "id": "xkSb1uHZHngo",
        "outputId": "ebf51e1f-208b-49a4-e76c-de8d87ad496b"
      },
      "execution_count": 83,
      "outputs": [
        {
          "output_type": "stream",
          "name": "stdout",
          "text": [
            "['a', 'b', 'd', 'd', 'g']\n"
          ]
        }
      ]
    },
    {
      "source": [
        "favorite_movies: List[str] = [\n",
        "    \"The Shawshank Redemption\",\n",
        "    \"The Godfather\",\n",
        "    \"The Dark Knight\",\n",
        "    \"Pulp Fiction\",\n",
        "    \"The Lord of the Rings: The Return of the King\"\n",
        "]\n",
        "\n",
        "print(favorite_movies)"
      ],
      "cell_type": "code",
      "metadata": {
        "colab": {
          "base_uri": "https://localhost:8080/",
          "height": 211
        },
        "id": "KfmSo0KqIRkb",
        "outputId": "e2ebf293-2ee1-4e16-9b50-40689e47b4f1"
      },
      "execution_count": 84,
      "outputs": [
        {
          "output_type": "error",
          "ename": "NameError",
          "evalue": "name 'List' is not defined",
          "traceback": [
            "\u001b[0;31m---------------------------------------------------------------------------\u001b[0m",
            "\u001b[0;31mNameError\u001b[0m                                 Traceback (most recent call last)",
            "\u001b[0;32m<ipython-input-84-5e8a8e0af786>\u001b[0m in \u001b[0;36m<cell line: 1>\u001b[0;34m()\u001b[0m\n\u001b[0;32m----> 1\u001b[0;31m favorite_movies: List[str] = [\n\u001b[0m\u001b[1;32m      2\u001b[0m     \u001b[0;34m\"The Shawshank Redemption\"\u001b[0m\u001b[0;34m,\u001b[0m\u001b[0;34m\u001b[0m\u001b[0;34m\u001b[0m\u001b[0m\n\u001b[1;32m      3\u001b[0m     \u001b[0;34m\"The Godfather\"\u001b[0m\u001b[0;34m,\u001b[0m\u001b[0;34m\u001b[0m\u001b[0;34m\u001b[0m\u001b[0m\n\u001b[1;32m      4\u001b[0m     \u001b[0;34m\"The Dark Knight\"\u001b[0m\u001b[0;34m,\u001b[0m\u001b[0;34m\u001b[0m\u001b[0;34m\u001b[0m\u001b[0m\n\u001b[1;32m      5\u001b[0m     \u001b[0;34m\"Pulp Fiction\"\u001b[0m\u001b[0;34m,\u001b[0m\u001b[0;34m\u001b[0m\u001b[0;34m\u001b[0m\u001b[0m\n",
            "\u001b[0;31mNameError\u001b[0m: name 'List' is not defined"
          ]
        }
      ]
    },
    {
      "source": [
        "from typing import List\n",
        "\n",
        "favorite_movies: List[str] = [\n",
        "    \"The Shawshank Redemption\",\n",
        "    \"The Godfather\",\n",
        "    \"The Dark Knight\",\n",
        "    \"Pulp Fiction\",\n",
        "    \"The Lord of the Rings: The Return of the King\"\n",
        "]\n",
        "\n",
        "print(favorite_movies)"
      ],
      "cell_type": "code",
      "metadata": {
        "colab": {
          "base_uri": "https://localhost:8080/"
        },
        "id": "nM9iJUKxIch4",
        "outputId": "640e2ce5-8ebd-4875-a281-616d3865ba24"
      },
      "execution_count": 85,
      "outputs": [
        {
          "output_type": "stream",
          "name": "stdout",
          "text": [
            "['The Shawshank Redemption', 'The Godfather', 'The Dark Knight', 'Pulp Fiction', 'The Lord of the Rings: The Return of the King']\n"
          ]
        }
      ]
    },
    {
      "cell_type": "code",
      "source": [
        "\n",
        "# Display the fourth element of\n",
        "# the following list using print()\n",
        "\n",
        "prime_numbers = [2, 3, 5, 7, 11]\n",
        "\n",
        "### WRITE CODE HERE ###\n",
        "print(prime_numbers[4])\n",
        "### --------------- ###"
      ],
      "metadata": {
        "colab": {
          "base_uri": "https://localhost:8080/"
        },
        "id": "739i2u2-Ijwf",
        "outputId": "5856011e-a4ad-4401-b871-509b6245e9a1"
      },
      "execution_count": 87,
      "outputs": [
        {
          "output_type": "stream",
          "name": "stdout",
          "text": [
            "11\n"
          ]
        }
      ]
    },
    {
      "source": [
        "my_list = [\"apple\", \"banana\", \"cherry\", \"orange\", \"kiwi\"]\n",
        "print_llm_response(my_list[3])  # Output: orange"
      ],
      "cell_type": "code",
      "metadata": {
        "colab": {
          "base_uri": "https://localhost:8080/",
          "height": 156
        },
        "id": "yp7Y469UJItw",
        "outputId": "3024093d-52a2-4444-ed97-58264e6c1883"
      },
      "execution_count": 89,
      "outputs": [
        {
          "output_type": "stream",
          "name": "stdout",
          "text": [
            "\"Orange\" is a very versatile word! To help me understand what you want, could you tell me more about what you're interested in?  For example:\n",
            "\n",
            "* **Are you thinking about the color orange?**  We could talk about its symbolism, its use in art, or its place on the color spectrum.\n",
            "* **Are you thinking about the fruit?** We could discuss its nutritional value, different varieties, or interesting recipes.\n",
            "* **Do you want me to write a poem or story about oranges?** I can try my best to create something fun and creative!\n",
            "\n",
            "Please give me more context so I can give you a more helpful response. \n",
            "\n"
          ]
        }
      ]
    },
    {
      "cell_type": "code",
      "source": [
        "\n",
        "# Fix the bug in the following code\n",
        "\n",
        "prime_numbers = [2, 3, 5, 7, 11]\n",
        "\n",
        "### FIX THIS CODE ###\n",
        "print(prime_numbers(3)) #access and print() the fourth element\n",
        "### --------------- ###"
      ],
      "metadata": {
        "colab": {
          "base_uri": "https://localhost:8080/",
          "height": 193
        },
        "id": "tRJfAi-WJYZe",
        "outputId": "3899dc0a-8bc9-4ddc-b394-97f875cf3161"
      },
      "execution_count": 90,
      "outputs": [
        {
          "output_type": "error",
          "ename": "TypeError",
          "evalue": "'list' object is not callable",
          "traceback": [
            "\u001b[0;31m---------------------------------------------------------------------------\u001b[0m",
            "\u001b[0;31mTypeError\u001b[0m                                 Traceback (most recent call last)",
            "\u001b[0;32m<ipython-input-90-c5a9ace8185a>\u001b[0m in \u001b[0;36m<cell line: 6>\u001b[0;34m()\u001b[0m\n\u001b[1;32m      4\u001b[0m \u001b[0;34m\u001b[0m\u001b[0m\n\u001b[1;32m      5\u001b[0m \u001b[0;31m### FIX THIS CODE ###\u001b[0m\u001b[0;34m\u001b[0m\u001b[0;34m\u001b[0m\u001b[0m\n\u001b[0;32m----> 6\u001b[0;31m \u001b[0mprint\u001b[0m\u001b[0;34m(\u001b[0m\u001b[0mprime_numbers\u001b[0m\u001b[0;34m(\u001b[0m\u001b[0;36m3\u001b[0m\u001b[0;34m)\u001b[0m\u001b[0;34m)\u001b[0m \u001b[0;31m#access and print() the fourth element\u001b[0m\u001b[0;34m\u001b[0m\u001b[0;34m\u001b[0m\u001b[0m\n\u001b[0m\u001b[1;32m      7\u001b[0m \u001b[0;31m### --------------- ###\u001b[0m\u001b[0;34m\u001b[0m\u001b[0;34m\u001b[0m\u001b[0m\n",
            "\u001b[0;31mTypeError\u001b[0m: 'list' object is not callable"
          ]
        }
      ]
    },
    {
      "source": [
        "prime_numbers = [2, 3, 5, 7, 11]\n",
        "\n",
        "### FIX THIS CODE ###\n",
        "print(prime_numbers[3])  # Access using index 3 (fourth element)\n",
        "### --------------- ###"
      ],
      "cell_type": "code",
      "metadata": {
        "colab": {
          "base_uri": "https://localhost:8080/"
        },
        "id": "Wx920QiRKwBf",
        "outputId": "6c6e9b1c-6a16-4ca8-a573-2d780c360f06"
      },
      "execution_count": 94,
      "outputs": [
        {
          "output_type": "stream",
          "name": "stdout",
          "text": [
            "7\n"
          ]
        }
      ]
    },
    {
      "source": [
        "prime_numbers = [2, 3, 5, 7, 11]\n",
        "\n",
        "### FIX THIS CODE ###\n",
        "print(prime_numbers[3]) #access and print() the fourth element using square brackets [] for indexing.\n",
        "### --------------- ###"
      ],
      "cell_type": "code",
      "metadata": {
        "colab": {
          "base_uri": "https://localhost:8080/"
        },
        "id": "qYsn-9lUJlW8",
        "outputId": "519d7afc-59a6-4b11-83b1-9870b1132e39"
      },
      "execution_count": 91,
      "outputs": [
        {
          "output_type": "stream",
          "name": "stdout",
          "text": [
            "7\n"
          ]
        }
      ]
    },
    {
      "cell_type": "code",
      "source": [
        "# Add one name to friends_list using append\n",
        "\n",
        "friends_list = [\"Tommy\", \"Isabel\", \"Daniel\", \"Otto\"]\n",
        "\n",
        "### WRITE CODE HERE ###\n",
        "friends_list.append(\"mariam\")\n",
        "### --------------- ###\n",
        "\n",
        "print(friends_list)"
      ],
      "metadata": {
        "colab": {
          "base_uri": "https://localhost:8080/"
        },
        "id": "tcG-2txCK9HD",
        "outputId": "2ffbae0e-46ef-4cf8-9375-482084744967"
      },
      "execution_count": 97,
      "outputs": [
        {
          "output_type": "stream",
          "name": "stdout",
          "text": [
            "['Tommy', 'Isabel', 'Daniel', 'Otto', 'mariam']\n"
          ]
        }
      ]
    },
    {
      "cell_type": "code",
      "source": [
        "# In the following code, remove the country\n",
        "# that is not in South America\n",
        "\n",
        "countries_in_south_america = [\"Colombia\", \"Peru\",\n",
        "                              \"Brasil\", \"Japan\",\n",
        "                              \"Argentina\"]\n",
        "\n",
        "### WRITE CODE HERE ###\n",
        "countries_in_south_america.remove(\"Japan\")\n",
        "### --------------- ###\n",
        "\n",
        "print(countries_in_south_america)"
      ],
      "metadata": {
        "colab": {
          "base_uri": "https://localhost:8080/"
        },
        "id": "i-xr8o83Ll0G",
        "outputId": "180d55b2-9664-4771-c9d5-e33bbf040712"
      },
      "execution_count": 98,
      "outputs": [
        {
          "output_type": "stream",
          "name": "stdout",
          "text": [
            "['Colombia', 'Peru', 'Brasil', 'Argentina']\n"
          ]
        }
      ]
    },
    {
      "cell_type": "code",
      "source": [
        "print(\"hello\")"
      ],
      "metadata": {
        "id": "mhM15Q8Uniah"
      },
      "execution_count": null,
      "outputs": []
    },
    {
      "cell_type": "markdown",
      "source": [
        "\n",
        "Lesson 2 - Repeating tasks with for loops"
      ],
      "metadata": {
        "id": "npxVw1IzqYxl"
      }
    },
    {
      "cell_type": "markdown",
      "source": [
        "From previous lesson\n",
        "At the end of last lesson you saw this list of tasks"
      ],
      "metadata": {
        "id": "GEwXccKNtQKo"
      }
    },
    {
      "cell_type": "code",
      "source": [
        "#from previous lesson:\n",
        "list_of_tasks = [\n",
        "    \"Compose a brief email to my boss explaining that I will be late for tomorrow's meeting.\",\n",
        "    \"Write a birthday poem for Otto, celebrating his 28th birthday.\",\n",
        "    \"Write a 300-word review of the movie 'The Arrival'.\"\n",
        "]\n",
        "print(list_of_tasks)"
      ],
      "metadata": {
        "colab": {
          "base_uri": "https://localhost:8080/"
        },
        "id": "1wONjIybqadX",
        "outputId": "3a521a81-8865-4416-ea16-df21672c5f8b"
      },
      "execution_count": 8,
      "outputs": [
        {
          "output_type": "stream",
          "name": "stdout",
          "text": [
            "[\"Compose a brief email to my boss explaining that I will be late for tomorrow's meeting.\", 'Write a birthday poem for Otto, celebrating his 28th birthday.', \"Write a 300-word review of the movie 'The Arrival'.\"]\n"
          ]
        }
      ]
    },
    {
      "cell_type": "code",
      "source": [
        "task = list_of_tasks[0]\n",
        "print_llm_response(task)"
      ],
      "metadata": {
        "colab": {
          "base_uri": "https://localhost:8080/",
          "height": 208
        },
        "id": "9hlUoajst0Jy",
        "outputId": "42f81b7d-e15b-4ee1-87ae-146ad2c3ee96"
      },
      "execution_count": 9,
      "outputs": [
        {
          "output_type": "stream",
          "name": "stdout",
          "text": [
            "Subject: Late Arrival to Tomorrow's Meeting\n",
            "\n",
            "Hi [Boss's name],\n",
            "\n",
            "Please be advised that I will be running a bit late to tomorrow's meeting at [Time of Meeting]. I should arrive by [Estimated arrival time]. \n",
            "\n",
            "My apologies for any inconvenience this may cause.\n",
            "\n",
            "Best,\n",
            "[Your name] \n",
            "\n"
          ]
        }
      ]
    },
    {
      "cell_type": "markdown",
      "source": [
        "iterating through task lists with AI"
      ],
      "metadata": {
        "id": "dztO12f_vDP-"
      }
    },
    {
      "cell_type": "code",
      "source": [
        "print(list_of_task)"
      ],
      "metadata": {
        "colab": {
          "base_uri": "https://localhost:8080/",
          "height": 141
        },
        "id": "fpKHjTUjxacE",
        "outputId": "94e0faec-6e75-46a9-b13a-95c7f00c2d3c"
      },
      "execution_count": 11,
      "outputs": [
        {
          "output_type": "error",
          "ename": "NameError",
          "evalue": "name 'list_of_task' is not defined",
          "traceback": [
            "\u001b[0;31m---------------------------------------------------------------------------\u001b[0m",
            "\u001b[0;31mNameError\u001b[0m                                 Traceback (most recent call last)",
            "\u001b[0;32m<ipython-input-11-089eebeb629f>\u001b[0m in \u001b[0;36m<cell line: 1>\u001b[0;34m()\u001b[0m\n\u001b[0;32m----> 1\u001b[0;31m \u001b[0mprint\u001b[0m\u001b[0;34m(\u001b[0m\u001b[0mlist_of_task\u001b[0m\u001b[0;34m)\u001b[0m\u001b[0;34m\u001b[0m\u001b[0;34m\u001b[0m\u001b[0m\n\u001b[0m",
            "\u001b[0;31mNameError\u001b[0m: name 'list_of_task' is not defined"
          ]
        }
      ]
    },
    {
      "source": [
        "print(list_of_tasks) # Change list_of_task to list_of_tasks"
      ],
      "cell_type": "code",
      "metadata": {
        "colab": {
          "base_uri": "https://localhost:8080/"
        },
        "id": "-H-ylyWr7AbF",
        "outputId": "55687902-1002-4eee-910f-b32d7f5305df"
      },
      "execution_count": 12,
      "outputs": [
        {
          "output_type": "stream",
          "name": "stdout",
          "text": [
            "[\"Compose a brief email to my boss explaining that I will be late for tomorrow's meeting.\", 'Write a birthday poem for Otto, celebrating his 28th birthday.', \"Write a 300-word review of the movie 'The Arrival'.\"]\n"
          ]
        }
      ]
    },
    {
      "cell_type": "code",
      "source": [
        "print(list_of_tasks[0])\n"
      ],
      "metadata": {
        "colab": {
          "base_uri": "https://localhost:8080/"
        },
        "id": "XKa1okegxnEs",
        "outputId": "d8f963ed-62b2-46eb-9bc3-ae5d0d1992ab"
      },
      "execution_count": 14,
      "outputs": [
        {
          "output_type": "stream",
          "name": "stdout",
          "text": [
            "Compose a brief email to my boss explaining that I will be late for tomorrow's meeting.\n"
          ]
        }
      ]
    },
    {
      "cell_type": "code",
      "source": [
        "#for loop means control flow\n",
        "#syntax,variable need,(in)through back sequence m list s one by one  task ko uthana or is task ko dena then print ko dena , variable jis m task ki list h\n",
        "for task in list_of_tasks:\n",
        " print(task)"
      ],
      "metadata": {
        "colab": {
          "base_uri": "https://localhost:8080/"
        },
        "id": "JdawXbG5vTBv",
        "outputId": "53dad039-3024-4a8a-ef5f-766417a8aa80"
      },
      "execution_count": 15,
      "outputs": [
        {
          "output_type": "stream",
          "name": "stdout",
          "text": [
            "Compose a brief email to my boss explaining that I will be late for tomorrow's meeting.\n",
            "Write a birthday poem for Otto, celebrating his 28th birthday.\n",
            "Write a 300-word review of the movie 'The Arrival'.\n"
          ]
        }
      ]
    },
    {
      "cell_type": "code",
      "source": [
        "for task in list_of_tasks:#: block of indendation spaces 4\n",
        "    print(\" task start\")\n",
        "    print_llm_response(task)\n",
        "    print(\" task complete\" )"
      ],
      "metadata": {
        "colab": {
          "base_uri": "https://localhost:8080/",
          "height": 853
        },
        "id": "y_i_OrTtxXhC",
        "outputId": "acb35aa5-0969-437e-81ae-358c7648c11a"
      },
      "execution_count": 17,
      "outputs": [
        {
          "output_type": "stream",
          "name": "stdout",
          "text": [
            " task start\n",
            "Subject: Late for Tomorrow's Meeting\n",
            "\n",
            "Hi [Boss's name],\n",
            "\n",
            "Please be advised that I will be running slightly late for tomorrow's meeting at [time]. I apologize for any inconvenience this may cause. I will be there as soon as possible.\n",
            "\n",
            "Thanks,\n",
            "[Your name] \n",
            "\n",
            " task complete\n",
            " task start\n",
            "To Otto, our friend, a toast we raise,\n",
            "On this special day, we sing your praise.\n",
            "Twenty-eight years have flown by so fast,\n",
            "A milestone reached, a moment to grasp.\n",
            "\n",
            "You've grown and learned, with wisdom in sight,\n",
            "Through laughter and tears, you've shone so bright.\n",
            "Your spirit's infectious, your kindness untold,\n",
            "A friend so true, a story to be told.\n",
            "\n",
            "So let's celebrate with joy and cheer,\n",
            "Another year older, another year dear.\n",
            "May this birthday bring you happiness and grace,\n",
            "With love and laughter in every embrace.\n",
            "\n",
            "Happy birthday, Otto, we wish you well,\n",
            "May life's adventures bring stories to tell.\n",
            "May your dreams take flight, your ambitions soar,\n",
            "And happiness fill your life, forevermore! \n",
            "\n",
            " task complete\n",
            " task start\n",
            "## The Arrival: A Quietly Powerful Exploration of Language, Time, and Humanity\n",
            "\n",
            "\"The Arrival\" is a thought-provoking sci-fi film that goes beyond the usual alien invasion tropes. It presents a nuanced and contemplative exploration of communication, time, and the nature of humanity itself.\n",
            "\n",
            "The film centers around Dr. Louise Banks, a brilliant linguist tasked with deciphering the language of alien visitors who have arrived on Earth. As Louise delves deeper into their complex, non-linear communication, she grapples with the ramifications of their presence and the possibility of an impending war. The film's strength lies in its slow burn pacing and introspective tone. It eschews action-packed sequences for quiet moments of contemplation and intricate visual storytelling.\n",
            "\n",
            "Amy Adams delivers a captivating performance as Louise, conveying both the character's intellectual prowess and her emotional vulnerability. Her journey to understand the aliens and the impact their presence has on her life is both compelling and deeply personal.\n",
            "\n",
            "The film's visual language is as captivating as its narrative. Director Denis Villeneuve masterfully uses sound design and cinematography to create an atmosphere of both wonder and unease. The alien language itself is beautifully rendered, adding to the film's sense of mystery and intrigue.\n",
            "\n",
            "\"The Arrival\" is not a film for those seeking explosions and easy answers. It's a film that challenges viewers to think deeply about the nature of communication, the passage of time, and the meaning of life itself. While the film's ending may leave some viewers wanting more concrete answers, its power lies in its ambiguity, encouraging viewers to continue the conversation long after the credits roll.  \"The Arrival\" is a truly unique and unforgettable cinematic experience, a film that lingers in the mind long after the final scene. \n",
            "\n",
            " task complete\n"
          ]
        }
      ]
    },
    {
      "cell_type": "code",
      "source": [
        "# mistaks correct\n",
        "for task in list_of_tasks:\n",
        "print_llm_response(task)"
      ],
      "metadata": {
        "colab": {
          "base_uri": "https://localhost:8080/",
          "height": 106
        },
        "id": "Dew9YfQD7W7I",
        "outputId": "05bbaf95-12d7-471d-c0c8-5aa37007136c"
      },
      "execution_count": 18,
      "outputs": [
        {
          "output_type": "error",
          "ename": "IndentationError",
          "evalue": "expected an indented block after 'for' statement on line 2 (<ipython-input-18-a7827e725a9d>, line 3)",
          "traceback": [
            "\u001b[0;36m  File \u001b[0;32m\"<ipython-input-18-a7827e725a9d>\"\u001b[0;36m, line \u001b[0;32m3\u001b[0m\n\u001b[0;31m    print_llm_response(task)\u001b[0m\n\u001b[0m    ^\u001b[0m\n\u001b[0;31mIndentationError\u001b[0m\u001b[0;31m:\u001b[0m expected an indented block after 'for' statement on line 2\n"
          ]
        }
      ]
    },
    {
      "cell_type": "code",
      "source": [
        "for task in list_of_tasks:\n",
        "    print_llm_response(task)"
      ],
      "metadata": {
        "colab": {
          "base_uri": "https://localhost:8080/",
          "height": 662
        },
        "id": "I39RqM6J8fdB",
        "outputId": "7e62ff99-27a4-42c7-9494-74d1c844d5ab"
      },
      "execution_count": 19,
      "outputs": [
        {
          "output_type": "stream",
          "name": "stdout",
          "text": [
            "Subject: Running Late for Tomorrow's Meeting\n",
            "\n",
            "Hi [Boss's Name],\n",
            "\n",
            "Just wanted to let you know that I will be running a few minutes late for tomorrow's meeting at [time].  I apologize for any inconvenience this may cause.\n",
            "\n",
            "Thanks,\n",
            "[Your Name] \n",
            "\n",
            "To Otto, dear friend, on this day so bright,\n",
            "We raise a glass to your twenty-eighth light.\n",
            "A year older, wiser, and full of cheer,\n",
            "May laughter and joy fill your coming year.\n",
            "\n",
            "You've faced challenges, climbed every peak,\n",
            "With courage and kindness, you're one of a unique.\n",
            "Your humor shines bright, a star in the sky,\n",
            "Your friendship a treasure, we're glad you're nigh.\n",
            "\n",
            "So celebrate, Otto, with friends and with glee,\n",
            "May your birthday be filled with merriment free.\n",
            "Here's to many more years, filled with love and grace,\n",
            "May your life be a journey, with joy in each space. \n",
            "\n",
            "## The Arrival: A Thought-Provoking Journey Through Language and Loss\n",
            "\n",
            "Denis Villeneuve's \"The Arrival\" isn't just a science fiction film, it's a deeply moving exploration of grief, communication, and the very nature of time. Amy Adams delivers a captivating performance as Dr. Louise Banks, a linguist tasked with deciphering the language of alien visitors who have mysteriously landed across the globe.\n",
            "\n",
            "The film's strength lies in its slow burn approach. It avoids the typical alien invasion tropes, instead focusing on the intricate process of communication and understanding. Through a unique, visually stunning depiction of the alien language, Villeneuve crafts a tangible sense of the otherworldly and challenges our preconceived notions of time and causality.\n",
            "\n",
            "The film's emotional core lies in Louise's personal journey. Haunted by the loss of her daughter, she grapples with the profound implications of the alien contact, finding solace and understanding in the language of the visitors. Adams's performance is nuanced and heartfelt, conveying both Louise's intellectual prowess and her vulnerability.\n",
            "\n",
            "While the film may initially seem slow-paced, it ultimately rewards patient viewers with a profound and thought-provoking experience. \"The Arrival\" isn't just about aliens; it's about the human capacity for empathy, connection, and transcending limitations. \n",
            "\n",
            "The stunning visuals, haunting soundtrack, and compelling performances all contribute to a powerful cinematic experience that leaves a lasting impact. \"The Arrival\" is a reminder that sometimes the most profound journeys are not about where we go, but about who we become along the way. \n",
            "\n"
          ]
        }
      ]
    },
    {
      "cell_type": "markdown",
      "source": [
        "\n",
        "Iteratively updating AI prompts using lists"
      ],
      "metadata": {
        "id": "PhNlmRvz83qp"
      }
    },
    {
      "cell_type": "code",
      "source": [
        "#ice cream flavor example\n",
        "ice_cream_flavors = [\n",
        "    \"Vanilla\",\n",
        "    \"Chocolate\",\n",
        "    \"Strawberry\",\n",
        "    \"Mint Chocolate Chip\"\n",
        "]"
      ],
      "metadata": {
        "id": "yXS8yvr884s9"
      },
      "execution_count": 3,
      "outputs": []
    },
    {
      "cell_type": "code",
      "source": [
        "for flavor in ice_cream_flavors:\n",
        "    prompt = f\"\"\"For the ice cream flavor listed below,\n",
        "    provide a captivating description that could be used for promotional purposes.\n",
        "\n",
        "    Flavor: {flavor}\n",
        "\n",
        "    \"\"\"\n",
        "    print(\"start\")\n",
        "    print_llm_response(prompt)\n",
        "    print(\"end\")\n"
      ],
      "metadata": {
        "colab": {
          "base_uri": "https://localhost:8080/",
          "height": 627
        },
        "id": "TZsl08dwBoWQ",
        "outputId": "aaaf3a90-f1cf-476f-f1bf-32b27628e2bb"
      },
      "execution_count": 4,
      "outputs": [
        {
          "output_type": "stream",
          "name": "stdout",
          "text": [
            "start\n",
            "## Vanilla: The Classic Reinvented\n",
            "\n",
            "Don't let the name fool you, this isn't your grandma's vanilla. This is **vanilla elevated**, a symphony of pure, rich flavor that dances on your tongue.  Imagine creamy Madagascar vanilla beans, hand-selected for their intoxicating aroma, swirled into a velvety base. Each spoonful is a journey to a sun-drenched meadow, where the air is thick with the sweet scent of blooming vanilla orchids. **This isn't just vanilla, it's an experience.** \n",
            "\n",
            "end\n",
            "start\n",
            "## Indulge in the Richness of Pure Chocolate Bliss\n",
            "\n",
            "Our Chocolate ice cream is a symphony of decadent indulgence. Crafted with the finest cocoa beans, it offers a velvety smooth texture that melts in your mouth, leaving you with an irresistible chocolatey hug.  Each spoonful is a journey through layers of rich, dark chocolate, culminating in a satisfying finish that lingers on your palate.  Whether you crave a simple scoop or a decadent sundae, our Chocolate ice cream is the ultimate indulgence for your taste buds. \n",
            "\n",
            "end\n",
            "start\n",
            "##  Indulge in Summer's Kiss: Strawberry Ice Cream \n",
            "\n",
            "**Imagine:**  a symphony of sunshine and sweetness.  Our Strawberry ice cream captures the essence of a sun-kissed summer day, bursting with the vibrant flavor of freshly picked strawberries.  Each creamy bite is a delicious journey, starting with the bright, juicy sweetness of ripe berries and finishing with a refreshingly tart kiss.  \n",
            "\n",
            "**It's the perfect treat for:**  a warm summer afternoon, a nostalgic childhood memory, or simply a moment of pure indulgence.  \n",
            "\n",
            "**This is not your average strawberry ice cream.**  We use only the finest, hand-picked strawberries to ensure a truly authentic flavor experience.  Our recipe is crafted with love and care, resulting in a smooth, creamy texture that melts in your mouth.  \n",
            "\n",
            "**Don't just dream about it, savor it.**  Our Strawberry ice cream is a taste of summer, bottled and ready to be enjoyed.  \n",
            "\n",
            "end\n",
            "start\n",
            "## Unleash Your Inner Chill with Mint Chocolate Chip\n",
            "\n",
            "**Imagine this:** a cool, refreshing wave of minty bliss, dancing on your tongue, followed by the irresistible crunch of decadent chocolate chips. **This is Mint Chocolate Chip, a flavor that's both invigorating and indulgent.** \n",
            "\n",
            "Forget boring, predictable ice cream. **Mint Chocolate Chip is a symphony of contrasts.** The cool, clean taste of mint awakens your senses, while the rich, dark chocolate chips deliver a satisfying sweetness that lingers long after the last bite. \n",
            "\n",
            "**It's the perfect treat for any occasion.**  Enjoy a scoop after a spicy meal to cool down, or indulge in a cone on a sunny afternoon.  **No matter how you choose to savor it, Mint Chocolate Chip will always be a classic.** \n",
            "\n",
            "end\n"
          ]
        }
      ]
    },
    {
      "cell_type": "markdown",
      "source": [
        "\n",
        "Now that you know how to use lists, you can even save the promortional descriptions to another list using .append():"
      ],
      "metadata": {
        "id": "WJGo9O8N8C0r"
      }
    },
    {
      "cell_type": "code",
      "source": [
        "#saving results to a list\n",
        "promotional_descriptions = []\n",
        "for flavor in ice_cream_flavors:\n",
        "    prompt = f\"\"\"For the ice cream flavor listed below,\n",
        "    provide a captivating description that could be used for promotional purposes.\n",
        "\n",
        "    Flavor: {flavor}\n",
        "\n",
        "    \"\"\"\n",
        "    description = get_llm_response(prompt)\n",
        "    promotional_descriptions.append(description)"
      ],
      "metadata": {
        "id": "67Y_QCRi8FM0"
      },
      "execution_count": 5,
      "outputs": []
    },
    {
      "cell_type": "markdown",
      "source": [],
      "metadata": {
        "id": "XtR33Zm38CwZ"
      }
    },
    {
      "cell_type": "code",
      "source": [
        "print(promotional_descriptions)"
      ],
      "metadata": {
        "colab": {
          "base_uri": "https://localhost:8080/"
        },
        "id": "UZ6hPDjn89xg",
        "outputId": "ab062ec7-5b07-424d-e8ae-4dd2ca6eb9f1"
      },
      "execution_count": 6,
      "outputs": [
        {
          "output_type": "stream",
          "name": "stdout",
          "text": [
            "[\"## Vanilla: The Classic Reimagined\\n\\nForget what you think you know about vanilla. This isn't your grandma's boring scoop. Our Vanilla is a symphony of pure, creamy perfection. Crafted with the finest Madagascar vanilla beans, each spoonful explodes with an intoxicating aroma and a depth of flavor that will leave you craving more. It's simple, elegant, and undeniably delicious - the ultimate blank canvas for your taste buds.  \\n\", \"## Indulge in the Decadence: Our Chocolate Ice Cream\\n\\nForget everything you thought you knew about chocolate ice cream. This isn't your average, run-of-the-mill treat. This is a symphony of rich, velvety chocolate, crafted to tantalize your taste buds. \\n\\nImagine the first bite: a smooth, creamy swirl melting on your tongue, releasing a wave of pure chocolate bliss. Each spoonful is a journey through layers of intense chocolate flavor, from the subtle sweetness of cocoa to the hint of dark chocolate depth. It's a decadent experience that will leave you craving for more.\\n\\nOur Chocolate Ice Cream is not just a dessert, it's a moment of pure indulgence. So, treat yourself to a scoop of this divine treat, and experience the ultimate chocolate dream. \\n\", \"##  🍓 Dive into Summer with Every Bite! 🍓\\n\\n**Our Strawberry ice cream is a love letter to sunshine and sweet memories.** Made with real, ripe strawberries bursting with juicy flavor, every spoonful is a vibrant reminder of warm days and delicious treats. **Imagine a summer picnic, the scent of fresh strawberries filling the air, and the first bite of creamy, dreamy ice cream that melts in your mouth.**  This isn't just a flavor, it's an experience - a taste of pure, unadulterated happiness. \\n\", \"## Escape to the Mint Chocolate Chip Oasis\\n\\n**Imagine this:** Cool, crisp mint ice cream, swirling with decadent chocolate chips, melting on your tongue. Every bite is a refreshing journey to a summery paradise, where the sweet, minty coolness soothes your soul and the rich chocolate bursts with delightful indulgence. This isn't just ice cream, it's an experience. It's a taste of serenity, a moment of pure joy, a blissful escape from the ordinary. **Indulge in the magic of Mint Chocolate Chip. Your taste buds will thank you.** \\n\"]\n"
          ]
        }
      ]
    },
    {
      "cell_type": "markdown",
      "source": [
        "\n",
        "Extra practice"
      ],
      "metadata": {
        "id": "-HhcpKK29eBR"
      }
    },
    {
      "cell_type": "code",
      "source": [
        "# Fix the following code.\n",
        "# It should print the flavors in\n",
        "# ice_cream_flavors one by one.\n",
        "\n",
        "ice_cream_flavors = [\"Chocolate\", \"Mint Chocolate Chip\"]\n",
        "\n",
        "### EDIT THE FOLLOWING CODE ###\n",
        "for flavor in ice_cream_flavors:\n",
        "    print(ice_cream_flavors)\n",
        "### --------------- ###"
      ],
      "metadata": {
        "colab": {
          "base_uri": "https://localhost:8080/"
        },
        "id": "GUJmBKnC9uOV",
        "outputId": "0e6b959a-1f42-4487-d1ce-d590771fb0ca"
      },
      "execution_count": 7,
      "outputs": [
        {
          "output_type": "stream",
          "name": "stdout",
          "text": [
            "['Chocolate', 'Mint Chocolate Chip']\n",
            "['Chocolate', 'Mint Chocolate Chip']\n"
          ]
        }
      ]
    },
    {
      "cell_type": "code",
      "source": [
        "\n",
        "# Translate the flavors in ice_cream_flavors to Spanish\n",
        "ice_cream_flavors = [\"Vanilla\", \"Strawberry\"]\n",
        "\n",
        "for flavor in ice_cream_flavors:\n",
        "    ### EDIT THE FOLLOWING CODE ###\n",
        "    #Hint: you only need to add one or two sentences to the prompt\n",
        "    prompt = f\"\"\"For the ice cream flavor listed below,\n",
        "\n",
        "    \"\"\"\n",
        "    ### --------------- ###\n",
        "    print_llm_response(prompt)"
      ],
      "metadata": {
        "colab": {
          "base_uri": "https://localhost:8080/",
          "height": 86
        },
        "id": "-21AVO-T94fe",
        "outputId": "327f3963-d593-42b4-b2e3-81f99bbfeb5e"
      },
      "execution_count": 8,
      "outputs": [
        {
          "output_type": "stream",
          "name": "stdout",
          "text": [
            "Please provide the ice cream flavor you would like me to discuss! I need the flavor name to be able to give you information. 😄🍦 \n",
            "\n",
            "Please provide the ice cream flavor you'd like me to help you with. I need the flavor name to be able to assist you! 😊 \n",
            "\n"
          ]
        }
      ]
    },
    {
      "source": [
        "ice_cream_flavors = [\"Vanilla\", \"Strawberry\"]\n",
        "\n",
        "# Create a dictionary to store translations\n",
        "translations = {\n",
        "    \"Vanilla\": \"Vainilla\",\n",
        "    \"Strawberry\": \"Fresa\"\n",
        "}\n",
        "\n",
        "# Translate the flavors\n",
        "spanish_flavors = [translations.get(flavor, flavor) for flavor in ice_cream_flavors]\n",
        "\n",
        "print(spanish_flavors)  # Output: ['Vainilla', 'Fresa']"
      ],
      "cell_type": "code",
      "metadata": {
        "colab": {
          "base_uri": "https://localhost:8080/"
        },
        "id": "09Msoar_-l7Z",
        "outputId": "1fd9eead-932f-47e6-b7b3-508dc5ebb3c3"
      },
      "execution_count": 9,
      "outputs": [
        {
          "output_type": "stream",
          "name": "stdout",
          "text": [
            "['Vainilla', 'Fresa']\n"
          ]
        }
      ]
    },
    {
      "cell_type": "code",
      "source": [
        "\n",
        "# Write code to get a list with\n",
        "# words without typos\n",
        "\n",
        "words_with_typos = [\"Aple\", \"Wether\", \"Newpaper\"]\n",
        "words_without_typos = [\"apple\", \"weather\", \"newspaper\"]\n",
        "\n",
        "for word in words_with_typos:\n",
        "    prompt = f\"\"\"Fix the spelling mistake in the following word: {word}\n",
        "    Provide only the word.\n",
        "    \"\"\"\n",
        "    correct_word = get_llm_response(prompt)\n",
        "    ### WRITE CODE HERE  ###\n",
        "    #Hint: Append the correct_word to the words_without_typos list\n",
        "    ### --------------- ###\n",
        "\n",
        "print(words_without_typos)"
      ],
      "metadata": {
        "colab": {
          "base_uri": "https://localhost:8080/",
          "height": 34
        },
        "id": "6rQCgnVN_one",
        "outputId": "22248f1a-403f-4b54-c290-e3c1340992bd"
      },
      "execution_count": 10,
      "outputs": [
        {
          "output_type": "stream",
          "name": "stdout",
          "text": [
            "['apple', 'weather', 'newspaper']\n"
          ]
        }
      ]
    },
    {
      "source": [
        "def get_words_without_typos(words_with_typos):\n",
        "  \"\"\"Corrects spelling mistakes in a list of words using an LLM.\n",
        "\n",
        "  Args:\n",
        "    words_with_typos: A list of words with potential spelling mistakes.\n",
        "\n",
        "  Returns:\n",
        "    A list of words with spelling mistakes corrected.\n",
        "  \"\"\"\n",
        "\n",
        "  words_without_typos = []\n",
        "  for word in words_with_typos:\n",
        "    prompt = f\"\"\"Fix the spelling mistake in the following word: {word}\n",
        "    Provide only the word.\n",
        "    \"\"\"\n",
        "    correct_word = get_llm_response(prompt)  # Assumes you have this function\n",
        "    words_without_typos.append(correct_word)\n",
        "  return words_without_typos\n",
        "\n",
        "# Example usage:\n",
        "words_with_typos = [\"Aple\", \"Wether\", \"Newpaper\"]\n",
        "corrected_words = get_words_without_typos(words_with_typos)\n",
        "print(corrected_words)  # Output: ['Apple', 'Weather', 'Newspaper']"
      ],
      "cell_type": "code",
      "metadata": {
        "colab": {
          "base_uri": "https://localhost:8080/",
          "height": 34
        },
        "id": "swjs1YpHAVtY",
        "outputId": "c01db23f-c183-4485-e7f9-3c40e0b69b5d"
      },
      "execution_count": 11,
      "outputs": [
        {
          "output_type": "stream",
          "name": "stdout",
          "text": [
            "['Apple \\n', 'Whether \\n', 'Newspaper \\n']\n"
          ]
        }
      ]
    },
    {
      "cell_type": "markdown",
      "source": [
        "How it works:\n",
        "\n",
        "get_words_without_typos function:\n",
        "\n",
        "Takes a list of words_with_typos as input.\n",
        "Initializes an empty list words_without_typos to store the corrected words.\n",
        "Iterates through each word in the words_with_typos list.\n",
        "Creates a prompt for the LLM asking to fix the spelling mistake.\n",
        "Calls the get_llm_response function (which you need to implement) to get the corrected word.\n",
        "Appends the correct_word to the words_without_typos list.\n",
        "Returns the words_without_typos list.\n",
        "Example usage:\n",
        "\n",
        "Creates a list of words with typos (words_with_typos).\n",
        "Calls get_words_without_typos with the list to get the corrected words.\n",
        "Prints the corrected_words list.\n",
        "Important:\n",
        "\n",
        "You need to replace get_llm_response(prompt) with your actual implementation that interacts with the LLM to get the corrected word.\n",
        "The output assumes the LLM provides the correct words as expected."
      ],
      "metadata": {
        "id": "kAsEkyOxAclZ"
      }
    },
    {
      "cell_type": "markdown",
      "source": [
        "\n",
        "Lesson 3 - Prioritizing tasks with dictionaries and AI"
      ],
      "metadata": {
        "id": "zGclEn_ZBd3P"
      }
    },
    {
      "cell_type": "code",
      "source": [
        "# left to righi\n",
        "#index              0    1    2    3    4\n",
        "# right to left\n",
        "#index             -5   -4   -3   -2   -1\n",
        "data: list[str] = [\"a\", \"b\", \"c\", \"d\", \"e\"]# list (any data  append krskty hn, array tha os m same data type one variable m store krty thy, but ismy multiple data type ki value append krskty hn)\n",
        "data1: tuple[str] = (\"x\", \"y\", \"c\", \"d\", \"e\")#tuple, no update value but reassign\n",
        "data2: set[int] = {1,2,3,4}#set (no indexing apply in set) if write double time but return one time\n",
        "print(type(data))\n",
        "print(type(data1))\n",
        "print(type(data2))\n",
        "\n",
        "print(data[0])\n",
        "print(data[-3])"
      ],
      "metadata": {
        "colab": {
          "base_uri": "https://localhost:8080/"
        },
        "id": "GjtYMicaBf_s",
        "outputId": "dac62362-acf7-45d4-e275-02cafc64803e"
      },
      "execution_count": 13,
      "outputs": [
        {
          "output_type": "stream",
          "name": "stdout",
          "text": [
            "<class 'list'>\n",
            "<class 'tuple'>\n",
            "<class 'set'>\n",
            "a\n",
            "c\n"
          ]
        }
      ]
    },
    {
      "cell_type": "code",
      "source": [
        "[i for i in dir(list) if \"__\" not in i]"
      ],
      "metadata": {
        "colab": {
          "base_uri": "https://localhost:8080/"
        },
        "id": "uUqznKidHUSi",
        "outputId": "508e9c36-d089-4bad-ebe4-51e4cee87b1f"
      },
      "execution_count": 14,
      "outputs": [
        {
          "output_type": "execute_result",
          "data": {
            "text/plain": [
              "['append',\n",
              " 'clear',\n",
              " 'copy',\n",
              " 'count',\n",
              " 'extend',\n",
              " 'index',\n",
              " 'insert',\n",
              " 'pop',\n",
              " 'remove',\n",
              " 'reverse',\n",
              " 'sort']"
            ]
          },
          "metadata": {},
          "execution_count": 14
        }
      ]
    },
    {
      "cell_type": "code",
      "source": [
        "!pip install -Uq nb-mypy\n",
        "%load_ext nb_mypy"
      ],
      "metadata": {
        "colab": {
          "base_uri": "https://localhost:8080/"
        },
        "id": "EvJHZljgH0BN",
        "outputId": "9736e69b-213d-43e6-9636-789412a74fc5"
      },
      "execution_count": 15,
      "outputs": [
        {
          "output_type": "stream",
          "name": "stdout",
          "text": [
            "  Installing build dependencies ... \u001b[?25l\u001b[?25hdone\n",
            "  Getting requirements to build wheel ... \u001b[?25l\u001b[?25hdone\n",
            "  Preparing metadata (pyproject.toml) ... \u001b[?25l\u001b[?25hdone\n",
            "\u001b[2K   \u001b[90m━━━━━━━━━━━━━━━━━━━━━━━━━━━━━━━━━━━━━━━━\u001b[0m \u001b[32m819.5/819.5 kB\u001b[0m \u001b[31m14.9 MB/s\u001b[0m eta \u001b[36m0:00:00\u001b[0m\n",
            "\u001b[2K   \u001b[90m━━━━━━━━━━━━━━━━━━━━━━━━━━━━━━━━━━━━━━━━\u001b[0m \u001b[32m12.5/12.5 MB\u001b[0m \u001b[31m97.1 MB/s\u001b[0m eta \u001b[36m0:00:00\u001b[0m\n",
            "\u001b[2K   \u001b[90m━━━━━━━━━━━━━━━━━━━━━━━━━━━━━━━━━━━━━━━━\u001b[0m \u001b[32m85.4/85.4 kB\u001b[0m \u001b[31m7.8 MB/s\u001b[0m eta \u001b[36m0:00:00\u001b[0m\n",
            "\u001b[?25h  Building wheel for nb-mypy (pyproject.toml) ... \u001b[?25l\u001b[?25hdone\n",
            "\u001b[31mERROR: pip's dependency resolver does not currently take into account all the packages that are installed. This behaviour is the source of the following dependency conflicts.\n",
            "google-colab 1.0.0 requires ipython==7.34.0, but you have ipython 8.28.0 which is incompatible.\u001b[0m\u001b[31m\n",
            "\u001b[0m"
          ]
        },
        {
          "output_type": "stream",
          "name": "stderr",
          "text": [
            "Version 1.0.5\n",
            "INFO:nb-mypy:Version 1.0.5\n"
          ]
        }
      ]
    },
    {
      "cell_type": "code",
      "source": [
        "names : list[str] = [\"sehr\", \"junaid\", \"ali\", \"faizan\"]\n",
        "print(names)"
      ],
      "metadata": {
        "colab": {
          "base_uri": "https://localhost:8080/"
        },
        "id": "EIearkwtMd-I",
        "outputId": "d0900127-e173-47ff-ece3-8beccf1ffaf7"
      },
      "execution_count": 16,
      "outputs": [
        {
          "output_type": "stream",
          "name": "stdout",
          "text": [
            "['sehr', 'junaid', 'ali', 'faizan']\n"
          ]
        }
      ]
    },
    {
      "cell_type": "code",
      "source": [
        "names : list[str] = [\"sehr\",True, \"junaid\", \"ali\", \"faizan\"]\n",
        "print(names)"
      ],
      "metadata": {
        "colab": {
          "base_uri": "https://localhost:8080/"
        },
        "id": "VC_dhK6INAQF",
        "outputId": "19c3d8ac-24a9-42c1-f9d6-9d15e684f7ad"
      },
      "execution_count": 17,
      "outputs": [
        {
          "output_type": "stream",
          "name": "stderr",
          "text": [
            "<cell>1: error: List item 1 has incompatible type \"bool\"; expected \"str\"  [list-item]\n",
            "ERROR:nb-mypy:<cell>1: error: List item 1 has incompatible type \"bool\"; expected \"str\"  [list-item]\n"
          ]
        },
        {
          "output_type": "stream",
          "name": "stdout",
          "text": [
            "['sehr', True, 'junaid', 'ali', 'faizan']\n"
          ]
        }
      ]
    },
    {
      "cell_type": "code",
      "source": [
        "from typing import List, Any\n",
        "\n",
        "data : list[Any] = [\"sehr\", \"aslam\", \"faiza is a good teacher\", 30, \"how\"]\n",
        "# [], index, value\n",
        "print(data[0])"
      ],
      "metadata": {
        "colab": {
          "base_uri": "https://localhost:8080/"
        },
        "id": "nL5bCz-xN8rS",
        "outputId": "2dfbdf48-a964-415c-aca8-a67feed81507"
      },
      "execution_count": 19,
      "outputs": [
        {
          "output_type": "stream",
          "name": "stdout",
          "text": [
            "sehr\n"
          ]
        }
      ]
    },
    {
      "cell_type": "code",
      "source": [
        "# {}, key, value\n",
        "from typing import Dict, Any\n",
        "data : Dict[str, Any] = {\n",
        "    \"name\" : \"sehr\",\n",
        "    \"father_name\"  :  \"Aslam\",\n",
        "    \"age\" : 30,\n",
        "    \"is_teacher\" : True\n",
        "}\n",
        "print(data[\"name\"])\n",
        "print(data)\n",
        "\n"
      ],
      "metadata": {
        "colab": {
          "base_uri": "https://localhost:8080/"
        },
        "id": "iovd5abCPTLs",
        "outputId": "e755e4c7-9931-4df5-9790-d5503867de57"
      },
      "execution_count": 33,
      "outputs": [
        {
          "output_type": "stream",
          "name": "stdout",
          "text": [
            "sehr\n",
            "{'name': 'sehr', 'father_name': 'Aslam', 'age': 30, 'is_teacher': True}\n"
          ]
        }
      ]
    },
    {
      "cell_type": "code",
      "source": [
        "data"
      ],
      "metadata": {
        "colab": {
          "base_uri": "https://localhost:8080/"
        },
        "id": "l5rCjBaTW16B",
        "outputId": "f1c8cdb9-f5d0-4fbd-dc24-a6e3f936d900"
      },
      "execution_count": 36,
      "outputs": [
        {
          "output_type": "execute_result",
          "data": {
            "text/plain": [
              "{'name': 'sehr', 'father_name': 'Aslam', 'age': 30, 'is_teacher': True}"
            ]
          },
          "metadata": {},
          "execution_count": 36
        }
      ]
    },
    {
      "cell_type": "code",
      "source": [
        "print(data)\n",
        "data[\"father_name\"]"
      ],
      "metadata": {
        "colab": {
          "base_uri": "https://localhost:8080/",
          "height": 52
        },
        "id": "2I1h-DVxXI2K",
        "outputId": "1280b83a-12f6-44dc-e592-31a919f4d43c"
      },
      "execution_count": 40,
      "outputs": [
        {
          "output_type": "stream",
          "name": "stdout",
          "text": [
            "{'name': 'sehr', 'father_name': 'Aslam', 'age': 30, 'is_teacher': True}\n"
          ]
        },
        {
          "output_type": "execute_result",
          "data": {
            "text/plain": [
              "'Aslam'"
            ],
            "application/vnd.google.colaboratory.intrinsic+json": {
              "type": "string"
            }
          },
          "metadata": {},
          "execution_count": 40
        }
      ]
    },
    {
      "source": [
        "print(data)\n",
        "print(data[\"father_name\"]) # Access the 'father_name' value from the 'data' dictionary using data[\"father_name\"]"
      ],
      "cell_type": "code",
      "metadata": {
        "colab": {
          "base_uri": "https://localhost:8080/"
        },
        "id": "aXVW1mIuX-v2",
        "outputId": "63c17b7c-0304-4418-81b6-e921ef840f0d"
      },
      "execution_count": 39,
      "outputs": [
        {
          "output_type": "stream",
          "name": "stdout",
          "text": [
            "{'name': 'sehr', 'father_name': 'Aslam', 'age': 30, 'is_teacher': True}\n",
            "Aslam\n"
          ]
        }
      ]
    },
    {
      "cell_type": "code",
      "source": [
        "data[\"name\"] = \"sehr khan\" # Update the 'name' value in the 'data' dictionary\n",
        "#print(data)\n",
        "data"
      ],
      "metadata": {
        "colab": {
          "base_uri": "https://localhost:8080/"
        },
        "id": "mmw6vr0gYU8r",
        "outputId": "7968c53c-1f52-4155-a67b-be414f531007"
      },
      "execution_count": 42,
      "outputs": [
        {
          "output_type": "execute_result",
          "data": {
            "text/plain": [
              "{'name': 'sehr khan', 'father_name': 'Aslam', 'age': 30, 'is_teacher': True}"
            ]
          },
          "metadata": {},
          "execution_count": 42
        }
      ]
    },
    {
      "cell_type": "code",
      "source": [
        "data[\"blood_group\"] = \"A+\" # Add a new key-value pair to the 'data' dictionary\n",
        "#print(data)\n",
        "data"
      ],
      "metadata": {
        "colab": {
          "base_uri": "https://localhost:8080/"
        },
        "id": "_-Dw3DuNY-HX",
        "outputId": "d47397e8-4637-4894-8b92-11a42d14bb0e"
      },
      "execution_count": 43,
      "outputs": [
        {
          "output_type": "execute_result",
          "data": {
            "text/plain": [
              "{'name': 'sehr khan',\n",
              " 'father_name': 'Aslam',\n",
              " 'age': 30,\n",
              " 'is_teacher': True,\n",
              " 'blood_group': 'A+'}"
            ]
          },
          "metadata": {},
          "execution_count": 43
        }
      ]
    },
    {
      "cell_type": "code",
      "source": [
        "# prompt: create 20 samples students data, with dictionary then convert into  dataframe\n",
        "\n",
        "import pandas as pd\n",
        "import random\n",
        "\n",
        "# Sample student data\n",
        "student_data = []\n",
        "for i in range(20):\n",
        "  student = {\n",
        "      'name': f'Student{i+1}',\n",
        "      'age': random.randint(18, 25),\n",
        "      'grade': random.randint(70, 100),\n",
        "      'city': random.choice(['Karachi', 'Lahore', 'Islamabad', 'Peshawar'])\n",
        "  }\n",
        "  student_data.append(student)\n",
        "\n",
        "# Create a DataFrame from the list of dictionaries\n",
        "df = pd.DataFrame(student_data)\n",
        "\n",
        "# Display the DataFrame\n",
        "df\n",
        "\n"
      ],
      "metadata": {
        "colab": {
          "base_uri": "https://localhost:8080/",
          "height": 676
        },
        "id": "XXcujAzSUfYA",
        "outputId": "8a258de7-464e-40ec-a355-4cb48f540c7a"
      },
      "execution_count": 35,
      "outputs": [
        {
          "output_type": "execute_result",
          "data": {
            "text/plain": [
              "         name  age  grade       city\n",
              "0    Student1   21     87   Peshawar\n",
              "1    Student2   25    100   Peshawar\n",
              "2    Student3   21     70  Islamabad\n",
              "3    Student4   18     70     Lahore\n",
              "4    Student5   18     78     Lahore\n",
              "5    Student6   21     99   Peshawar\n",
              "6    Student7   20     94    Karachi\n",
              "7    Student8   19     71  Islamabad\n",
              "8    Student9   25     70   Peshawar\n",
              "9   Student10   22     99    Karachi\n",
              "10  Student11   24     96  Islamabad\n",
              "11  Student12   23     87  Islamabad\n",
              "12  Student13   20     99    Karachi\n",
              "13  Student14   25     84  Islamabad\n",
              "14  Student15   18     70  Islamabad\n",
              "15  Student16   22     78   Peshawar\n",
              "16  Student17   18     72  Islamabad\n",
              "17  Student18   23     77   Peshawar\n",
              "18  Student19   25     74     Lahore\n",
              "19  Student20   24     96   Peshawar"
            ],
            "text/html": [
              "\n",
              "  <div id=\"df-8d52f604-9abb-445d-80a8-a35d65f94993\" class=\"colab-df-container\">\n",
              "    <div>\n",
              "<style scoped>\n",
              "    .dataframe tbody tr th:only-of-type {\n",
              "        vertical-align: middle;\n",
              "    }\n",
              "\n",
              "    .dataframe tbody tr th {\n",
              "        vertical-align: top;\n",
              "    }\n",
              "\n",
              "    .dataframe thead th {\n",
              "        text-align: right;\n",
              "    }\n",
              "</style>\n",
              "<table border=\"1\" class=\"dataframe\">\n",
              "  <thead>\n",
              "    <tr style=\"text-align: right;\">\n",
              "      <th></th>\n",
              "      <th>name</th>\n",
              "      <th>age</th>\n",
              "      <th>grade</th>\n",
              "      <th>city</th>\n",
              "    </tr>\n",
              "  </thead>\n",
              "  <tbody>\n",
              "    <tr>\n",
              "      <th>0</th>\n",
              "      <td>Student1</td>\n",
              "      <td>21</td>\n",
              "      <td>87</td>\n",
              "      <td>Peshawar</td>\n",
              "    </tr>\n",
              "    <tr>\n",
              "      <th>1</th>\n",
              "      <td>Student2</td>\n",
              "      <td>25</td>\n",
              "      <td>100</td>\n",
              "      <td>Peshawar</td>\n",
              "    </tr>\n",
              "    <tr>\n",
              "      <th>2</th>\n",
              "      <td>Student3</td>\n",
              "      <td>21</td>\n",
              "      <td>70</td>\n",
              "      <td>Islamabad</td>\n",
              "    </tr>\n",
              "    <tr>\n",
              "      <th>3</th>\n",
              "      <td>Student4</td>\n",
              "      <td>18</td>\n",
              "      <td>70</td>\n",
              "      <td>Lahore</td>\n",
              "    </tr>\n",
              "    <tr>\n",
              "      <th>4</th>\n",
              "      <td>Student5</td>\n",
              "      <td>18</td>\n",
              "      <td>78</td>\n",
              "      <td>Lahore</td>\n",
              "    </tr>\n",
              "    <tr>\n",
              "      <th>5</th>\n",
              "      <td>Student6</td>\n",
              "      <td>21</td>\n",
              "      <td>99</td>\n",
              "      <td>Peshawar</td>\n",
              "    </tr>\n",
              "    <tr>\n",
              "      <th>6</th>\n",
              "      <td>Student7</td>\n",
              "      <td>20</td>\n",
              "      <td>94</td>\n",
              "      <td>Karachi</td>\n",
              "    </tr>\n",
              "    <tr>\n",
              "      <th>7</th>\n",
              "      <td>Student8</td>\n",
              "      <td>19</td>\n",
              "      <td>71</td>\n",
              "      <td>Islamabad</td>\n",
              "    </tr>\n",
              "    <tr>\n",
              "      <th>8</th>\n",
              "      <td>Student9</td>\n",
              "      <td>25</td>\n",
              "      <td>70</td>\n",
              "      <td>Peshawar</td>\n",
              "    </tr>\n",
              "    <tr>\n",
              "      <th>9</th>\n",
              "      <td>Student10</td>\n",
              "      <td>22</td>\n",
              "      <td>99</td>\n",
              "      <td>Karachi</td>\n",
              "    </tr>\n",
              "    <tr>\n",
              "      <th>10</th>\n",
              "      <td>Student11</td>\n",
              "      <td>24</td>\n",
              "      <td>96</td>\n",
              "      <td>Islamabad</td>\n",
              "    </tr>\n",
              "    <tr>\n",
              "      <th>11</th>\n",
              "      <td>Student12</td>\n",
              "      <td>23</td>\n",
              "      <td>87</td>\n",
              "      <td>Islamabad</td>\n",
              "    </tr>\n",
              "    <tr>\n",
              "      <th>12</th>\n",
              "      <td>Student13</td>\n",
              "      <td>20</td>\n",
              "      <td>99</td>\n",
              "      <td>Karachi</td>\n",
              "    </tr>\n",
              "    <tr>\n",
              "      <th>13</th>\n",
              "      <td>Student14</td>\n",
              "      <td>25</td>\n",
              "      <td>84</td>\n",
              "      <td>Islamabad</td>\n",
              "    </tr>\n",
              "    <tr>\n",
              "      <th>14</th>\n",
              "      <td>Student15</td>\n",
              "      <td>18</td>\n",
              "      <td>70</td>\n",
              "      <td>Islamabad</td>\n",
              "    </tr>\n",
              "    <tr>\n",
              "      <th>15</th>\n",
              "      <td>Student16</td>\n",
              "      <td>22</td>\n",
              "      <td>78</td>\n",
              "      <td>Peshawar</td>\n",
              "    </tr>\n",
              "    <tr>\n",
              "      <th>16</th>\n",
              "      <td>Student17</td>\n",
              "      <td>18</td>\n",
              "      <td>72</td>\n",
              "      <td>Islamabad</td>\n",
              "    </tr>\n",
              "    <tr>\n",
              "      <th>17</th>\n",
              "      <td>Student18</td>\n",
              "      <td>23</td>\n",
              "      <td>77</td>\n",
              "      <td>Peshawar</td>\n",
              "    </tr>\n",
              "    <tr>\n",
              "      <th>18</th>\n",
              "      <td>Student19</td>\n",
              "      <td>25</td>\n",
              "      <td>74</td>\n",
              "      <td>Lahore</td>\n",
              "    </tr>\n",
              "    <tr>\n",
              "      <th>19</th>\n",
              "      <td>Student20</td>\n",
              "      <td>24</td>\n",
              "      <td>96</td>\n",
              "      <td>Peshawar</td>\n",
              "    </tr>\n",
              "  </tbody>\n",
              "</table>\n",
              "</div>\n",
              "    <div class=\"colab-df-buttons\">\n",
              "\n",
              "  <div class=\"colab-df-container\">\n",
              "    <button class=\"colab-df-convert\" onclick=\"convertToInteractive('df-8d52f604-9abb-445d-80a8-a35d65f94993')\"\n",
              "            title=\"Convert this dataframe to an interactive table.\"\n",
              "            style=\"display:none;\">\n",
              "\n",
              "  <svg xmlns=\"http://www.w3.org/2000/svg\" height=\"24px\" viewBox=\"0 -960 960 960\">\n",
              "    <path d=\"M120-120v-720h720v720H120Zm60-500h600v-160H180v160Zm220 220h160v-160H400v160Zm0 220h160v-160H400v160ZM180-400h160v-160H180v160Zm440 0h160v-160H620v160ZM180-180h160v-160H180v160Zm440 0h160v-160H620v160Z\"/>\n",
              "  </svg>\n",
              "    </button>\n",
              "\n",
              "  <style>\n",
              "    .colab-df-container {\n",
              "      display:flex;\n",
              "      gap: 12px;\n",
              "    }\n",
              "\n",
              "    .colab-df-convert {\n",
              "      background-color: #E8F0FE;\n",
              "      border: none;\n",
              "      border-radius: 50%;\n",
              "      cursor: pointer;\n",
              "      display: none;\n",
              "      fill: #1967D2;\n",
              "      height: 32px;\n",
              "      padding: 0 0 0 0;\n",
              "      width: 32px;\n",
              "    }\n",
              "\n",
              "    .colab-df-convert:hover {\n",
              "      background-color: #E2EBFA;\n",
              "      box-shadow: 0px 1px 2px rgba(60, 64, 67, 0.3), 0px 1px 3px 1px rgba(60, 64, 67, 0.15);\n",
              "      fill: #174EA6;\n",
              "    }\n",
              "\n",
              "    .colab-df-buttons div {\n",
              "      margin-bottom: 4px;\n",
              "    }\n",
              "\n",
              "    [theme=dark] .colab-df-convert {\n",
              "      background-color: #3B4455;\n",
              "      fill: #D2E3FC;\n",
              "    }\n",
              "\n",
              "    [theme=dark] .colab-df-convert:hover {\n",
              "      background-color: #434B5C;\n",
              "      box-shadow: 0px 1px 3px 1px rgba(0, 0, 0, 0.15);\n",
              "      filter: drop-shadow(0px 1px 2px rgba(0, 0, 0, 0.3));\n",
              "      fill: #FFFFFF;\n",
              "    }\n",
              "  </style>\n",
              "\n",
              "    <script>\n",
              "      const buttonEl =\n",
              "        document.querySelector('#df-8d52f604-9abb-445d-80a8-a35d65f94993 button.colab-df-convert');\n",
              "      buttonEl.style.display =\n",
              "        google.colab.kernel.accessAllowed ? 'block' : 'none';\n",
              "\n",
              "      async function convertToInteractive(key) {\n",
              "        const element = document.querySelector('#df-8d52f604-9abb-445d-80a8-a35d65f94993');\n",
              "        const dataTable =\n",
              "          await google.colab.kernel.invokeFunction('convertToInteractive',\n",
              "                                                    [key], {});\n",
              "        if (!dataTable) return;\n",
              "\n",
              "        const docLinkHtml = 'Like what you see? Visit the ' +\n",
              "          '<a target=\"_blank\" href=https://colab.research.google.com/notebooks/data_table.ipynb>data table notebook</a>'\n",
              "          + ' to learn more about interactive tables.';\n",
              "        element.innerHTML = '';\n",
              "        dataTable['output_type'] = 'display_data';\n",
              "        await google.colab.output.renderOutput(dataTable, element);\n",
              "        const docLink = document.createElement('div');\n",
              "        docLink.innerHTML = docLinkHtml;\n",
              "        element.appendChild(docLink);\n",
              "      }\n",
              "    </script>\n",
              "  </div>\n",
              "\n",
              "\n",
              "<div id=\"df-c3a0db3e-24b4-4c2a-b994-eb873d79e041\">\n",
              "  <button class=\"colab-df-quickchart\" onclick=\"quickchart('df-c3a0db3e-24b4-4c2a-b994-eb873d79e041')\"\n",
              "            title=\"Suggest charts\"\n",
              "            style=\"display:none;\">\n",
              "\n",
              "<svg xmlns=\"http://www.w3.org/2000/svg\" height=\"24px\"viewBox=\"0 0 24 24\"\n",
              "     width=\"24px\">\n",
              "    <g>\n",
              "        <path d=\"M19 3H5c-1.1 0-2 .9-2 2v14c0 1.1.9 2 2 2h14c1.1 0 2-.9 2-2V5c0-1.1-.9-2-2-2zM9 17H7v-7h2v7zm4 0h-2V7h2v10zm4 0h-2v-4h2v4z\"/>\n",
              "    </g>\n",
              "</svg>\n",
              "  </button>\n",
              "\n",
              "<style>\n",
              "  .colab-df-quickchart {\n",
              "      --bg-color: #E8F0FE;\n",
              "      --fill-color: #1967D2;\n",
              "      --hover-bg-color: #E2EBFA;\n",
              "      --hover-fill-color: #174EA6;\n",
              "      --disabled-fill-color: #AAA;\n",
              "      --disabled-bg-color: #DDD;\n",
              "  }\n",
              "\n",
              "  [theme=dark] .colab-df-quickchart {\n",
              "      --bg-color: #3B4455;\n",
              "      --fill-color: #D2E3FC;\n",
              "      --hover-bg-color: #434B5C;\n",
              "      --hover-fill-color: #FFFFFF;\n",
              "      --disabled-bg-color: #3B4455;\n",
              "      --disabled-fill-color: #666;\n",
              "  }\n",
              "\n",
              "  .colab-df-quickchart {\n",
              "    background-color: var(--bg-color);\n",
              "    border: none;\n",
              "    border-radius: 50%;\n",
              "    cursor: pointer;\n",
              "    display: none;\n",
              "    fill: var(--fill-color);\n",
              "    height: 32px;\n",
              "    padding: 0;\n",
              "    width: 32px;\n",
              "  }\n",
              "\n",
              "  .colab-df-quickchart:hover {\n",
              "    background-color: var(--hover-bg-color);\n",
              "    box-shadow: 0 1px 2px rgba(60, 64, 67, 0.3), 0 1px 3px 1px rgba(60, 64, 67, 0.15);\n",
              "    fill: var(--button-hover-fill-color);\n",
              "  }\n",
              "\n",
              "  .colab-df-quickchart-complete:disabled,\n",
              "  .colab-df-quickchart-complete:disabled:hover {\n",
              "    background-color: var(--disabled-bg-color);\n",
              "    fill: var(--disabled-fill-color);\n",
              "    box-shadow: none;\n",
              "  }\n",
              "\n",
              "  .colab-df-spinner {\n",
              "    border: 2px solid var(--fill-color);\n",
              "    border-color: transparent;\n",
              "    border-bottom-color: var(--fill-color);\n",
              "    animation:\n",
              "      spin 1s steps(1) infinite;\n",
              "  }\n",
              "\n",
              "  @keyframes spin {\n",
              "    0% {\n",
              "      border-color: transparent;\n",
              "      border-bottom-color: var(--fill-color);\n",
              "      border-left-color: var(--fill-color);\n",
              "    }\n",
              "    20% {\n",
              "      border-color: transparent;\n",
              "      border-left-color: var(--fill-color);\n",
              "      border-top-color: var(--fill-color);\n",
              "    }\n",
              "    30% {\n",
              "      border-color: transparent;\n",
              "      border-left-color: var(--fill-color);\n",
              "      border-top-color: var(--fill-color);\n",
              "      border-right-color: var(--fill-color);\n",
              "    }\n",
              "    40% {\n",
              "      border-color: transparent;\n",
              "      border-right-color: var(--fill-color);\n",
              "      border-top-color: var(--fill-color);\n",
              "    }\n",
              "    60% {\n",
              "      border-color: transparent;\n",
              "      border-right-color: var(--fill-color);\n",
              "    }\n",
              "    80% {\n",
              "      border-color: transparent;\n",
              "      border-right-color: var(--fill-color);\n",
              "      border-bottom-color: var(--fill-color);\n",
              "    }\n",
              "    90% {\n",
              "      border-color: transparent;\n",
              "      border-bottom-color: var(--fill-color);\n",
              "    }\n",
              "  }\n",
              "</style>\n",
              "\n",
              "  <script>\n",
              "    async function quickchart(key) {\n",
              "      const quickchartButtonEl =\n",
              "        document.querySelector('#' + key + ' button');\n",
              "      quickchartButtonEl.disabled = true;  // To prevent multiple clicks.\n",
              "      quickchartButtonEl.classList.add('colab-df-spinner');\n",
              "      try {\n",
              "        const charts = await google.colab.kernel.invokeFunction(\n",
              "            'suggestCharts', [key], {});\n",
              "      } catch (error) {\n",
              "        console.error('Error during call to suggestCharts:', error);\n",
              "      }\n",
              "      quickchartButtonEl.classList.remove('colab-df-spinner');\n",
              "      quickchartButtonEl.classList.add('colab-df-quickchart-complete');\n",
              "    }\n",
              "    (() => {\n",
              "      let quickchartButtonEl =\n",
              "        document.querySelector('#df-c3a0db3e-24b4-4c2a-b994-eb873d79e041 button');\n",
              "      quickchartButtonEl.style.display =\n",
              "        google.colab.kernel.accessAllowed ? 'block' : 'none';\n",
              "    })();\n",
              "  </script>\n",
              "</div>\n",
              "\n",
              "  <div id=\"id_3a34c47a-6652-4c57-aec9-750eb3f5d78c\">\n",
              "    <style>\n",
              "      .colab-df-generate {\n",
              "        background-color: #E8F0FE;\n",
              "        border: none;\n",
              "        border-radius: 50%;\n",
              "        cursor: pointer;\n",
              "        display: none;\n",
              "        fill: #1967D2;\n",
              "        height: 32px;\n",
              "        padding: 0 0 0 0;\n",
              "        width: 32px;\n",
              "      }\n",
              "\n",
              "      .colab-df-generate:hover {\n",
              "        background-color: #E2EBFA;\n",
              "        box-shadow: 0px 1px 2px rgba(60, 64, 67, 0.3), 0px 1px 3px 1px rgba(60, 64, 67, 0.15);\n",
              "        fill: #174EA6;\n",
              "      }\n",
              "\n",
              "      [theme=dark] .colab-df-generate {\n",
              "        background-color: #3B4455;\n",
              "        fill: #D2E3FC;\n",
              "      }\n",
              "\n",
              "      [theme=dark] .colab-df-generate:hover {\n",
              "        background-color: #434B5C;\n",
              "        box-shadow: 0px 1px 3px 1px rgba(0, 0, 0, 0.15);\n",
              "        filter: drop-shadow(0px 1px 2px rgba(0, 0, 0, 0.3));\n",
              "        fill: #FFFFFF;\n",
              "      }\n",
              "    </style>\n",
              "    <button class=\"colab-df-generate\" onclick=\"generateWithVariable('df')\"\n",
              "            title=\"Generate code using this dataframe.\"\n",
              "            style=\"display:none;\">\n",
              "\n",
              "  <svg xmlns=\"http://www.w3.org/2000/svg\" height=\"24px\"viewBox=\"0 0 24 24\"\n",
              "       width=\"24px\">\n",
              "    <path d=\"M7,19H8.4L18.45,9,17,7.55,7,17.6ZM5,21V16.75L18.45,3.32a2,2,0,0,1,2.83,0l1.4,1.43a1.91,1.91,0,0,1,.58,1.4,1.91,1.91,0,0,1-.58,1.4L9.25,21ZM18.45,9,17,7.55Zm-12,3A5.31,5.31,0,0,0,4.9,8.1,5.31,5.31,0,0,0,1,6.5,5.31,5.31,0,0,0,4.9,4.9,5.31,5.31,0,0,0,6.5,1,5.31,5.31,0,0,0,8.1,4.9,5.31,5.31,0,0,0,12,6.5,5.46,5.46,0,0,0,6.5,12Z\"/>\n",
              "  </svg>\n",
              "    </button>\n",
              "    <script>\n",
              "      (() => {\n",
              "      const buttonEl =\n",
              "        document.querySelector('#id_3a34c47a-6652-4c57-aec9-750eb3f5d78c button.colab-df-generate');\n",
              "      buttonEl.style.display =\n",
              "        google.colab.kernel.accessAllowed ? 'block' : 'none';\n",
              "\n",
              "      buttonEl.onclick = () => {\n",
              "        google.colab.notebook.generateWithVariable('df');\n",
              "      }\n",
              "      })();\n",
              "    </script>\n",
              "  </div>\n",
              "\n",
              "    </div>\n",
              "  </div>\n"
            ],
            "application/vnd.google.colaboratory.intrinsic+json": {
              "type": "dataframe",
              "variable_name": "df",
              "summary": "{\n  \"name\": \"df\",\n  \"rows\": 20,\n  \"fields\": [\n    {\n      \"column\": \"name\",\n      \"properties\": {\n        \"dtype\": \"string\",\n        \"num_unique_values\": 20,\n        \"samples\": [\n          \"Student1\",\n          \"Student18\",\n          \"Student16\"\n        ],\n        \"semantic_type\": \"\",\n        \"description\": \"\"\n      }\n    },\n    {\n      \"column\": \"age\",\n      \"properties\": {\n        \"dtype\": \"number\",\n        \"std\": 2,\n        \"min\": 18,\n        \"max\": 25,\n        \"num_unique_values\": 8,\n        \"samples\": [\n          25,\n          22,\n          21\n        ],\n        \"semantic_type\": \"\",\n        \"description\": \"\"\n      }\n    },\n    {\n      \"column\": \"grade\",\n      \"properties\": {\n        \"dtype\": \"number\",\n        \"std\": 11,\n        \"min\": 70,\n        \"max\": 100,\n        \"num_unique_values\": 12,\n        \"samples\": [\n          77,\n          72,\n          87\n        ],\n        \"semantic_type\": \"\",\n        \"description\": \"\"\n      }\n    },\n    {\n      \"column\": \"city\",\n      \"properties\": {\n        \"dtype\": \"category\",\n        \"num_unique_values\": 4,\n        \"samples\": [\n          \"Islamabad\",\n          \"Karachi\",\n          \"Peshawar\"\n        ],\n        \"semantic_type\": \"\",\n        \"description\": \"\"\n      }\n    }\n  ]\n}"
            }
          },
          "metadata": {},
          "execution_count": 35
        }
      ]
    },
    {
      "cell_type": "markdown",
      "source": [
        "Download helper_function.py\n",
        "pls set Secrets Variable for Gemini in Collab\n",
        "GEMINI_API_KEY\n",
        "Get API KEY From Google AI Studio"
      ],
      "metadata": {
        "id": "v2ju5mRmaSXr"
      }
    },
    {
      "cell_type": "code",
      "source": [
        "!curl -o helper_functions.py https://raw.githubusercontent.com/panaversity/learn-cloud-native-modern-ai-python/main/04_natural_language_programming/02_ai_python_for_beginners/course1_basics/Lesson_9/helper_functions.py"
      ],
      "metadata": {
        "colab": {
          "base_uri": "https://localhost:8080/"
        },
        "id": "kQuuRqf6aTum",
        "outputId": "e0b0e2d8-4614-475e-b049-051f9c4237c5"
      },
      "execution_count": 8,
      "outputs": [
        {
          "output_type": "stream",
          "name": "stdout",
          "text": [
            "  % Total    % Received % Xferd  Average Speed   Time    Time     Time  Current\n",
            "                                 Dload  Upload   Total   Spent    Left  Speed\n",
            "100  3944  100  3944    0     0   7978      0 --:--:-- --:--:-- --:--:--  7967\n"
          ]
        }
      ]
    },
    {
      "cell_type": "code",
      "source": [
        "from helper_functions import print_llm_response, get_llm_response"
      ],
      "metadata": {
        "id": "EWq4H4mSaq--"
      },
      "execution_count": 9,
      "outputs": []
    },
    {
      "cell_type": "markdown",
      "source": [
        "\n",
        "If you wanted to store ice cream flavor descriptions using lists, you would have something like this:"
      ],
      "metadata": {
        "id": "jmhdR-UjbJkX"
      }
    },
    {
      "cell_type": "code",
      "source": [
        "ice_cream_flavors :List[str] = [\n",
        "    \"Vanilla: Classic and creamy with a rich, smooth flavor from real vanilla beans.\",\n",
        "    \"Chocolate: Deep and indulgent, made with rich cocoa for a satisfying chocolate experience.\",\n",
        "    \"Strawberry: Sweet and fruity, bursting with the fresh taste of ripe strawberries.\",\n",
        "    \"Mint Chocolate Chip: Refreshing mint ice cream studded with decadent chocolate chips.\",\n",
        "    \"Cookie Dough: Vanilla ice cream loaded with chunks of chocolate chip cookie dough.\",\n",
        "    \"Salted Caramel: Sweet and salty with a smooth caramel swirl and a hint of sea salt.\",\n",
        "    \"Pistachio: Nutty and creamy, featuring the distinct taste of real pistachios.\",\n",
        "    \"Cookies and Cream: Vanilla ice cream packed with chunks of chocolate sandwich cookies.\",\n",
        "    \"Mango: Tropical and tangy, made with juicy mangoes for a refreshing treat.\",\n",
        "    \"Rocky Road: Chocolate ice cream mixed with marshmallows, nuts, and chocolate chunks.\"\n",
        "]#If you wanted to look up the description for a particular flavor, you would have to memorize its index."
      ],
      "metadata": {
        "id": "-nZYIMcnbLBq"
      },
      "execution_count": 57,
      "outputs": []
    },
    {
      "cell_type": "markdown",
      "source": [
        "Building intuition and definitions\n",
        "Dictionaries in Python are very similar to the dictionaries you would find in a library. Each value in a dictionary is associated with a key, just as you will find definitions associated to words in a hardcover dictionary. Let's take as an example the following dictionary with ice cream flavors."
      ],
      "metadata": {
        "id": "HuIMT-YHb4ti"
      }
    },
    {
      "cell_type": "code",
      "source": [
        "from typing import Dict\n",
        "ice_cream_flavors : dict[str,str] = {\n",
        "    \"Mint Chocolate Chip\": \"Refreshing mint ice cream studded with decadent chocolate chips.\",\n",
        "    \"Cookie Dough\": \"Vanilla ice cream loaded with chunks of chocolate chip cookie dough.\",\n",
        "    \"Salted Caramel\": \"Sweet and salty with a smooth caramel swirl and a hint of sea salt.\"\n",
        "}"
      ],
      "metadata": {
        "id": "k8ftn6-7cmB1"
      },
      "execution_count": 58,
      "outputs": []
    },
    {
      "cell_type": "code",
      "source": [
        "[i for i in dir(dict) if \"__\" not in i]"
      ],
      "metadata": {
        "colab": {
          "base_uri": "https://localhost:8080/"
        },
        "id": "6UZfpISWdzXJ",
        "outputId": "8059c19b-ab18-4359-b2bc-c5937466f052"
      },
      "execution_count": 55,
      "outputs": [
        {
          "output_type": "execute_result",
          "data": {
            "text/plain": [
              "['clear',\n",
              " 'copy',\n",
              " 'fromkeys',\n",
              " 'get',\n",
              " 'items',\n",
              " 'keys',\n",
              " 'pop',\n",
              " 'popitem',\n",
              " 'setdefault',\n",
              " 'update',\n",
              " 'values']"
            ]
          },
          "metadata": {},
          "execution_count": 55
        }
      ]
    },
    {
      "cell_type": "code",
      "source": [
        "print(ice_cream_flavors.keys())"
      ],
      "metadata": {
        "colab": {
          "base_uri": "https://localhost:8080/"
        },
        "id": "_ygmJcOVfGfm",
        "outputId": "857ff2f6-c52e-4f0a-c528-234439cbdae4"
      },
      "execution_count": 59,
      "outputs": [
        {
          "output_type": "stream",
          "name": "stdout",
          "text": [
            "dict_keys(['Mint Chocolate Chip', 'Cookie Dough', 'Salted Caramel'])\n"
          ]
        }
      ]
    },
    {
      "cell_type": "code",
      "source": [
        "ice_cream_flavors.keys\n",
        " ?"
      ],
      "metadata": {
        "colab": {
          "base_uri": "https://localhost:8080/",
          "height": 106
        },
        "id": "kNuKGVDQiE0m",
        "outputId": "947c525e-27d8-4e3a-eaf8-a0a1ec80edce"
      },
      "execution_count": 64,
      "outputs": [
        {
          "output_type": "error",
          "ename": "IndentationError",
          "evalue": "unexpected indent (<ipython-input-64-fc5d8572f555>, line 2)",
          "traceback": [
            "\u001b[0;36m  File \u001b[0;32m\"<ipython-input-64-fc5d8572f555>\"\u001b[0;36m, line \u001b[0;32m2\u001b[0m\n\u001b[0;31m    get_ipython().show_usage()\u001b[0m\n\u001b[0m    ^\u001b[0m\n\u001b[0;31mIndentationError\u001b[0m\u001b[0;31m:\u001b[0m unexpected indent\n"
          ]
        }
      ]
    },
    {
      "source": [
        "ice_cream_flavors.keys?"
      ],
      "cell_type": "code",
      "metadata": {
        "id": "E4kN9vvJiyON"
      },
      "execution_count": 65,
      "outputs": []
    },
    {
      "cell_type": "code",
      "source": [
        "print(ice_cream_flavors.values())"
      ],
      "metadata": {
        "colab": {
          "base_uri": "https://localhost:8080/"
        },
        "id": "-Xv--Z8IhwhZ",
        "outputId": "edb2f7c0-3afc-4ec3-8572-3280b9af0770"
      },
      "execution_count": 60,
      "outputs": [
        {
          "output_type": "stream",
          "name": "stdout",
          "text": [
            "dict_values(['Refreshing mint ice cream studded with decadent chocolate chips.', 'Vanilla ice cream loaded with chunks of chocolate chip cookie dough.', 'Sweet and salty with a smooth caramel swirl and a hint of sea salt.'])\n"
          ]
        }
      ]
    },
    {
      "cell_type": "markdown",
      "source": [
        "Accessing elements\n",
        "Dictionaries don't index their elements as list do, so you cannot access values in the way you would using lists. If you run the cell below, you will get an error message since the index 0 is not a key in the ice_cream_flavors dictionary."
      ],
      "metadata": {
        "id": "M7miD43ZnGoQ"
      }
    },
    {
      "cell_type": "code",
      "source": [
        "#Wrong way of accessing elements (treating dict as a list)\n",
        "print(ice_cream_flavors[0])"
      ],
      "metadata": {
        "colab": {
          "base_uri": "https://localhost:8080/",
          "height": 193
        },
        "id": "Pu0gEf3umdB5",
        "outputId": "0e23e9cb-fd47-4d39-ce16-acaee6e49cad"
      },
      "execution_count": 66,
      "outputs": [
        {
          "output_type": "stream",
          "name": "stderr",
          "text": [
            "<cell>2: error: Invalid index type \"int\" for \"dict[str, str]\"; expected type \"str\"  [index]\n",
            "ERROR:nb-mypy:<cell>2: error: Invalid index type \"int\" for \"dict[str, str]\"; expected type \"str\"  [index]\n"
          ]
        },
        {
          "output_type": "error",
          "ename": "KeyError",
          "evalue": "0",
          "traceback": [
            "\u001b[0;31m---------------------------------------------------------------------------\u001b[0m",
            "\u001b[0;31mKeyError\u001b[0m                                  Traceback (most recent call last)",
            "\u001b[0;32m<ipython-input-66-1c2d62bebb72>\u001b[0m in \u001b[0;36m<cell line: 2>\u001b[0;34m()\u001b[0m\n\u001b[1;32m      1\u001b[0m \u001b[0;31m#Wrong way of accessing elements (treating dict as a list)\u001b[0m\u001b[0;34m\u001b[0m\u001b[0;34m\u001b[0m\u001b[0m\n\u001b[0;32m----> 2\u001b[0;31m \u001b[0mprint\u001b[0m\u001b[0;34m(\u001b[0m\u001b[0mice_cream_flavors\u001b[0m\u001b[0;34m[\u001b[0m\u001b[0;36m0\u001b[0m\u001b[0;34m]\u001b[0m\u001b[0;34m)\u001b[0m\u001b[0;34m\u001b[0m\u001b[0;34m\u001b[0m\u001b[0m\n\u001b[0m",
            "\u001b[0;31mKeyError\u001b[0m: 0"
          ]
        }
      ]
    },
    {
      "source": [
        "# Access using the flavor name as the key\n",
        "print(ice_cream_flavors['Mint Chocolate Chip'])\n",
        "\n",
        "#To iterate through the key value pair, you can use dict.items():\n",
        "for flavor, description in ice_cream_flavors.items():\n",
        "    print(f\"{flavor}: {description}\")\n",
        "\n",
        "# To get all keys use dict.keys()\n",
        "print(ice_cream_flavors.keys())\n",
        "\n",
        "#To get all values use dict.values()\n",
        "print(ice_cream_flavors.values())"
      ],
      "cell_type": "code",
      "metadata": {
        "colab": {
          "base_uri": "https://localhost:8080/"
        },
        "id": "Gwnz8Wlkm504",
        "outputId": "53dcf103-d571-44ea-f867-dd5f6a735941"
      },
      "execution_count": 67,
      "outputs": [
        {
          "output_type": "stream",
          "name": "stdout",
          "text": [
            "Refreshing mint ice cream studded with decadent chocolate chips.\n",
            "Mint Chocolate Chip: Refreshing mint ice cream studded with decadent chocolate chips.\n",
            "Cookie Dough: Vanilla ice cream loaded with chunks of chocolate chip cookie dough.\n",
            "Salted Caramel: Sweet and salty with a smooth caramel swirl and a hint of sea salt.\n",
            "dict_keys(['Mint Chocolate Chip', 'Cookie Dough', 'Salted Caramel'])\n",
            "dict_values(['Refreshing mint ice cream studded with decadent chocolate chips.', 'Vanilla ice cream loaded with chunks of chocolate chip cookie dough.', 'Sweet and salty with a smooth caramel swirl and a hint of sea salt.'])\n"
          ]
        }
      ]
    },
    {
      "cell_type": "markdown",
      "source": [
        "Let's ask the chatbot how to access items in this dictionary."
      ],
      "metadata": {
        "id": "fLIP9NOUnhLK"
      }
    },
    {
      "cell_type": "code",
      "source": [
        "ice_cream_flavors = {\n",
        "\"Mint Chocolate Chip\": \"Refreshing mint ice cream studded with decadent chocolate chips.\",\n",
        "\"Cookie Dough\": \"Vanilla ice cream loaded with chunks of chocolate chip cookie dough.\",\n",
        "\"Salted Caramel\": \"Sweet and salty with a smooth caramel swirl and a hint of sea salt.\"\n",
        "}"
      ],
      "metadata": {
        "id": "u95nx-csnjtt"
      },
      "execution_count": 68,
      "outputs": []
    },
    {
      "cell_type": "markdown",
      "source": [
        "So, to access the values in the dictionary you need to use its keys. For instance, for Cookie Dough, you can run the following code:"
      ],
      "metadata": {
        "id": "a--YLZtgoMfB"
      }
    },
    {
      "cell_type": "code",
      "source": [
        "cookie_dough_description = ice_cream_flavors[\"Cookie Dough\"]\n",
        "print(cookie_dough_description)"
      ],
      "metadata": {
        "colab": {
          "base_uri": "https://localhost:8080/"
        },
        "id": "YvEeDWaJoN5J",
        "outputId": "32c55d7c-bcbf-40fd-fb73-87f346cacf4c"
      },
      "execution_count": 69,
      "outputs": [
        {
          "output_type": "stream",
          "name": "stdout",
          "text": [
            "Vanilla ice cream loaded with chunks of chocolate chip cookie dough.\n"
          ]
        }
      ]
    },
    {
      "cell_type": "markdown",
      "source": [
        "Adding and updating elements in a dictionary\n",
        "\n",
        "Let's take another look at the ice_cream_flavors dictionary"
      ],
      "metadata": {
        "id": "zEQKdB0VpBZs"
      }
    },
    {
      "cell_type": "code",
      "source": [
        "print(ice_cream_flavors)"
      ],
      "metadata": {
        "colab": {
          "base_uri": "https://localhost:8080/"
        },
        "id": "ekRtQ4I7pH44",
        "outputId": "0532b7be-c757-4fbe-cb68-3f82c8cd9bf7"
      },
      "execution_count": 70,
      "outputs": [
        {
          "output_type": "stream",
          "name": "stdout",
          "text": [
            "{'Mint Chocolate Chip': 'Refreshing mint ice cream studded with decadent chocolate chips.', 'Cookie Dough': 'Vanilla ice cream loaded with chunks of chocolate chip cookie dough.', 'Salted Caramel': 'Sweet and salty with a smooth caramel swirl and a hint of sea salt.'}\n"
          ]
        }
      ]
    },
    {
      "cell_type": "code",
      "source": [
        "#Now, to add a new item for the \"Rocky Road\" flavor, you will need to assign its definition to\n",
        "ice_cream_flavors[\"Rocky Road\"] = \"Chocolate ice cream mixd witother ngredients.\""
      ],
      "metadata": {
        "id": "lN6G9-2Spo6d"
      },
      "execution_count": 71,
      "outputs": []
    },
    {
      "cell_type": "markdown",
      "source": [
        "Note that you are using the same syntax that selects a single item, but this time use a key that didn't exist before and assign it a value. Let's check the dictionary after this update:"
      ],
      "metadata": {
        "id": "PvgeW_ROp4kL"
      }
    },
    {
      "cell_type": "code",
      "source": [
        "print(ice_cream_flavors)"
      ],
      "metadata": {
        "colab": {
          "base_uri": "https://localhost:8080/"
        },
        "id": "ZopEbMy_p6Hu",
        "outputId": "66db93a7-09d8-4d76-f64b-a1c515b26a35"
      },
      "execution_count": 72,
      "outputs": [
        {
          "output_type": "stream",
          "name": "stdout",
          "text": [
            "{'Mint Chocolate Chip': 'Refreshing mint ice cream studded with decadent chocolate chips.', 'Cookie Dough': 'Vanilla ice cream loaded with chunks of chocolate chip cookie dough.', 'Salted Caramel': 'Sweet and salty with a smooth caramel swirl and a hint of sea salt.', 'Rocky Road': 'Chocolate ice cream mixd witother ngredients.'}\n"
          ]
        }
      ]
    },
    {
      "cell_type": "markdown",
      "source": [
        "You can update existing dictionary items in a similar way. Let's fix the typos from the \"Rocky Road\" description."
      ],
      "metadata": {
        "id": "d3IeDMmdqPFf"
      }
    },
    {
      "cell_type": "markdown",
      "source": [],
      "metadata": {
        "id": "iOoR_xcZqO-9"
      }
    },
    {
      "cell_type": "code",
      "source": [
        "ice_cream_flavors[\"Rocky Road\"] = \"Chocolate ice cream mixed with other ingredients.\""
      ],
      "metadata": {
        "id": "lM4RqxHOqSVe"
      },
      "execution_count": 73,
      "outputs": []
    },
    {
      "cell_type": "code",
      "source": [
        "print(ice_cream_flavors)"
      ],
      "metadata": {
        "colab": {
          "base_uri": "https://localhost:8080/"
        },
        "id": "RdhHWWZ0qZw3",
        "outputId": "61622b1c-cbdd-4722-e041-7f86ba2340d7"
      },
      "execution_count": 74,
      "outputs": [
        {
          "output_type": "stream",
          "name": "stdout",
          "text": [
            "{'Mint Chocolate Chip': 'Refreshing mint ice cream studded with decadent chocolate chips.', 'Cookie Dough': 'Vanilla ice cream loaded with chunks of chocolate chip cookie dough.', 'Salted Caramel': 'Sweet and salty with a smooth caramel swirl and a hint of sea salt.', 'Rocky Road': 'Chocolate ice cream mixed with other ingredients.'}\n"
          ]
        }
      ]
    },
    {
      "cell_type": "markdown",
      "source": [
        "Different types of elements\n",
        "\n",
        "Let's say that you store data about your friends. For Isabel you have the following dictionary.\n",
        "\n"
      ],
      "metadata": {
        "id": "GaF75dZRrOP9"
      }
    },
    {
      "cell_type": "code",
      "source": [
        "aslam_life = {\n",
        "    \"age\" : 24,\n",
        "    \"height\" : 5.8,\n",
        "    \"name\" : \"aslam\"\n",
        "\n",
        "}"
      ],
      "metadata": {
        "colab": {
          "base_uri": "https://localhost:8080/",
          "height": 567
        },
        "id": "kZ4iUz36rUJJ",
        "outputId": "27284a0f-10bd-4b9c-996b-161b67d35021"
      },
      "execution_count": 77,
      "outputs": [
        {
          "output_type": "stream",
          "name": "stdout",
          "text": [
            "Error in callback <bound method MypyIPython.type_check of <nb_mypy.MypyIPython object at 0x7a3a77b20c40>> (for pre_run_cell):\n"
          ]
        },
        {
          "output_type": "error",
          "ename": "KeyboardInterrupt",
          "evalue": "",
          "traceback": [
            "\u001b[0;31m---------------------------------------------------------------------------\u001b[0m",
            "\u001b[0;31mKeyboardInterrupt\u001b[0m                         Traceback (most recent call last)",
            "\u001b[0;32m/usr/local/lib/python3.10/dist-packages/nb_mypy/__init__.py\u001b[0m in \u001b[0;36mtype_check\u001b[0;34m(self, info)\u001b[0m\n\u001b[1;32m    249\u001b[0m         \"\"\"\n\u001b[1;32m    250\u001b[0m         \u001b[0;32mif\u001b[0m \u001b[0mself\u001b[0m\u001b[0;34m.\u001b[0m\u001b[0mmypy_typecheck\u001b[0m\u001b[0;34m:\u001b[0m\u001b[0;34m\u001b[0m\u001b[0;34m\u001b[0m\u001b[0m\n\u001b[0;32m--> 251\u001b[0;31m             \u001b[0mself\u001b[0m\u001b[0;34m.\u001b[0m\u001b[0mtype_check_cell\u001b[0m\u001b[0;34m(\u001b[0m\u001b[0minfo\u001b[0m\u001b[0;34m.\u001b[0m\u001b[0mraw_cell\u001b[0m\u001b[0;34m)\u001b[0m\u001b[0;34m\u001b[0m\u001b[0;34m\u001b[0m\u001b[0m\n\u001b[0m\u001b[1;32m    252\u001b[0m \u001b[0;34m\u001b[0m\u001b[0m\n\u001b[1;32m    253\u001b[0m     \u001b[0;32mdef\u001b[0m \u001b[0mtype_check_cell\u001b[0m\u001b[0;34m(\u001b[0m\u001b[0mself\u001b[0m\u001b[0;34m,\u001b[0m \u001b[0mcell\u001b[0m\u001b[0;34m:\u001b[0m \u001b[0mstr\u001b[0m\u001b[0;34m)\u001b[0m \u001b[0;34m->\u001b[0m \u001b[0;32mNone\u001b[0m\u001b[0;34m:\u001b[0m\u001b[0;34m\u001b[0m\u001b[0;34m\u001b[0m\u001b[0m\n",
            "\u001b[0;32m/usr/local/lib/python3.10/dist-packages/nb_mypy/__init__.py\u001b[0m in \u001b[0;36mtype_check_cell\u001b[0;34m(self, cell)\u001b[0m\n\u001b[1;32m    290\u001b[0m                     \"Args passed to mypy API:\\n%s\", ['--ignore-missing-imports', '--allow-redefinition'] + self.additional_args)\n\u001b[1;32m    291\u001b[0m \u001b[0;34m\u001b[0m\u001b[0m\n\u001b[0;32m--> 292\u001b[0;31m             mypy_result = api.run(\n\u001b[0m\u001b[1;32m    293\u001b[0m                 ['--ignore-missing-imports', '--allow-redefinition'] + self.additional_args + ['-c', self.mypy_cells])\n\u001b[1;32m    294\u001b[0m \u001b[0;34m\u001b[0m\u001b[0m\n",
            "\u001b[0;32m/usr/local/lib/python3.10/dist-packages/mypy/api.cpython-310-x86_64-linux-gnu.so\u001b[0m in \u001b[0;36mrun\u001b[0;34m()\u001b[0m\n",
            "\u001b[0;32m/usr/local/lib/python3.10/dist-packages/mypy/api.cpython-310-x86_64-linux-gnu.so\u001b[0m in \u001b[0;36m_run\u001b[0;34m()\u001b[0m\n",
            "\u001b[0;32m/usr/local/lib/python3.10/dist-packages/mypy/api.cpython-310-x86_64-linux-gnu.so\u001b[0m in \u001b[0;36m<lambda>\u001b[0;34m()\u001b[0m\n",
            "\u001b[0;32m/usr/local/lib/python3.10/dist-packages/mypy/main.cpython-310-x86_64-linux-gnu.so\u001b[0m in \u001b[0;36mmain\u001b[0;34m()\u001b[0m\n",
            "\u001b[0;32m/usr/local/lib/python3.10/dist-packages/mypy/main.cpython-310-x86_64-linux-gnu.so\u001b[0m in \u001b[0;36mrun_build\u001b[0;34m()\u001b[0m\n",
            "\u001b[0;32m/usr/local/lib/python3.10/dist-packages/mypy/build.cpython-310-x86_64-linux-gnu.so\u001b[0m in \u001b[0;36mbuild\u001b[0;34m()\u001b[0m\n",
            "\u001b[0;32m/usr/local/lib/python3.10/dist-packages/mypy/build.cpython-310-x86_64-linux-gnu.so\u001b[0m in \u001b[0;36m_build\u001b[0;34m()\u001b[0m\n",
            "\u001b[0;32m/usr/local/lib/python3.10/dist-packages/mypy/build.cpython-310-x86_64-linux-gnu.so\u001b[0m in \u001b[0;36mdispatch\u001b[0;34m()\u001b[0m\n",
            "\u001b[0;32m/usr/local/lib/python3.10/dist-packages/mypy/build.cpython-310-x86_64-linux-gnu.so\u001b[0m in \u001b[0;36mprocess_graph\u001b[0;34m()\u001b[0m\n",
            "\u001b[0;32m/usr/local/lib/python3.10/dist-packages/mypy/build.cpython-310-x86_64-linux-gnu.so\u001b[0m in \u001b[0;36mprocess_fresh_modules\u001b[0;34m()\u001b[0m\n",
            "\u001b[0;32m/usr/local/lib/python3.10/dist-packages/mypy/build.cpython-310-x86_64-linux-gnu.so\u001b[0m in \u001b[0;36mload_tree\u001b[0;34m()\u001b[0m\n",
            "\u001b[0;32m/usr/local/lib/python3.10/dist-packages/mypy/nodes.cpython-310-x86_64-linux-gnu.so\u001b[0m in \u001b[0;36mdeserialize\u001b[0;34m()\u001b[0m\n",
            "\u001b[0;32m/usr/local/lib/python3.10/dist-packages/mypy/nodes.cpython-310-x86_64-linux-gnu.so\u001b[0m in \u001b[0;36mdeserialize\u001b[0;34m()\u001b[0m\n",
            "\u001b[0;32m/usr/local/lib/python3.10/dist-packages/mypy/nodes.cpython-310-x86_64-linux-gnu.so\u001b[0m in \u001b[0;36mdeserialize\u001b[0;34m()\u001b[0m\n",
            "\u001b[0;32m/usr/local/lib/python3.10/dist-packages/mypy/nodes.cpython-310-x86_64-linux-gnu.so\u001b[0m in \u001b[0;36mdeserialize\u001b[0;34m()\u001b[0m\n",
            "\u001b[0;32m/usr/local/lib/python3.10/dist-packages/mypy/nodes.cpython-310-x86_64-linux-gnu.so\u001b[0m in \u001b[0;36mdeserialize\u001b[0;34m()\u001b[0m\n",
            "\u001b[0;32m/usr/local/lib/python3.10/dist-packages/mypy/nodes.cpython-310-x86_64-linux-gnu.so\u001b[0m in \u001b[0;36mdeserialize\u001b[0;34m()\u001b[0m\n",
            "\u001b[0;32m/usr/local/lib/python3.10/dist-packages/mypy/nodes.cpython-310-x86_64-linux-gnu.so\u001b[0m in \u001b[0;36mdeserialize\u001b[0;34m()\u001b[0m\n",
            "\u001b[0;32m/usr/local/lib/python3.10/dist-packages/mypy/nodes.cpython-310-x86_64-linux-gnu.so\u001b[0m in \u001b[0;36mdeserialize\u001b[0;34m()\u001b[0m\n",
            "\u001b[0;32m/usr/local/lib/python3.10/dist-packages/mypy/nodes.cpython-310-x86_64-linux-gnu.so\u001b[0m in \u001b[0;36mdeserialize\u001b[0;34m()\u001b[0m\n",
            "\u001b[0;32m/usr/local/lib/python3.10/dist-packages/mypy/types.cpython-310-x86_64-linux-gnu.so\u001b[0m in \u001b[0;36mdeserialize_type\u001b[0;34m()\u001b[0m\n",
            "\u001b[0;32m/usr/local/lib/python3.10/dist-packages/mypy/types.cpython-310-x86_64-linux-gnu.so\u001b[0m in \u001b[0;36mdeserialize\u001b[0;34m()\u001b[0m\n",
            "\u001b[0;32m/usr/lib/python3.10/enum.py\u001b[0m in \u001b[0;36m__call__\u001b[0;34m(cls, value, names, module, qualname, type, start)\u001b[0m\n\u001b[1;32m    357\u001b[0m         \u001b[0;32mreturn\u001b[0m \u001b[0;32mTrue\u001b[0m\u001b[0;34m\u001b[0m\u001b[0;34m\u001b[0m\u001b[0m\n\u001b[1;32m    358\u001b[0m \u001b[0;34m\u001b[0m\u001b[0m\n\u001b[0;32m--> 359\u001b[0;31m     \u001b[0;32mdef\u001b[0m \u001b[0m__call__\u001b[0m\u001b[0;34m(\u001b[0m\u001b[0mcls\u001b[0m\u001b[0;34m,\u001b[0m \u001b[0mvalue\u001b[0m\u001b[0;34m,\u001b[0m \u001b[0mnames\u001b[0m\u001b[0;34m=\u001b[0m\u001b[0;32mNone\u001b[0m\u001b[0;34m,\u001b[0m \u001b[0;34m*\u001b[0m\u001b[0;34m,\u001b[0m \u001b[0mmodule\u001b[0m\u001b[0;34m=\u001b[0m\u001b[0;32mNone\u001b[0m\u001b[0;34m,\u001b[0m \u001b[0mqualname\u001b[0m\u001b[0;34m=\u001b[0m\u001b[0;32mNone\u001b[0m\u001b[0;34m,\u001b[0m \u001b[0mtype\u001b[0m\u001b[0;34m=\u001b[0m\u001b[0;32mNone\u001b[0m\u001b[0;34m,\u001b[0m \u001b[0mstart\u001b[0m\u001b[0;34m=\u001b[0m\u001b[0;36m1\u001b[0m\u001b[0;34m)\u001b[0m\u001b[0;34m:\u001b[0m\u001b[0;34m\u001b[0m\u001b[0;34m\u001b[0m\u001b[0m\n\u001b[0m\u001b[1;32m    360\u001b[0m         \"\"\"\n\u001b[1;32m    361\u001b[0m         \u001b[0mEither\u001b[0m \u001b[0mreturns\u001b[0m \u001b[0man\u001b[0m \u001b[0mexisting\u001b[0m \u001b[0mmember\u001b[0m\u001b[0;34m,\u001b[0m \u001b[0;32mor\u001b[0m \u001b[0mcreates\u001b[0m \u001b[0ma\u001b[0m \u001b[0mnew\u001b[0m \u001b[0menum\u001b[0m \u001b[0;32mclass\u001b[0m\u001b[0;34m.\u001b[0m\u001b[0;34m\u001b[0m\u001b[0;34m\u001b[0m\u001b[0m\n",
            "\u001b[0;31mKeyboardInterrupt\u001b[0m: "
          ]
        },
        {
          "output_type": "error",
          "ename": "NameError",
          "evalue": "name 'age' is not defined",
          "traceback": [
            "\u001b[0;31m---------------------------------------------------------------------------\u001b[0m",
            "\u001b[0;31mNameError\u001b[0m                                 Traceback (most recent call last)",
            "\u001b[0;32m<ipython-input-77-821869a89141>\u001b[0m in \u001b[0;36m<cell line: 2>\u001b[0;34m()\u001b[0m\n\u001b[1;32m      1\u001b[0m aslam_life = {\n\u001b[0;32m----> 2\u001b[0;31m     \u001b[0mage\u001b[0m \u001b[0;34m:\u001b[0m \u001b[0;36m24\u001b[0m\u001b[0;34m,\u001b[0m\u001b[0;34m\u001b[0m\u001b[0;34m\u001b[0m\u001b[0m\n\u001b[0m\u001b[1;32m      3\u001b[0m     \u001b[0mheight\u001b[0m \u001b[0;34m:\u001b[0m \u001b[0;36m5.8\u001b[0m\u001b[0;34m,\u001b[0m\u001b[0;34m\u001b[0m\u001b[0;34m\u001b[0m\u001b[0m\n\u001b[1;32m      4\u001b[0m     \u001b[0;34m\"name\"\u001b[0m \u001b[0;34m:\u001b[0m \u001b[0;34m\"aslam\"\u001b[0m\u001b[0;34m\u001b[0m\u001b[0;34m\u001b[0m\u001b[0m\n\u001b[1;32m      5\u001b[0m \u001b[0;34m\u001b[0m\u001b[0m\n",
            "\u001b[0;31mNameError\u001b[0m: name 'age' is not defined"
          ]
        }
      ]
    },
    {
      "source": [
        "aslam_life = {\n",
        "    \"age\" : 24, # Changed age to \"age\" to define it as a string key\n",
        "    \"height\" : 5.8,\n",
        "    \"name\" : \"aslam\"\n",
        "\n",
        "}\n",
        "print(aslam_life)"
      ],
      "cell_type": "code",
      "metadata": {
        "colab": {
          "base_uri": "https://localhost:8080/"
        },
        "id": "PliBqwG3sqIr",
        "outputId": "1daff4f7-2e7a-46d7-c061-1c8168a5e987"
      },
      "execution_count": 79,
      "outputs": [
        {
          "output_type": "stream",
          "name": "stdout",
          "text": [
            "{'age': 24, 'height': 5.8, 'name': 'aslam'}\n"
          ]
        }
      ]
    },
    {
      "cell_type": "markdown",
      "source": [
        "You can store information within that dictionary using lists. For instance, the names for each of her cats."
      ],
      "metadata": {
        "id": "WJLpkFsGtLLE"
      }
    },
    {
      "cell_type": "code",
      "source": [
        "aslam_life[\"brother name\"] = [\"haris\",\"junaid\", \"faiz\", \"saad\"]"
      ],
      "metadata": {
        "id": "1CFGS69ztJK_"
      },
      "execution_count": 80,
      "outputs": []
    },
    {
      "cell_type": "code",
      "source": [
        "print(aslam_life)"
      ],
      "metadata": {
        "colab": {
          "base_uri": "https://localhost:8080/"
        },
        "id": "b8LQh9XTtyJV",
        "outputId": "a5902729-e0cc-41ba-b5c1-9c6b54df7d0e"
      },
      "execution_count": 81,
      "outputs": [
        {
          "output_type": "stream",
          "name": "stdout",
          "text": [
            "{'age': 24, 'height': 5.8, 'name': 'aslam', 'brother name': ['haris', 'junaid', 'faiz', 'saad']}\n"
          ]
        }
      ]
    },
    {
      "cell_type": "code",
      "source": [
        "aslam_life[\"favorite food\"] = [\"burger\", \"biryani\", \"pizza\", \"pasta\"]"
      ],
      "metadata": {
        "id": "7shn64uMuJpR"
      },
      "execution_count": 82,
      "outputs": []
    },
    {
      "cell_type": "code",
      "source": [
        "print(aslam_life)"
      ],
      "metadata": {
        "colab": {
          "base_uri": "https://localhost:8080/"
        },
        "id": "v07kbE3CujFg",
        "outputId": "bb90dca8-aebb-4f75-d9a7-9c5b54ba0c39"
      },
      "execution_count": 83,
      "outputs": [
        {
          "output_type": "stream",
          "name": "stdout",
          "text": [
            "{'age': 24, 'height': 5.8, 'name': 'aslam', 'brother name': ['haris', 'junaid', 'faiz', 'saad'], 'favorite food': ['burger', 'biryani', 'pizza', 'pasta']}\n"
          ]
        }
      ]
    },
    {
      "cell_type": "markdown",
      "source": [
        "Using dictionaries to complete high priority tasks using AI\n",
        "\n",
        "In the previous lessons you completed the tasks from a list --like the one below-- using AI."
      ],
      "metadata": {
        "id": "Btt8iCwSu9gc"
      }
    },
    {
      "cell_type": "code",
      "source": [
        "#task example, large list not ordered by priority. Want to prioritize\n",
        "list_of_tasks = [\n",
        "    \"Compose a brief email to my boss explaining that I will be late for tomorrow's meeting.\",\n",
        "    \"Write a birthday poem for Otto, celebrating his 28th birthday.\",\n",
        "    \"Write a 300-word review of the movie 'The Arrival'.\",\n",
        "    \"Draft a thank-you note for my neighbor Dapinder who helped water my plants while I was on vacation.\",\n",
        "    \"Create an outline for a presentation on the benefits of remote work.\"\n",
        "]"
      ],
      "metadata": {
        "id": "fz1oVe3DvJs1"
      },
      "execution_count": 1,
      "outputs": []
    },
    {
      "cell_type": "markdown",
      "source": [
        "In reality, not all tasks would have the same priority. In fact, for this example, you have tasks with high, medium and low priorities as defined by the following lists:"
      ],
      "metadata": {
        "id": "w_RKbUpAv1mp"
      }
    },
    {
      "cell_type": "code",
      "source": [
        "#instead of that unorganized large list, divide tasks by priority\n",
        "high_priority_tasks = [\n",
        "    \"Compose a brief email to my boss explaining that I will be late for tomorrow's meeting.\",\n",
        "    \"Create an outline for a presentation on the benefits of remote work.\"\n",
        "]\n",
        "\n",
        "medium_priority_tasks = [\n",
        "    \"Write a birthday poem for Otto, celebrating his 28th birthday.\",\n",
        "    \"Draft a thank-you note for my neighbor Dapinder who helped water my plants while I was on vacation.\"\n",
        "]\n",
        "\n",
        "low_priority_tasks = [\n",
        "    \"Write a 300-word review of the movie 'The Arrival'.\"\n",
        "]"
      ],
      "metadata": {
        "id": "fyWEYMVbvyWX"
      },
      "execution_count": 2,
      "outputs": []
    },
    {
      "cell_type": "markdown",
      "source": [
        "You can use dictionaries to store all the tasks with their priorities in a single data object. Run the following cell to create that dictionary and display its contents:"
      ],
      "metadata": {
        "id": "tKtVKw-ewMqr"
      }
    },
    {
      "cell_type": "code",
      "source": [
        "#create dictionary with all tasks\n",
        "#dictionaries can contain lists!\n",
        "prioritized_tasks = {\n",
        "    \"high_priority\": high_priority_tasks,\n",
        "    \"medium_priority\": medium_priority_tasks,\n",
        "    \"low_priority\": low_priority_tasks\n",
        "}"
      ],
      "metadata": {
        "id": "AGzJku_cvMCP"
      },
      "execution_count": 3,
      "outputs": []
    },
    {
      "cell_type": "code",
      "source": [
        "print(prioritized_tasks)"
      ],
      "metadata": {
        "colab": {
          "base_uri": "https://localhost:8080/"
        },
        "id": "T3JjX_r6wVup",
        "outputId": "61aa7fed-1d88-476a-e9fd-afb66e1d7203"
      },
      "execution_count": 4,
      "outputs": [
        {
          "output_type": "stream",
          "name": "stdout",
          "text": [
            "{'high_priority': [\"Compose a brief email to my boss explaining that I will be late for tomorrow's meeting.\", 'Create an outline for a presentation on the benefits of remote work.'], 'medium_priority': ['Write a birthday poem for Otto, celebrating his 28th birthday.', 'Draft a thank-you note for my neighbor Dapinder who helped water my plants while I was on vacation.'], 'low_priority': [\"Write a 300-word review of the movie 'The Arrival'.\"]}\n"
          ]
        }
      ]
    },
    {
      "cell_type": "markdown",
      "source": [
        "With this data structure, it is easy for you to focus only on the high priority tasks and complete them using a for loop and LLMs:"
      ],
      "metadata": {
        "id": "E5zcISUMweGr"
      }
    },
    {
      "cell_type": "code",
      "source": [
        "print(prioritized_tasks[\"high_priority\"])"
      ],
      "metadata": {
        "colab": {
          "base_uri": "https://localhost:8080/"
        },
        "id": "MHRZdw8MwhH3",
        "outputId": "e8f815d2-0a88-4b9f-938c-324ddb5f6174"
      },
      "execution_count": 6,
      "outputs": [
        {
          "output_type": "stream",
          "name": "stdout",
          "text": [
            "[\"Compose a brief email to my boss explaining that I will be late for tomorrow's meeting.\", 'Create an outline for a presentation on the benefits of remote work.']\n"
          ]
        }
      ]
    },
    {
      "cell_type": "code",
      "source": [
        "#complete high priority tasks\n",
        "for task in prioritized_tasks[\"high_priority\"]:\n",
        "    print_llm_response(task)"
      ],
      "metadata": {
        "colab": {
          "base_uri": "https://localhost:8080/",
          "height": 1000
        },
        "id": "qrjmjDLvwnaK",
        "outputId": "e19c7522-9be6-40d2-bdbb-d39fc5dc45f1"
      },
      "execution_count": 10,
      "outputs": [
        {
          "output_type": "stream",
          "name": "stdout",
          "text": [
            "Subject: Running Late for [Meeting Name] Tomorrow\n",
            "\n",
            "Hi [Boss's Name],\n",
            "\n",
            "Just wanted to let you know I'll be running a bit late for tomorrow's [Meeting Name] meeting. I should arrive around [estimated arrival time]. \n",
            "\n",
            "My apologies for any inconvenience.\n",
            "\n",
            "Best,\n",
            "[Your Name] \n",
            "\n",
            "## Presentation Outline: The Benefits of Remote Work\n",
            "\n",
            "**I. Introduction (2 minutes)**\n",
            "* **Hook:** Start with a captivating statistic or anecdote about the rise of remote work. \n",
            "* **Background:** Briefly explain the shift towards remote work and its increasing popularity.\n",
            "* **Thesis Statement:** State the main argument:  Remote work offers significant advantages for both employees and employers.\n",
            "\n",
            "**II. Benefits for Employees (5 minutes)**\n",
            "* **Increased Flexibility:** \n",
            "    * Work-life balance: More time for family, personal pursuits, and errands.\n",
            "    * Flexible schedules: Ability to adjust work hours to personal needs and preferences.\n",
            "    * Reduced commute time:  Saves time, money, and reduces stress.\n",
            "* **Enhanced Productivity:**\n",
            "    * Fewer distractions:  Quiet and comfortable work environment.\n",
            "    * Greater autonomy and control:  Increased focus and self-motivation.\n",
            "    * Improved mental well-being: Reduced stress and burnout.\n",
            "* **Greater Work-Life Integration:**\n",
            "    * More time for hobbies, exercise, and personal development.\n",
            "    * Reduced childcare costs and stress.\n",
            "    * Improved overall well-being and happiness.\n",
            "* **Career Advancement Opportunities:**\n",
            "    * Access to a wider range of job opportunities.\n",
            "    * Greater exposure to diverse teams and projects.\n",
            "    * Enhanced skills and knowledge acquisition through online learning.\n",
            "\n",
            "**III. Benefits for Employers (5 minutes)**\n",
            "* **Increased Productivity:**\n",
            "    * Higher engagement and morale: Employees feel more valued and empowered.\n",
            "    * Reduced absenteeism and turnover:  Employees are more likely to stay.\n",
            "    * Lower overhead costs:  Reduced office space, utilities, and equipment expenses.\n",
            "* **Enhanced Talent Pool:**\n",
            "    * Access to a global workforce:  Expand hiring pool and increase diversity.\n",
            "    * Ability to recruit and retain top talent:  Offer flexibility and remote options.\n",
            "    * Reduced recruitment costs:  Simplified hiring process.\n",
            "* **Improved Innovation and Collaboration:**\n",
            "    * Foster a culture of creativity and collaboration.\n",
            "    * Encourage diverse perspectives and ideas.\n",
            "    * Leverage online tools and platforms for seamless communication.\n",
            "\n",
            "**IV. Overcoming Challenges (3 minutes)**\n",
            "* **Maintaining Communication and Collaboration:**\n",
            "    * Utilize effective communication tools and strategies.\n",
            "    * Encourage team building activities and virtual interactions.\n",
            "    * Establish clear expectations and responsibilities.\n",
            "* **Ensuring Employee Well-being:**\n",
            "    * Promote work-life balance and encourage breaks.\n",
            "    * Foster a positive and supportive work environment.\n",
            "    * Offer resources for mental health and well-being.\n",
            "* **Managing Security and Data Privacy:**\n",
            "    * Implement robust security protocols and measures.\n",
            "    * Ensure compliance with data privacy regulations.\n",
            "    * Provide employees with security awareness training.\n",
            "\n",
            "**V. Conclusion (2 minutes)**\n",
            "* **Reiterate the key benefits of remote work:** Flexibility, productivity, talent pool, and innovation.\n",
            "* **Call to action:** Encourage audience to explore the possibilities of remote work.\n",
            "* **Closing statement:**  Remote work is more than a trend – it's a transformative force in the future of work.\n",
            "\n",
            "**VI. Q&A (5 minutes)**\n",
            "\n",
            "**Visual Aids:**\n",
            "* Use compelling visuals to illustrate the benefits of remote work.\n",
            "* Include charts, graphs, and images showcasing statistics, work-life balance, and productivity.\n",
            "* Showcase examples of successful remote work companies and their achievements.\n",
            "\n",
            "**Note:** Adjust the time allocation for each section based on the presentation's overall duration and your preferred pacing.\n"
          ]
        }
      ]
    },
    {
      "cell_type": "markdown",
      "source": [
        "In the next lesson we will continue exploring dictionaries. You will see how to use values to create prompts to use with LLMs."
      ],
      "metadata": {
        "id": "6VB0PkMMxBoS"
      }
    },
    {
      "cell_type": "markdown",
      "source": [
        "Extra practice\n",
        "\n",
        "Please go through the exercises in the cells below if you want some extra practice for the topics you covered in this lesson."
      ],
      "metadata": {
        "id": "i7FZ5IvtxIGm"
      }
    },
    {
      "cell_type": "code",
      "source": [
        "# Update the description for the\n",
        "# Rocky Road flavor using get_llm_response()\n",
        "\n",
        "flavor = \"Rocky Road\"\n",
        "prompt = f\"Provide a brief description for the {flavor} ice cream flavor\"\n",
        "\n",
        "### EDIT THE FOLLOWING CODE ###\n",
        "ice_cream_flavors[\"Rocky Road\"] = get_llm_response(prompt)\n",
        "### --------------- ###"
      ],
      "metadata": {
        "colab": {
          "base_uri": "https://localhost:8080/",
          "height": 193
        },
        "id": "vbXHsvEFxSRf",
        "outputId": "50719bdf-348b-4761-e0ab-9a509b68bca9"
      },
      "execution_count": 12,
      "outputs": [
        {
          "output_type": "error",
          "ename": "NameError",
          "evalue": "name 'ice_cream_flavors' is not defined",
          "traceback": [
            "\u001b[0;31m---------------------------------------------------------------------------\u001b[0m",
            "\u001b[0;31mNameError\u001b[0m                                 Traceback (most recent call last)",
            "\u001b[0;32m<ipython-input-12-e25b5e086f0a>\u001b[0m in \u001b[0;36m<cell line: 8>\u001b[0;34m()\u001b[0m\n\u001b[1;32m      6\u001b[0m \u001b[0;34m\u001b[0m\u001b[0m\n\u001b[1;32m      7\u001b[0m \u001b[0;31m### EDIT THE FOLLOWING CODE ###\u001b[0m\u001b[0;34m\u001b[0m\u001b[0;34m\u001b[0m\u001b[0m\n\u001b[0;32m----> 8\u001b[0;31m \u001b[0mice_cream_flavors\u001b[0m\u001b[0;34m[\u001b[0m\u001b[0;34m\"Rocky Road\"\u001b[0m\u001b[0;34m]\u001b[0m \u001b[0;34m=\u001b[0m \u001b[0mget_llm_response\u001b[0m\u001b[0;34m(\u001b[0m\u001b[0mprompt\u001b[0m\u001b[0;34m)\u001b[0m\u001b[0;34m\u001b[0m\u001b[0;34m\u001b[0m\u001b[0m\n\u001b[0m\u001b[1;32m      9\u001b[0m \u001b[0;31m### --------------- ###\u001b[0m\u001b[0;34m\u001b[0m\u001b[0;34m\u001b[0m\u001b[0m\n",
            "\u001b[0;31mNameError\u001b[0m: name 'ice_cream_flavors' is not defined"
          ]
        }
      ]
    },
    {
      "source": [
        "# Update the description for the\n",
        "# Rocky Road flavor using get_llm_response()\n",
        "\n",
        "# Create an empty dictionary to store ice cream flavors\n",
        "ice_cream_flavors = {} # Initialize ice_cream_flavors as a dictionary\n",
        "\n",
        "flavor = \"Rocky Road\"\n",
        "prompt = f\"Provide a brief description for the {flavor} ice cream flavor\"\n",
        "\n",
        "### EDIT THE FOLLOWING CODE ###\n",
        "ice_cream_flavors[\"Rocky Road\"] = get_llm_response(prompt)\n",
        "### --------------- ###\n",
        "print(ice_cream_flavors)"
      ],
      "cell_type": "code",
      "metadata": {
        "colab": {
          "base_uri": "https://localhost:8080/",
          "height": 54
        },
        "id": "2AnJLlKXxzQW",
        "outputId": "52c93b9a-0e4a-4ba5-c089-eae2c145e9fa"
      },
      "execution_count": 14,
      "outputs": [
        {
          "output_type": "stream",
          "name": "stdout",
          "text": [
            "{'Rocky Road': \"Rocky Road ice cream is a classic chocolate ice cream studded with gooey marshmallows and crunchy pecans. It's a perfect combination of sweet, chewy, and nutty, offering a delightful textural experience with every bite. \\n\"}\n"
          ]
        }
      ]
    },
    {
      "cell_type": "code",
      "source": [
        "# Complete the medium priority tasks\n",
        "# by modifying the following code\n",
        "\n",
        "### EDIT THE FOLLOWING CODE ###\n",
        "for task in prioritized_tasks[\"high_priority\"]:\n",
        "    print_llm_response(task)\n",
        "### --------------- ###"
      ],
      "metadata": {
        "colab": {
          "base_uri": "https://localhost:8080/",
          "height": 1000
        },
        "id": "HtE-kV31yHzl",
        "outputId": "6eef2cb2-5a3c-42cb-887b-2618b8f812bf"
      },
      "execution_count": 15,
      "outputs": [
        {
          "output_type": "stream",
          "name": "stdout",
          "text": [
            "Subject: Running Late for Tomorrow's Meeting\n",
            "\n",
            "Hi [Boss's name],\n",
            "\n",
            "Just wanted to let you know that I will be running a few minutes late for tomorrow's meeting at [time]. I apologize for any inconvenience this may cause.\n",
            "\n",
            "I'll be there as soon as possible.\n",
            "\n",
            "Thanks,\n",
            "[Your name] \n",
            "\n",
            "## Presentation Outline: The Benefits of Remote Work\n",
            "\n",
            "**I. Introduction (2 minutes)**\n",
            "\n",
            "* **Grab attention:** Start with a statistic or anecdote about the rise of remote work.\n",
            "* **Introduce topic:** Briefly explain what remote work is and its growing popularity.\n",
            "* **Establish relevance:** Briefly outline the potential benefits of remote work for both individuals and organizations.\n",
            "* **Roadmap:** Briefly outline the key points that will be covered in the presentation.\n",
            "\n",
            "**II. Benefits for Individuals (5 minutes)**\n",
            "\n",
            "* **Flexibility & Work-Life Balance:**\n",
            "    * Increased control over work schedule and environment.\n",
            "    * Reduced commute time and stress.\n",
            "    * More time for personal pursuits, family, and hobbies.\n",
            "* **Increased Productivity:**\n",
            "    * Fewer distractions and interruptions.\n",
            "    * Enhanced focus and concentration.\n",
            "    * Ability to work in a more comfortable and conducive environment.\n",
            "* **Improved Health & Well-being:**\n",
            "    * Reduced stress and anxiety.\n",
            "    * Increased physical activity and healthy eating habits.\n",
            "    * Greater control over work-life balance, leading to improved mental health.\n",
            "* **Personal Growth & Development:**\n",
            "    * Opportunities for self-directed learning and skill development.\n",
            "    * Greater autonomy and decision-making power.\n",
            "    * Increased responsibility and accountability.\n",
            "\n",
            "**III. Benefits for Organizations (5 minutes)**\n",
            "\n",
            "* **Reduced Costs:**\n",
            "    * Lower overhead costs (office space, utilities, etc.).\n",
            "    * Reduced employee turnover and absenteeism.\n",
            "    * Access to a wider talent pool.\n",
            "* **Increased Productivity:**\n",
            "    * Improved employee morale and engagement.\n",
            "    * More efficient use of time and resources.\n",
            "    * Increased flexibility and agility.\n",
            "* **Improved Employee Satisfaction & Retention:**\n",
            "    * Enhanced employee well-being and work-life balance.\n",
            "    * Increased trust and autonomy.\n",
            "    * Greater sense of purpose and belonging.\n",
            "* **Enhanced Innovation:**\n",
            "    * Access to diverse perspectives and experiences.\n",
            "    * Greater collaboration and communication across teams.\n",
            "    * Fostering a culture of experimentation and creativity.\n",
            "\n",
            "**IV. Challenges & Considerations (3 minutes)**\n",
            "\n",
            "* **Potential drawbacks:**\n",
            "    * Isolation and loneliness.\n",
            "    * Difficulty maintaining work-life boundaries.\n",
            "    * Lack of face-to-face interaction and collaboration.\n",
            "* **Overcoming challenges:**\n",
            "    * Implementing strategies for communication and collaboration.\n",
            "    * Setting clear expectations and boundaries.\n",
            "    * Fostering a sense of community and belonging.\n",
            "\n",
            "**V. Conclusion (2 minutes)**\n",
            "\n",
            "* **Recap key benefits of remote work.**\n",
            "* **Reiterate the importance of addressing potential challenges.**\n",
            "* **Encourage the audience to consider adopting remote work practices.**\n",
            "* **Call to action:** Suggest resources or steps for further exploration.\n",
            "\n",
            "**VI. Q&A (5 minutes)**\n",
            "\n",
            "* **Open the floor to audience questions.**\n",
            "* **Provide thoughtful and informative responses.**\n",
            "\n",
            "**Visual Aids:**\n",
            "\n",
            "* Charts and graphs to illustrate key data points.\n",
            "* Images and videos to showcase the benefits of remote work.\n",
            "* A clear and concise presentation design to enhance engagement.\n",
            "\n",
            "**Note:** This outline can be adapted to fit the specific needs and audience of the presentation. \n",
            "\n"
          ]
        }
      ]
    },
    {
      "source": [
        "# Assume prioritized_tasks is a dictionary with a \"medium_priority\" key\n",
        "# containing a list of tasks.\n",
        "prioritized_tasks = {\"medium_priority\": []}  # Initialize with an empty list for \"medium_priority\"\n",
        "\n",
        "\n",
        "### EDIT THE FOLLOWING CODE ###\n",
        "for task in prioritized_tasks[\"medium_priority\"]: # Access \"medium_priority\" tasks\n",
        "    print_llm_response(task) # Process each task\n",
        "### --------------- ###"
      ],
      "cell_type": "code",
      "metadata": {
        "id": "Qi79uC2Yygto"
      },
      "execution_count": 16,
      "outputs": []
    },
    {
      "cell_type": "markdown",
      "source": [
        "Explanation of changes:\n",
        "\n",
        "Dictionary Initialization (Important):\n",
        "The line prioritized_tasks = {\"medium_priority\": []} has been added before the loop.\n",
        "This initializes the prioritized_tasks dictionary with a key \"medium_priority\" and assigns an empty list [] to it.\n",
        "You absolutely need to replace this empty list with your actual list of medium-priority tasks. For example:"
      ],
      "metadata": {
        "id": "lXtWhc2uyrsC"
      }
    },
    {
      "cell_type": "code",
      "source": [
        "prioritized_tasks = {\n",
        "        \"medium_priority\": [\"Send follow-up emails\", \"Update project documentation\", \"Research new vendors\"]\n",
        "    }"
      ],
      "metadata": {
        "id": "HOPY1hdXytSZ"
      },
      "execution_count": 17,
      "outputs": []
    },
    {
      "cell_type": "markdown",
      "source": [
        "Access Medium Priority Tasks:\n",
        "\n",
        "The loop now iterates through prioritized_tasks[\"medium_priority\"] to access the tasks under the \"medium_priority\" key.\n",
        "Process Tasks:\n",
        "\n",
        "The print_llm_response(task) line remains the same, as it's used to process each task using the print_llm_response function.\n",
        "Without initializing the prioritized_tasks dictionary with the \"medium_priority\" key and your actual tasks, you'll likely encounter a KeyError because the key won't exist in the dictionary. Make sure to replace the empty list [] with your real tasks."
      ],
      "metadata": {
        "id": "3qAOYTQhy1Nn"
      }
    },
    {
      "cell_type": "code",
      "source": [
        "print(prioritized_tasks)"
      ],
      "metadata": {
        "colab": {
          "base_uri": "https://localhost:8080/"
        },
        "id": "JVy-Rd39y_Xo",
        "outputId": "7c3e1da9-f819-41d7-9534-b7a13c0a694a"
      },
      "execution_count": 18,
      "outputs": [
        {
          "output_type": "stream",
          "name": "stdout",
          "text": [
            "{'medium_priority': ['Send follow-up emails', 'Update project documentation', 'Research new vendors']}\n"
          ]
        }
      ]
    }
  ],
  "metadata": {
    "kernelspec": {
      "display_name": "Python 3",
      "name": "python3"
    },
    "language_info": {
      "codemirror_mode": {
        "name": "ipython",
        "version": 3
      },
      "file_extension": ".py",
      "mimetype": "text/x-python",
      "name": "python",
      "nbconvert_exporter": "python",
      "pygments_lexer": "ipython3",
      "version": "3.12.6"
    },
    "colab": {
      "provenance": [],
      "gpuType": "T4"
    },
    "accelerator": "GPU"
  },
  "nbformat": 4,
  "nbformat_minor": 0
}